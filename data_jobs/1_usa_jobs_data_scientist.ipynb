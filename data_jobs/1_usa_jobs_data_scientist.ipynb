{
 "cells": [
  {
   "cell_type": "code",
   "execution_count": 6,
   "id": "94490d4d",
   "metadata": {},
   "outputs": [],
   "source": [
    "import re\n",
    "import time\n",
    "import requests\n",
    "import numpy as np\n",
    "\n",
    "from bs4 import BeautifulSoup\n",
    "from collections import Counter\n",
    "from selenium import webdriver\n",
    "\n",
    "from wordcloud import WordCloud, STOPWORDS\n",
    "import matplotlib.pyplot as plt\n",
    "import pandas as pd\n",
    "\n",
    "from selenium.webdriver.common.by import By\n"
   ]
  },
  {
   "cell_type": "code",
   "execution_count": 7,
   "id": "4bc8aaf6",
   "metadata": {},
   "outputs": [],
   "source": [
    "url = 'https://www.usajobs.gov/Search/Results?k=data%20scientist'"
   ]
  },
  {
   "cell_type": "code",
   "execution_count": 8,
   "id": "ef4d1316",
   "metadata": {},
   "outputs": [
    {
     "name": "stdout",
     "output_type": "stream",
     "text": [
      "<h4 class=\"usajobs-search-controls__results-count\" id=\"page-info\">\n",
      " Viewing 1 – 25 of 172 jobs\n",
      "</h4>\n",
      "\n"
     ]
    }
   ],
   "source": [
    "## launch headless Edge instance\n",
    "options = webdriver.EdgeOptions()\n",
    "options.add_argument('--headless')\n",
    "\n",
    "driver = webdriver.Edge(options = options)\n",
    "driver.get(url)\n",
    "\n",
    "## grab html from page\n",
    "page = driver.page_source.encode('utf-8')\n",
    "soup = BeautifulSoup(page, 'html.parser')\n",
    "\n",
    "## find total number of jobs found\n",
    "job_count_ele = soup.find(id = 'page-info')\n",
    "print(job_count_ele.prettify())\n"
   ]
  },
  {
   "cell_type": "code",
   "execution_count": 9,
   "id": "5457de3d",
   "metadata": {},
   "outputs": [
    {
     "name": "stdout",
     "output_type": "stream",
     "text": [
      "172\n"
     ]
    }
   ],
   "source": [
    "job_count = int(re.search(r'[0-9]+(?= jobs)', str(job_count_ele)).group())\n",
    "print(job_count)"
   ]
  },
  {
   "cell_type": "code",
   "execution_count": 10,
   "id": "23079ebb",
   "metadata": {},
   "outputs": [
    {
     "name": "stdout",
     "output_type": "stream",
     "text": [
      "Starting\n",
      "0\n",
      "Number of jobs\n",
      "25\n",
      "/job/712691100\n",
      "/job/712013300\n",
      "/job/711571800\n",
      "/job/713618300\n",
      "/job/713005400\n",
      "/job/713341800\n",
      "/job/709580700\n",
      "/job/713175300\n",
      "/job/712609000\n",
      "/job/712628800\n",
      "/job/710743700\n",
      "/job/710744000\n",
      "/job/711368100\n",
      "/job/713151400\n",
      "/job/713153000\n",
      "/job/711338200\n",
      "/job/711343400\n",
      "/job/713292100\n",
      "/job/711774600\n",
      "/job/707297000\n",
      "/job/711153200\n",
      "/job/712682000\n",
      "/job/710983900\n",
      "/job/690711800\n",
      "/job/687971500\n"
     ]
    },
    {
     "name": "stderr",
     "output_type": "stream",
     "text": [
      "C:\\Users\\kayle\\AppData\\Local\\Temp\\ipykernel_14044\\1868852972.py:72: FutureWarning: The default value of regex will change from True to False in a future version.\n",
      "  df2.job_title = df2.job_title.str.replace('[^a-zA-Z0-9#&\\.\\+\\-]', ' ')\n",
      "C:\\Users\\kayle\\AppData\\Local\\Temp\\ipykernel_14044\\1868852972.py:73: FutureWarning: The default value of regex will change from True to False in a future version.\n",
      "  df2.job_summary = df2.job_summary.str.replace('[^a-zA-Z0-9#&\\.\\+\\-]', ' ')\n",
      "C:\\Users\\kayle\\AppData\\Local\\Temp\\ipykernel_14044\\1868852972.py:74: FutureWarning: The default value of regex will change from True to False in a future version.\n",
      "  df2.job_location = df2.job_location.str.replace('[^a-zA-Z0-9#&\\.\\+\\-]', ' ')\n",
      "C:\\Users\\kayle\\AppData\\Local\\Temp\\ipykernel_14044\\1868852972.py:75: FutureWarning: The default value of regex will change from True to False in a future version.\n",
      "  df2.job_quals = df2.job_quals.str.replace('[^a-zA-Z0-9#&\\.\\+\\-]', ' ')\n",
      "C:\\Users\\kayle\\AppData\\Local\\Temp\\ipykernel_14044\\1868852972.py:76: FutureWarning: The default value of regex will change from True to False in a future version.\n",
      "  df2.job_salary = df2.job_salary.str.replace('[^0-9]','-')\n",
      "C:\\Users\\kayle\\AppData\\Local\\Temp\\ipykernel_14044\\1868852972.py:77: FutureWarning: The default value of regex will change from True to False in a future version.\n",
      "  df2.job_duties = df2.job_duties.str.replace('[^a-zA-Z0-9#&\\.\\+\\-]',' ')\n"
     ]
    },
    {
     "name": "stdout",
     "output_type": "stream",
     "text": [
      "Starting\n",
      "1\n",
      "Number of jobs\n",
      "25\n",
      "/job/688790200\n",
      "/job/710921700\n",
      "/job/711871300\n",
      "/job/711116800\n",
      "/job/708343200\n",
      "/job/708877400\n",
      "/job/708878300\n",
      "/job/708344100\n",
      "/job/713744200\n",
      "/job/688827800\n",
      "/job/711822700\n",
      "/job/713268100\n",
      "/job/713268300\n",
      "/job/707624900\n",
      "/job/706077900\n",
      "/job/704118800\n",
      "/job/713440900\n",
      "/job/712229400\n",
      "/job/713491300\n",
      "/job/710234200\n",
      "/job/710250300\n",
      "/job/693346100\n",
      "/job/712806900\n",
      "/job/711333700\n",
      "/job/710667300\n"
     ]
    },
    {
     "name": "stderr",
     "output_type": "stream",
     "text": [
      "C:\\Users\\kayle\\AppData\\Local\\Temp\\ipykernel_14044\\1868852972.py:72: FutureWarning: The default value of regex will change from True to False in a future version.\n",
      "  df2.job_title = df2.job_title.str.replace('[^a-zA-Z0-9#&\\.\\+\\-]', ' ')\n",
      "C:\\Users\\kayle\\AppData\\Local\\Temp\\ipykernel_14044\\1868852972.py:73: FutureWarning: The default value of regex will change from True to False in a future version.\n",
      "  df2.job_summary = df2.job_summary.str.replace('[^a-zA-Z0-9#&\\.\\+\\-]', ' ')\n",
      "C:\\Users\\kayle\\AppData\\Local\\Temp\\ipykernel_14044\\1868852972.py:74: FutureWarning: The default value of regex will change from True to False in a future version.\n",
      "  df2.job_location = df2.job_location.str.replace('[^a-zA-Z0-9#&\\.\\+\\-]', ' ')\n",
      "C:\\Users\\kayle\\AppData\\Local\\Temp\\ipykernel_14044\\1868852972.py:75: FutureWarning: The default value of regex will change from True to False in a future version.\n",
      "  df2.job_quals = df2.job_quals.str.replace('[^a-zA-Z0-9#&\\.\\+\\-]', ' ')\n",
      "C:\\Users\\kayle\\AppData\\Local\\Temp\\ipykernel_14044\\1868852972.py:76: FutureWarning: The default value of regex will change from True to False in a future version.\n",
      "  df2.job_salary = df2.job_salary.str.replace('[^0-9]','-')\n",
      "C:\\Users\\kayle\\AppData\\Local\\Temp\\ipykernel_14044\\1868852972.py:77: FutureWarning: The default value of regex will change from True to False in a future version.\n",
      "  df2.job_duties = df2.job_duties.str.replace('[^a-zA-Z0-9#&\\.\\+\\-]',' ')\n"
     ]
    },
    {
     "name": "stdout",
     "output_type": "stream",
     "text": [
      "Starting\n",
      "2\n",
      "Number of jobs\n",
      "25\n",
      "/job/710667400\n",
      "/job/713178900\n",
      "/job/702071600\n",
      "/job/710640100\n",
      "/job/710953200\n",
      "/job/703381400\n",
      "/job/697689100\n",
      "/job/712793800\n",
      "/job/712541300\n",
      "/job/713074100\n",
      "/job/712053900\n",
      "/job/713073700\n",
      "/job/713074000\n",
      "/job/709410700\n",
      "/job/710805500\n",
      "/job/710933800\n",
      "/job/712516000\n",
      "/job/712615500\n",
      "/job/712296600\n",
      "/job/706746900\n",
      "/job/697044300\n",
      "/job/681462700\n",
      "/job/711985100\n",
      "/job/711985200\n",
      "/job/711367300\n"
     ]
    },
    {
     "name": "stderr",
     "output_type": "stream",
     "text": [
      "C:\\Users\\kayle\\AppData\\Local\\Temp\\ipykernel_14044\\1868852972.py:72: FutureWarning: The default value of regex will change from True to False in a future version.\n",
      "  df2.job_title = df2.job_title.str.replace('[^a-zA-Z0-9#&\\.\\+\\-]', ' ')\n",
      "C:\\Users\\kayle\\AppData\\Local\\Temp\\ipykernel_14044\\1868852972.py:73: FutureWarning: The default value of regex will change from True to False in a future version.\n",
      "  df2.job_summary = df2.job_summary.str.replace('[^a-zA-Z0-9#&\\.\\+\\-]', ' ')\n",
      "C:\\Users\\kayle\\AppData\\Local\\Temp\\ipykernel_14044\\1868852972.py:74: FutureWarning: The default value of regex will change from True to False in a future version.\n",
      "  df2.job_location = df2.job_location.str.replace('[^a-zA-Z0-9#&\\.\\+\\-]', ' ')\n",
      "C:\\Users\\kayle\\AppData\\Local\\Temp\\ipykernel_14044\\1868852972.py:75: FutureWarning: The default value of regex will change from True to False in a future version.\n",
      "  df2.job_quals = df2.job_quals.str.replace('[^a-zA-Z0-9#&\\.\\+\\-]', ' ')\n",
      "C:\\Users\\kayle\\AppData\\Local\\Temp\\ipykernel_14044\\1868852972.py:76: FutureWarning: The default value of regex will change from True to False in a future version.\n",
      "  df2.job_salary = df2.job_salary.str.replace('[^0-9]','-')\n",
      "C:\\Users\\kayle\\AppData\\Local\\Temp\\ipykernel_14044\\1868852972.py:77: FutureWarning: The default value of regex will change from True to False in a future version.\n",
      "  df2.job_duties = df2.job_duties.str.replace('[^a-zA-Z0-9#&\\.\\+\\-]',' ')\n"
     ]
    },
    {
     "name": "stdout",
     "output_type": "stream",
     "text": [
      "Starting\n",
      "3\n",
      "Number of jobs\n",
      "25\n",
      "/job/710667400\n",
      "/job/713178900\n",
      "/job/702071600\n",
      "/job/710640100\n",
      "/job/710953200\n",
      "/job/703381400\n",
      "/job/697689100\n",
      "/job/712793800\n",
      "/job/712541300\n",
      "/job/713074100\n",
      "/job/712053900\n",
      "/job/713073700\n",
      "/job/713074000\n",
      "/job/709410700\n",
      "/job/710805500\n",
      "/job/710933800\n",
      "/job/712516000\n",
      "/job/712615500\n",
      "/job/712296600\n",
      "/job/706746900\n",
      "/job/697044300\n",
      "/job/681462700\n",
      "/job/711985100\n",
      "/job/711985200\n",
      "/job/711367300\n"
     ]
    },
    {
     "name": "stderr",
     "output_type": "stream",
     "text": [
      "C:\\Users\\kayle\\AppData\\Local\\Temp\\ipykernel_14044\\1868852972.py:72: FutureWarning: The default value of regex will change from True to False in a future version.\n",
      "  df2.job_title = df2.job_title.str.replace('[^a-zA-Z0-9#&\\.\\+\\-]', ' ')\n",
      "C:\\Users\\kayle\\AppData\\Local\\Temp\\ipykernel_14044\\1868852972.py:73: FutureWarning: The default value of regex will change from True to False in a future version.\n",
      "  df2.job_summary = df2.job_summary.str.replace('[^a-zA-Z0-9#&\\.\\+\\-]', ' ')\n",
      "C:\\Users\\kayle\\AppData\\Local\\Temp\\ipykernel_14044\\1868852972.py:74: FutureWarning: The default value of regex will change from True to False in a future version.\n",
      "  df2.job_location = df2.job_location.str.replace('[^a-zA-Z0-9#&\\.\\+\\-]', ' ')\n",
      "C:\\Users\\kayle\\AppData\\Local\\Temp\\ipykernel_14044\\1868852972.py:75: FutureWarning: The default value of regex will change from True to False in a future version.\n",
      "  df2.job_quals = df2.job_quals.str.replace('[^a-zA-Z0-9#&\\.\\+\\-]', ' ')\n",
      "C:\\Users\\kayle\\AppData\\Local\\Temp\\ipykernel_14044\\1868852972.py:76: FutureWarning: The default value of regex will change from True to False in a future version.\n",
      "  df2.job_salary = df2.job_salary.str.replace('[^0-9]','-')\n",
      "C:\\Users\\kayle\\AppData\\Local\\Temp\\ipykernel_14044\\1868852972.py:77: FutureWarning: The default value of regex will change from True to False in a future version.\n",
      "  df2.job_duties = df2.job_duties.str.replace('[^a-zA-Z0-9#&\\.\\+\\-]',' ')\n"
     ]
    },
    {
     "name": "stdout",
     "output_type": "stream",
     "text": [
      "Starting\n",
      "4\n",
      "Number of jobs\n",
      "25\n",
      "/job/711924800\n",
      "/job/712622100\n",
      "/job/704732200\n",
      "/job/710702900\n",
      "/job/694312500\n",
      "/job/704731300\n",
      "/job/713287900\n",
      "/job/713006500\n",
      "/job/713046100\n",
      "/job/680725200\n",
      "/job/680725300\n",
      "/job/680725400\n",
      "/job/713538800\n",
      "/job/713558400\n",
      "/job/694312200\n",
      "/job/710023200\n",
      "/job/709213200\n",
      "/job/711756900\n",
      "/job/711757500\n",
      "/job/711489800\n",
      "/job/711490300\n",
      "/job/710357900\n",
      "/job/711924100\n",
      "/job/711992600\n",
      "/job/704818400\n"
     ]
    },
    {
     "name": "stderr",
     "output_type": "stream",
     "text": [
      "C:\\Users\\kayle\\AppData\\Local\\Temp\\ipykernel_14044\\1868852972.py:72: FutureWarning: The default value of regex will change from True to False in a future version.\n",
      "  df2.job_title = df2.job_title.str.replace('[^a-zA-Z0-9#&\\.\\+\\-]', ' ')\n",
      "C:\\Users\\kayle\\AppData\\Local\\Temp\\ipykernel_14044\\1868852972.py:73: FutureWarning: The default value of regex will change from True to False in a future version.\n",
      "  df2.job_summary = df2.job_summary.str.replace('[^a-zA-Z0-9#&\\.\\+\\-]', ' ')\n",
      "C:\\Users\\kayle\\AppData\\Local\\Temp\\ipykernel_14044\\1868852972.py:74: FutureWarning: The default value of regex will change from True to False in a future version.\n",
      "  df2.job_location = df2.job_location.str.replace('[^a-zA-Z0-9#&\\.\\+\\-]', ' ')\n",
      "C:\\Users\\kayle\\AppData\\Local\\Temp\\ipykernel_14044\\1868852972.py:75: FutureWarning: The default value of regex will change from True to False in a future version.\n",
      "  df2.job_quals = df2.job_quals.str.replace('[^a-zA-Z0-9#&\\.\\+\\-]', ' ')\n",
      "C:\\Users\\kayle\\AppData\\Local\\Temp\\ipykernel_14044\\1868852972.py:76: FutureWarning: The default value of regex will change from True to False in a future version.\n",
      "  df2.job_salary = df2.job_salary.str.replace('[^0-9]','-')\n",
      "C:\\Users\\kayle\\AppData\\Local\\Temp\\ipykernel_14044\\1868852972.py:77: FutureWarning: The default value of regex will change from True to False in a future version.\n",
      "  df2.job_duties = df2.job_duties.str.replace('[^a-zA-Z0-9#&\\.\\+\\-]',' ')\n"
     ]
    },
    {
     "name": "stdout",
     "output_type": "stream",
     "text": [
      "Starting\n",
      "5\n",
      "Number of jobs\n",
      "25\n",
      "/job/704822200\n",
      "/job/712705900\n",
      "/job/710358700\n",
      "/job/705224300\n",
      "/job/705227500\n",
      "/job/699860100\n",
      "/job/699865400\n",
      "/job/711475200\n",
      "/job/712878800\n",
      "/job/712923000\n",
      "/job/713263200\n",
      "/job/708297200\n",
      "/job/712994000\n",
      "/job/713070000\n",
      "/job/686557100\n",
      "/job/709871200\n",
      "/job/685477800\n",
      "/job/687289400\n",
      "/job/687588000\n",
      "/job/687589800\n",
      "/job/688695700\n",
      "/job/688698800\n",
      "/job/688699600\n",
      "/job/688701000\n",
      "/job/688703700\n"
     ]
    },
    {
     "name": "stderr",
     "output_type": "stream",
     "text": [
      "C:\\Users\\kayle\\AppData\\Local\\Temp\\ipykernel_14044\\1868852972.py:72: FutureWarning: The default value of regex will change from True to False in a future version.\n",
      "  df2.job_title = df2.job_title.str.replace('[^a-zA-Z0-9#&\\.\\+\\-]', ' ')\n",
      "C:\\Users\\kayle\\AppData\\Local\\Temp\\ipykernel_14044\\1868852972.py:73: FutureWarning: The default value of regex will change from True to False in a future version.\n",
      "  df2.job_summary = df2.job_summary.str.replace('[^a-zA-Z0-9#&\\.\\+\\-]', ' ')\n",
      "C:\\Users\\kayle\\AppData\\Local\\Temp\\ipykernel_14044\\1868852972.py:74: FutureWarning: The default value of regex will change from True to False in a future version.\n",
      "  df2.job_location = df2.job_location.str.replace('[^a-zA-Z0-9#&\\.\\+\\-]', ' ')\n",
      "C:\\Users\\kayle\\AppData\\Local\\Temp\\ipykernel_14044\\1868852972.py:75: FutureWarning: The default value of regex will change from True to False in a future version.\n",
      "  df2.job_quals = df2.job_quals.str.replace('[^a-zA-Z0-9#&\\.\\+\\-]', ' ')\n",
      "C:\\Users\\kayle\\AppData\\Local\\Temp\\ipykernel_14044\\1868852972.py:76: FutureWarning: The default value of regex will change from True to False in a future version.\n",
      "  df2.job_salary = df2.job_salary.str.replace('[^0-9]','-')\n",
      "C:\\Users\\kayle\\AppData\\Local\\Temp\\ipykernel_14044\\1868852972.py:77: FutureWarning: The default value of regex will change from True to False in a future version.\n",
      "  df2.job_duties = df2.job_duties.str.replace('[^a-zA-Z0-9#&\\.\\+\\-]',' ')\n"
     ]
    }
   ],
   "source": [
    "## initiate variables for loop\n",
    "df = pd.DataFrame(columns = ['job_title', 'job_url','job_summary', 'job_salary', 'job_location', 'job_quals'])\n",
    "words = []\n",
    "counter = 0\n",
    "start = time.time()\n",
    "i = 0\n",
    "for ii in range(job_count // 25): \n",
    "    \n",
    "    print(\"Starting\")\n",
    "    print(ii)\n",
    "    page = driver.page_source.encode('utf-8')\n",
    "    soup = BeautifulSoup(page, 'html.parser')\n",
    "    job_rows = soup.find_all('a', class_ = 'usajobs-search-result--core__title') \n",
    "    print(\"Number of jobs\")\n",
    "    print(len(job_rows))\n",
    "\n",
    "    ## loop through rows, grabbing unique job posting url from each  \n",
    "    for iii in range(len(job_rows)): # \n",
    "        \n",
    "        ## grab url for unique job post\n",
    "        job_link = re.search(r'(?<=href=\\\").*(?=\\\" id)', str(job_rows[iii])).group()\n",
    "        print(job_link)\n",
    "        j_url = 'https://www.usajobs.gov/'\n",
    "        job_url = str(j_url + \n",
    "                      re.search(r'(?<=href=\\\").*(?=\\\" id)', \n",
    "                                str(job_rows[iii])).group()\n",
    "                     )\n",
    "\n",
    "        ## capture html from post page\n",
    "        job_page = requests.get(job_url)\n",
    "        job_soup = BeautifulSoup(job_page.content, 'html.parser')\n",
    "        \n",
    "        # grab job title\n",
    "        job_title = job_soup.find('h1', class_ = 'usajobs-joa-banner__title')\n",
    "        job_title = re.sub(r'\\<.*\\>', '', job_title.prettify())\n",
    "\n",
    "        # grab job summary\n",
    "        job_summary = job_soup.find('div', id = 'summary')\n",
    "        job_summary = re.sub(r'\\<.*\\>', '', job_summary.prettify())\n",
    "        \n",
    "        # grab job description\n",
    "        job_salary = job_soup.find('p', class_ = 'usajobs-joa-summary__salary salary-text-normal')\n",
    "        job_salary = re.sub(r'\\<.*\\>', '', job_salary.prettify())\n",
    "        \n",
    "        # grab job location\n",
    "        job_location = job_soup.find('div', class_ = \"usajobs-joa-locations__body\")\n",
    "        job_location = re.sub(r'\\<.*\\>', '', job_location.prettify())\n",
    "        \n",
    "        # grab job qualifications\n",
    "        job_quals = job_soup.find('div', id = \"qualifications\")\n",
    "        job_quals = re.sub(r'\\<.*\\>', '', job_quals.prettify())\n",
    "        \n",
    "        job_duties = job_soup.find('div', id = \"duties\")\n",
    "        job_duties = re.sub(r'\\<.*\\>', '', job_duties.prettify())\n",
    "        \n",
    "        \n",
    "        \n",
    "        ## move all variables to dataframe\n",
    "        df.loc[i, 'job_title'] = job_title\n",
    "        df.loc[i,'job_url'] = job_url\n",
    "        df.loc[i,'job_summary'] = job_summary\n",
    "        df.loc[i,'job_salary'] = job_salary\n",
    "        df.loc[i,'job_location'] = job_location\n",
    "        df.loc[i,'job_quals'] = job_quals\n",
    "        df.loc[i,'job_duties'] = job_duties\n",
    "        time.sleep(5)\n",
    "        \n",
    "        \n",
    "        i = i + 1\n",
    "        \n",
    "    df2 = df\n",
    "    df2.job_title = df2.job_title.str.replace('[^a-zA-Z0-9#&\\.\\+\\-]', ' ')\n",
    "    df2.job_summary = df2.job_summary.str.replace('[^a-zA-Z0-9#&\\.\\+\\-]', ' ')\n",
    "    df2.job_location = df2.job_location.str.replace('[^a-zA-Z0-9#&\\.\\+\\-]', ' ')\n",
    "    df2.job_quals = df2.job_quals.str.replace('[^a-zA-Z0-9#&\\.\\+\\-]', ' ')\n",
    "    df2.job_salary = df2.job_salary.str.replace('[^0-9]','-')\n",
    "    df2.job_duties = df2.job_duties.str.replace('[^a-zA-Z0-9#&\\.\\+\\-]',' ')\n",
    "    df2.to_csv(\"data_scientist.csv\")  \n",
    "    \n",
    "    button = driver.find_element(By.CLASS_NAME, 'usajobs-search-pagination__next-page')\n",
    "    driver.execute_script('arguments[0].click()', button)\n",
    "    time.sleep(2)\n",
    "\n",
    "        \n",
    "\n",
    "        \n",
    "        "
   ]
  },
  {
   "cell_type": "code",
   "execution_count": 11,
   "id": "2ef0eddd",
   "metadata": {},
   "outputs": [
    {
     "data": {
      "text/plain": [
       "150"
      ]
     },
     "execution_count": 11,
     "metadata": {},
     "output_type": "execute_result"
    }
   ],
   "source": [
    "len(df)"
   ]
  },
  {
   "cell_type": "code",
   "execution_count": 12,
   "id": "ad60dba9",
   "metadata": {},
   "outputs": [],
   "source": [
    "df_save = df"
   ]
  },
  {
   "cell_type": "code",
   "execution_count": null,
   "id": "daf3c2de",
   "metadata": {},
   "outputs": [],
   "source": []
  },
  {
   "cell_type": "code",
   "execution_count": null,
   "id": "d8a8721a",
   "metadata": {},
   "outputs": [],
   "source": []
  },
  {
   "cell_type": "code",
   "execution_count": null,
   "id": "08023c7b",
   "metadata": {},
   "outputs": [],
   "source": []
  },
  {
   "cell_type": "code",
   "execution_count": null,
   "id": "43ef7af2",
   "metadata": {},
   "outputs": [],
   "source": []
  },
  {
   "cell_type": "code",
   "execution_count": null,
   "id": "affad7a9",
   "metadata": {},
   "outputs": [],
   "source": []
  },
  {
   "cell_type": "code",
   "execution_count": null,
   "id": "9619b1db",
   "metadata": {},
   "outputs": [],
   "source": []
  }
 ],
 "metadata": {
  "kernelspec": {
   "display_name": "Python 3 (ipykernel)",
   "language": "python",
   "name": "python3"
  },
  "language_info": {
   "codemirror_mode": {
    "name": "ipython",
    "version": 3
   },
   "file_extension": ".py",
   "mimetype": "text/x-python",
   "name": "python",
   "nbconvert_exporter": "python",
   "pygments_lexer": "ipython3",
   "version": "3.9.13"
  }
 },
 "nbformat": 4,
 "nbformat_minor": 5
}

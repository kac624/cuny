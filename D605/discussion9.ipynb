{
 "cells": [
  {
   "cell_type": "markdown",
   "source": [
    "Write a program to find the average of 1000 random digits 0, 1, 2, 3, 4, 5, 6, 7, 8, or 9. Have the program test to see if the average lies within three standard deviations of the expected value of 4.5. Modify the program so that it repeats this simulation 1000 times and keeps track of the number of times the test is passed. Does your outcome agree with the Central Limit Theorem? Use Python."
   ],
   "metadata": {
    "collapsed": false
   },
   "id": "da380a4c0cf011a3"
  },
  {
   "cell_type": "markdown",
   "source": [
    "We'll start with some setup, establishing key parameters. Most are directly given (the number of simulations, the size of each sample, the expected value), but we must calculate a few.\n",
    "\n",
    "Per the CLT, the standard deviation of our sample distribution of the mean (aka the standard error) is defined as $$ \\sigma / \\sqrt{n} $$. In this case, our sample standard deviation ($$\\sigma$$) is defined by the standard deviation of a uniform distribution, i.e. $$(b - a)^2/12$$, where $$a$$ and $$b$$ are the lower and upper bounds of the distribution, respectively. We can use this standard error to developer the +/- 3 standard deviation range, within which we expect our sample mean to fall ~99.7% of the time (per the CLT)."
   ],
   "metadata": {
    "collapsed": false
   },
   "id": "9dffa9c15441d29f"
  },
  {
   "cell_type": "code",
   "execution_count": 1,
   "id": "initial_id",
   "metadata": {
    "collapsed": true,
    "ExecuteTime": {
     "end_time": "2023-10-26T15:41:35.046043500Z",
     "start_time": "2023-10-26T15:41:34.981292700Z"
    }
   },
   "outputs": [
    {
     "name": "stdout",
     "output_type": "stream",
     "text": [
      "Range: 4.2535 to 4.7465\n"
     ]
    }
   ],
   "source": [
    "import numpy as np\n",
    "np.random.seed(412)\n",
    "\n",
    "n_sims = 1000\n",
    "sample_size = 1000\n",
    "\n",
    "exp_value = 4.5\n",
    "std_dev = np.sqrt( (9 - 0)**2 / 12 )\n",
    "range_3sd = [\n",
    "    exp_value - 3 * std_dev / np.sqrt(sample_size), \n",
    "    exp_value + 3 * std_dev / np.sqrt(sample_size)\n",
    "]\n",
    "\n",
    "print(f'Range: {range_3sd[0]:.4f} to {range_3sd[1]:.4f}')"
   ]
  },
  {
   "cell_type": "markdown",
   "source": [
    "With these parameters established, we can run our simulation. In each iteration, we generate 1000 random integers from 1 to 9 (note that np.randint() has an exclusive upper bound). With those 1000 integers, we calculate the mean, then check whether it falls within our +/- 3 standard deviation range. If so, we return a 1 for pass, and if not, we return 0. We can then calculate the proportion of passes (i.e. 1s) to total simulations (1000)."
   ],
   "metadata": {
    "collapsed": false
   },
   "id": "791ecfc9a7238cb6"
  },
  {
   "cell_type": "code",
   "execution_count": 2,
   "outputs": [
    {
     "name": "stdout",
     "output_type": "stream",
     "text": [
      "# within +/- 3SD: 996\n",
      "% within +/- 3SD: 99.60%\n"
     ]
    }
   ],
   "source": [
    "results = []\n",
    "\n",
    "for sim in range(n_sims):\n",
    "    sample = np.random.randint(0, 10, sample_size)\n",
    "    avg = sample.mean()\n",
    "    range_check = 1 if range_3sd[0] <= avg <= range_3sd[1] else 0\n",
    "    results.append(range_check)\n",
    "    \n",
    "print(\n",
    "    f'# within +/- 3SD: {sum(results)}\\n'\n",
    "    f'% within +/- 3SD: {sum(results)/n_sims*100:.2f}%'\n",
    ")"
   ],
   "metadata": {
    "collapsed": false,
    "ExecuteTime": {
     "end_time": "2023-10-26T15:41:35.064170300Z",
     "start_time": "2023-10-26T15:41:35.045543200Z"
    }
   },
   "id": "8095ad2079b8a1c6"
  },
  {
   "cell_type": "markdown",
   "source": [
    "Our results support the CLT! We see that, in 99.6% of the simulations, the sample mean falls within the +/- 3SD range, which is very close to the 99.7% expectation. "
   ],
   "metadata": {
    "collapsed": false
   },
   "id": "b62386977e635884"
  }
 ],
 "metadata": {
  "kernelspec": {
   "display_name": "Python 3",
   "language": "python",
   "name": "python3"
  },
  "language_info": {
   "codemirror_mode": {
    "name": "ipython",
    "version": 2
   },
   "file_extension": ".py",
   "mimetype": "text/x-python",
   "name": "python",
   "nbconvert_exporter": "python",
   "pygments_lexer": "ipython2",
   "version": "2.7.6"
  }
 },
 "nbformat": 4,
 "nbformat_minor": 5
}

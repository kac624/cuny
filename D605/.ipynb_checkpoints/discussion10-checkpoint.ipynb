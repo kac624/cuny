{
 "cells": [
  {
   "cell_type": "markdown",
   "id": "5c0f5356f5fdff13",
   "metadata": {},
   "source": [
    "$$P = \\begin{bmatrix} 0\\rightarrow0 & 0\\rightarrow1 \\\\ 1\\rightarrow0 & 1\\rightarrow1\\end{bmatrix}$$\n",
    "\n",
    "$$P = \\begin{bmatrix}q & p\\\\ p & q\\end{bmatrix}$$"
   ]
  },
  {
   "cell_type": "code",
   "execution_count": 1,
   "id": "3613fcbae303339d",
   "metadata": {
    "ExecuteTime": {
     "end_time": "2023-10-31T18:16:11.046417800Z",
     "start_time": "2023-10-31T18:16:10.707701700Z"
    },
    "collapsed": false,
    "jupyter": {
     "outputs_hidden": false
    }
   },
   "outputs": [
    {
     "name": "stdout",
     "output_type": "stream",
     "text": [
      "dict_values([0, 1, 1, 1, 0, 0, 0, 1, 1, 1, 0, 1, 1, 0, 0, 0, 0, 0, 0, 0, 0, 0, 0, 0, 0, 1, 0, 0, 0, 0, 0, 0, 0, 1, 1, 1, 1, 0, 0, 0, 0, 0, 0, 1, 0, 0, 0, 0, 0, 0])\n"
     ]
    },
    {
     "data": {
      "image/png": "[encoded data removed]",
      "text/plain": [
       "<Figure size 640x480 with 1 Axes>"
      ]
     },
     "metadata": {},
     "output_type": "display_data"
    }
   ],
   "source": [
    "import numpy as np\n",
    "import matplotlib.pyplot as plt\n",
    "np.random.seed(42)\n",
    "\n",
    "p = 0.3\n",
    "q = 1 - p\n",
    "transition_probs = np.array([[q,p],[p,q]])\n",
    "\n",
    "chain = {}\n",
    "n_steps = 50\n",
    "state = 0\n",
    "\n",
    "for i in range(n_steps):\n",
    "    state = np.random.choice(\n",
    "        [0,1],\n",
    "        p = transition_probs[state]\n",
    "    )\n",
    "    chain[i] = state\n",
    "    \n",
    "print(chain.values())\n",
    "\n",
    "fig, ax = plt.subplots()\n",
    "ax.plot(chain.keys(), chain.values())\n",
    "plt.show()"
   ]
  },
  {
   "cell_type": "markdown",
   "id": "0aaaf76e-ba9f-45fe-bf11-dc82f63f3e8d",
   "metadata": {},
   "source": [
    "# Response"
   ]
  },
  {
   "cell_type": "code",
   "execution_count": 2,
   "id": "320cdfda-9f49-40c2-90ae-39fdb911a79b",
   "metadata": {},
   "outputs": [],
   "source": [
    "import numpy as np"
   ]
  },
  {
   "cell_type": "code",
   "execution_count": 3,
   "id": "83d930fd-3994-4385-8123-bb996a829e19",
   "metadata": {},
   "outputs": [
    {
     "data": {
      "text/plain": [
       "array([[ 1.        , -0.25      , -0.25      , -0.25      ],\n",
       "       [ 0.        ,  1.        , -0.33333333, -0.33333333],\n",
       "       [ 0.        ,  0.        ,  1.        , -0.5       ],\n",
       "       [ 0.        ,  0.        ,  0.        ,  1.        ]])"
      ]
     },
     "execution_count": 3,
     "metadata": {},
     "output_type": "execute_result"
    }
   ],
   "source": [
    "Q = np.array([\n",
    "    [0, 1/4, 1/4, 1/4],\n",
    "    [0,   0, 1/3, 1/3],\n",
    "    [0,   0,   0, 1/2],\n",
    "    [0,   0,   0,   0]\n",
    "])\n",
    "\n",
    "I = np.identity(4)\n",
    "\n",
    "IminusQ = I - Q\n",
    "\n",
    "IminusQ"
   ]
  },
  {
   "cell_type": "code",
   "execution_count": 4,
   "id": "023a2f81-9426-406c-8159-c0eb2b8be1dc",
   "metadata": {},
   "outputs": [
    {
     "data": {
      "text/plain": [
       "array([[1.        , 0.25      , 0.33333333, 0.5       ],\n",
       "       [0.        , 1.        , 0.33333333, 0.5       ],\n",
       "       [0.        , 0.        , 1.        , 0.5       ],\n",
       "       [0.        , 0.        , 0.        , 1.        ]])"
      ]
     },
     "execution_count": 4,
     "metadata": {},
     "output_type": "execute_result"
    }
   ],
   "source": [
    "N = np.linalg.inv(IminusQ)\n",
    "\n",
    "N"
   ]
  },
  {
   "cell_type": "code",
   "execution_count": 5,
   "id": "ffdbdb7e-8edd-46aa-900e-5f6adf1b6eff",
   "metadata": {},
   "outputs": [
    {
     "data": {
      "text/plain": [
       "array([[1.],\n",
       "       [1.],\n",
       "       [1.],\n",
       "       [1.]])"
      ]
     },
     "execution_count": 5,
     "metadata": {},
     "output_type": "execute_result"
    }
   ],
   "source": [
    "c = np.ones(4)[:, np.newaxis]\n",
    "c.shape = (4,1)\n",
    "\n",
    "c"
   ]
  },
  {
   "cell_type": "code",
   "execution_count": 6,
   "id": "ce292355-dfc6-47cb-b450-49bbfb5118e0",
   "metadata": {},
   "outputs": [
    {
     "data": {
      "text/plain": [
       "array([[2.08333333],\n",
       "       [1.83333333],\n",
       "       [1.5       ],\n",
       "       [1.        ]])"
      ]
     },
     "execution_count": 6,
     "metadata": {},
     "output_type": "execute_result"
    }
   ],
   "source": [
    "np.matmul(N, c)"
   ]
  }
 ],
 "metadata": {
  "kernelspec": {
   "display_name": "Python 3 (ipykernel)",
   "language": "python",
   "name": "python3"
  },
  "language_info": {
   "codemirror_mode": {
    "name": "ipython",
    "version": 3
   },
   "file_extension": ".py",
   "mimetype": "text/x-python",
   "name": "python",
   "nbconvert_exporter": "python",
   "pygments_lexer": "ipython3",
   "version": "3.9.13"
  }
 },
 "nbformat": 4,
 "nbformat_minor": 5
}

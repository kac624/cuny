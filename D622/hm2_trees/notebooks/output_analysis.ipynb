{
 "cells": [
  {
   "cell_type": "code",
   "execution_count": 2,
   "metadata": {},
   "outputs": [],
   "source": [
    "import pandas as pd\n",
    "import numpy as np\n",
    "\n",
    "import matplotlib.pyplot as plt\n",
    "import seaborn as sns"
   ]
  },
  {
   "cell_type": "markdown",
   "metadata": {},
   "source": [
    "# Baseline Output"
   ]
  },
  {
   "cell_type": "code",
   "execution_count": 4,
   "metadata": {},
   "outputs": [
    {
     "data": {
      "text/html": [
       "<div>\n",
       "<style scoped>\n",
       "    .dataframe tbody tr th:only-of-type {\n",
       "        vertical-align: middle;\n",
       "    }\n",
       "\n",
       "    .dataframe tbody tr th {\n",
       "        vertical-align: top;\n",
       "    }\n",
       "\n",
       "    .dataframe thead th {\n",
       "        text-align: right;\n",
       "    }\n",
       "</style>\n",
       "<table border=\"1\" class=\"dataframe\">\n",
       "  <thead>\n",
       "    <tr style=\"text-align: right;\">\n",
       "      <th></th>\n",
       "      <th>model</th>\n",
       "      <th>train_accuracy</th>\n",
       "      <th>train_precision</th>\n",
       "      <th>train_recall</th>\n",
       "      <th>train_f1</th>\n",
       "      <th>valid_accuracy</th>\n",
       "      <th>valid_precision</th>\n",
       "      <th>valid_recall</th>\n",
       "      <th>valid_f1</th>\n",
       "    </tr>\n",
       "  </thead>\n",
       "  <tbody>\n",
       "    <tr>\n",
       "      <th>0</th>\n",
       "      <td>LogisticRegression</td>\n",
       "      <td>0.999183</td>\n",
       "      <td>0.908211</td>\n",
       "      <td>0.407897</td>\n",
       "      <td>0.562958</td>\n",
       "      <td>0.999170</td>\n",
       "      <td>0.905904</td>\n",
       "      <td>0.398539</td>\n",
       "      <td>0.553551</td>\n",
       "    </tr>\n",
       "    <tr>\n",
       "      <th>1</th>\n",
       "      <td>DecisionTreeClassifier</td>\n",
       "      <td>1.000000</td>\n",
       "      <td>1.000000</td>\n",
       "      <td>1.000000</td>\n",
       "      <td>1.000000</td>\n",
       "      <td>0.999710</td>\n",
       "      <td>0.889796</td>\n",
       "      <td>0.884740</td>\n",
       "      <td>0.887261</td>\n",
       "    </tr>\n",
       "    <tr>\n",
       "      <th>2</th>\n",
       "      <td>RandomForestClassifier</td>\n",
       "      <td>1.000000</td>\n",
       "      <td>1.000000</td>\n",
       "      <td>1.000000</td>\n",
       "      <td>1.000000</td>\n",
       "      <td>0.999688</td>\n",
       "      <td>0.969819</td>\n",
       "      <td>0.782468</td>\n",
       "      <td>0.866128</td>\n",
       "    </tr>\n",
       "    <tr>\n",
       "      <th>3</th>\n",
       "      <td>XGBClassifier</td>\n",
       "      <td>0.999714</td>\n",
       "      <td>0.975957</td>\n",
       "      <td>0.797878</td>\n",
       "      <td>0.877979</td>\n",
       "      <td>0.999652</td>\n",
       "      <td>0.953629</td>\n",
       "      <td>0.767857</td>\n",
       "      <td>0.850719</td>\n",
       "    </tr>\n",
       "  </tbody>\n",
       "</table>\n",
       "</div>"
      ],
      "text/plain": [
       "                    model  train_accuracy  train_precision  train_recall  \\\n",
       "0      LogisticRegression        0.999183         0.908211      0.407897   \n",
       "1  DecisionTreeClassifier        1.000000         1.000000      1.000000   \n",
       "2  RandomForestClassifier        1.000000         1.000000      1.000000   \n",
       "3           XGBClassifier        0.999714         0.975957      0.797878   \n",
       "\n",
       "   train_f1  valid_accuracy  valid_precision  valid_recall  valid_f1  \n",
       "0  0.562958        0.999170         0.905904      0.398539  0.553551  \n",
       "1  1.000000        0.999710         0.889796      0.884740  0.887261  \n",
       "2  1.000000        0.999688         0.969819      0.782468  0.866128  \n",
       "3  0.877979        0.999652         0.953629      0.767857  0.850719  "
      ]
     },
     "execution_count": 4,
     "metadata": {},
     "output_type": "execute_result"
    }
   ],
   "source": [
    "file_name = '03.11_22.31_baseline'\n",
    "\n",
    "baseline = pd.read_csv(f'../logs/training_results_{file_name}.csv')\n",
    "\n",
    "baseline"
   ]
  }
 ],
 "metadata": {
  "kernelspec": {
   "display_name": "cuny",
   "language": "python",
   "name": "python3"
  },
  "language_info": {
   "codemirror_mode": {
    "name": "ipython",
    "version": 3
   },
   "file_extension": ".py",
   "mimetype": "text/x-python",
   "name": "python",
   "nbconvert_exporter": "python",
   "pygments_lexer": "ipython3",
   "version": "3.11.7"
  }
 },
 "nbformat": 4,
 "nbformat_minor": 2
}

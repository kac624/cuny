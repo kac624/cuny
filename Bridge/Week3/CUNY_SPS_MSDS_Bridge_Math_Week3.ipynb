{
  "cells": [
    {
      "cell_type": "code",
      "execution_count": 1,
      "id": "02d730aa-3258-4c24-92d6-480c3f70cb82",
      "metadata": {
        "id": "02d730aa-3258-4c24-92d6-480c3f70cb82"
      },
      "outputs": [],
      "source": [
        "import numpy as np\n",
        "import scipy.stats as sps\n",
        "from statsmodels.stats.proportion import proportion_confint"
      ]
    },
    {
      "cell_type": "markdown",
      "id": "da25e993-41b9-41b5-ae35-b7b5708b5f97",
      "metadata": {
        "id": "da25e993-41b9-41b5-ae35-b7b5708b5f97"
      },
      "source": [
        "1. The weights of steers in a herd are distributed normally.  The variance is 40,000 and the mean steer weight is 1300 lbs.  Find the probability that the weight of a randomly selected steer is greater than 979 lbs. (Round your answer to 4 decimal places)"
      ]
    },
    {
      "cell_type": "code",
      "execution_count": 2,
      "id": "57b854af-718a-4d3a-8cb6-a40507f676c4",
      "metadata": {
        "id": "57b854af-718a-4d3a-8cb6-a40507f676c4"
      },
      "outputs": [],
      "source": [
        "answer1 = 1 - sps.norm(loc = 1300,\n",
        "                       scale = np.sqrt(40000)).cdf(979)"
      ]
    },
    {
      "cell_type": "code",
      "execution_count": 3,
      "id": "09ddf62f-e473-4b8a-af74-434159a23148",
      "metadata": {
        "id": "09ddf62f-e473-4b8a-af74-434159a23148",
        "outputId": "b55844f6-c78d-472d-e747-fb5a4e7574e1",
        "colab": {
          "base_uri": "https://localhost:8080/"
        }
      },
      "outputs": [
        {
          "output_type": "execute_result",
          "data": {
            "text/plain": [
              "0.9458"
            ]
          },
          "metadata": {},
          "execution_count": 3
        }
      ],
      "source": [
        "round(answer1,4)"
      ]
    },
    {
      "cell_type": "markdown",
      "id": "7b70b09c-9c05-465f-be32-d9325f15d821",
      "metadata": {
        "id": "7b70b09c-9c05-465f-be32-d9325f15d821"
      },
      "source": [
        "2. SVGA monitors manufactured by TSI Electronics have life spans that have a normal distribution with a variance of 1,960,000 and a mean life span of 11,000 hours.  If a SVGA monitor is selected at random, find the probability that the life span of the monitor will be more than 8340 hours. (Round your answer to 4 decimal places)"
      ]
    },
    {
      "cell_type": "code",
      "execution_count": 4,
      "id": "88452ae1-c021-4041-b9cd-e2ca24bac871",
      "metadata": {
        "id": "88452ae1-c021-4041-b9cd-e2ca24bac871"
      },
      "outputs": [],
      "source": [
        "answer2 = 1 - sps.norm(loc = 11000,\n",
        "                       scale = np.sqrt(1.96*10**6)).cdf(8340)"
      ]
    },
    {
      "cell_type": "code",
      "execution_count": 5,
      "id": "03e182c2-bd82-42f5-8443-9bcd1498dfdf",
      "metadata": {
        "id": "03e182c2-bd82-42f5-8443-9bcd1498dfdf",
        "outputId": "2d81ac04-4308-4425-acc6-ab8887e2d6ba",
        "colab": {
          "base_uri": "https://localhost:8080/"
        }
      },
      "outputs": [
        {
          "output_type": "execute_result",
          "data": {
            "text/plain": [
              "0.9713"
            ]
          },
          "metadata": {},
          "execution_count": 5
        }
      ],
      "source": [
        "round(answer2,4)"
      ]
    },
    {
      "cell_type": "markdown",
      "id": "7fc6f2f2-b296-4eca-ab0f-1a98881a5138",
      "metadata": {
        "id": "7fc6f2f2-b296-4eca-ab0f-1a98881a5138"
      },
      "source": [
        "3. Suppose the mean income of firms in the industry for a year is 80 million dollars with a standard deviation of 3 million dollars.  If incomes for the industry are distributed normally, what is the probability that a randomly selected firm will earn between 83 and 85 million dollars? (Round your answer to 4 decimal places)"
      ]
    },
    {
      "cell_type": "code",
      "execution_count": 6,
      "id": "44f9b256-716f-4678-a3df-6f43ffec20a0",
      "metadata": {
        "id": "44f9b256-716f-4678-a3df-6f43ffec20a0"
      },
      "outputs": [],
      "source": [
        "normal  = sps.norm(loc = 80,scale = 3)\n",
        "high = normal.cdf(85)\n",
        "low = normal.cdf(83)\n",
        "answer3 =  high - low"
      ]
    },
    {
      "cell_type": "code",
      "execution_count": 7,
      "id": "424221a9-abfc-44fb-8c12-3f44eabfdeeb",
      "metadata": {
        "id": "424221a9-abfc-44fb-8c12-3f44eabfdeeb",
        "outputId": "188e673f-ef8e-478b-8ffe-a72b23e51857",
        "colab": {
          "base_uri": "https://localhost:8080/"
        }
      },
      "outputs": [
        {
          "output_type": "execute_result",
          "data": {
            "text/plain": [
              "0.1109"
            ]
          },
          "metadata": {},
          "execution_count": 7
        }
      ],
      "source": [
        "round(answer3,4)"
      ]
    },
    {
      "cell_type": "markdown",
      "id": "81ba91ee-f275-4725-928f-af1db77cedb1",
      "metadata": {
        "id": "81ba91ee-f275-4725-928f-af1db77cedb1"
      },
      "source": [
        "4. Suppose GRE Verbal scores are normally distributed with a mean of 456 and a standard deviation of 123.  A university plans to offer tutoring jobs to students whose scores are in the top 14%.  What is the minimum score required for the job offer?  Round your answer to the nearest whole number, if necessary."
      ]
    },
    {
      "cell_type": "code",
      "execution_count": 8,
      "id": "11e80149-be9f-4bfd-b1eb-06ad6ee1ba97",
      "metadata": {
        "id": "11e80149-be9f-4bfd-b1eb-06ad6ee1ba97"
      },
      "outputs": [],
      "source": [
        "mu = 456\n",
        "sigma = 123\n",
        "z = 0.14\n",
        "# normal  = sps.norm(loc = mu,scale = sigma)"
      ]
    },
    {
      "cell_type": "markdown",
      "id": "ea6d2e94-1ebb-40e3-af92-1be4255f9e3d",
      "metadata": {
        "id": "ea6d2e94-1ebb-40e3-af92-1be4255f9e3d"
      },
      "source": [
        "$ z = (x - \\mu) / \\sigma $ <br>\n",
        "$ z * \\sigma = x - \\mu $ <br>\n",
        "$ z * \\sigma + \\mu = x $"
      ]
    },
    {
      "cell_type": "code",
      "execution_count": 9,
      "id": "ee0cc48a-4dda-423f-ba1f-b2ee403adf69",
      "metadata": {
        "id": "ee0cc48a-4dda-423f-ba1f-b2ee403adf69"
      },
      "outputs": [],
      "source": [
        "answer4 = (1 - z) * sigma + mu"
      ]
    },
    {
      "cell_type": "code",
      "execution_count": 10,
      "id": "c16b23d5-4fd3-473e-a05c-4a64fc64f5c0",
      "metadata": {
        "id": "c16b23d5-4fd3-473e-a05c-4a64fc64f5c0",
        "outputId": "b9a632c9-6c95-4856-dab9-9c91de62c799",
        "colab": {
          "base_uri": "https://localhost:8080/"
        }
      },
      "outputs": [
        {
          "output_type": "execute_result",
          "data": {
            "text/plain": [
              "562.0"
            ]
          },
          "metadata": {},
          "execution_count": 10
        }
      ],
      "source": [
        "round(answer4,0)"
      ]
    },
    {
      "cell_type": "markdown",
      "id": "e4ac91ad-4051-4836-96e1-b9fd49f64790",
      "metadata": {
        "id": "e4ac91ad-4051-4836-96e1-b9fd49f64790"
      },
      "source": [
        "5. The lengths of nails produced in a factory are normally distributed with a mean of 6.13 centimeters and a standard deviation of 0.06 centimeters.  Find the two lengths that separate the top 7% and the bottom 7%.  These lengths could serve as limits used to identify which nails should be rejected.  Round your answer to the nearest hundredth, if necessary."
      ]
    },
    {
      "cell_type": "code",
      "execution_count": 11,
      "id": "cf5f4fc6-c27c-4cfe-90af-a18581b355b5",
      "metadata": {
        "id": "cf5f4fc6-c27c-4cfe-90af-a18581b355b5"
      },
      "outputs": [],
      "source": [
        "mu = 6.13\n",
        "sigma = 0.06\n",
        "z = 0.07"
      ]
    },
    {
      "cell_type": "code",
      "execution_count": 12,
      "id": "9697c29c-38c3-474d-9aa9-f2b0427775d9",
      "metadata": {
        "id": "9697c29c-38c3-474d-9aa9-f2b0427775d9"
      },
      "outputs": [],
      "source": [
        "answer5a = (1 - z) * sigma + mu\n",
        "answer5b = z * sigma + mu"
      ]
    },
    {
      "cell_type": "code",
      "execution_count": 13,
      "id": "fda6cb6c-6e8b-4618-b061-5d2c592c5ecc",
      "metadata": {
        "id": "fda6cb6c-6e8b-4618-b061-5d2c592c5ecc",
        "outputId": "98f18020-f877-4f72-f35b-7bfca5e4382d",
        "colab": {
          "base_uri": "https://localhost:8080/"
        }
      },
      "outputs": [
        {
          "output_type": "stream",
          "name": "stdout",
          "text": [
            "Top 7% cut-off: 6.19 \n",
            " Bottom 7% cut-off 6.13\n"
          ]
        }
      ],
      "source": [
        "print('Top 7% cut-off:', round(answer5a,2),'\\n',\n",
        "      'Bottom 7% cut-off', round(answer5b,2))"
      ]
    },
    {
      "cell_type": "markdown",
      "id": "26ca9d88-5824-4532-a385-007ce379c6bb",
      "metadata": {
        "id": "26ca9d88-5824-4532-a385-007ce379c6bb"
      },
      "source": [
        "6. An English professor assigns letter grades on a test according to the following scheme.\n",
        "\tA:  Top 13% of scores\n",
        "\tB:  Scores below the top 13% and above the bottom 55%\n",
        "\tC:  Scores below the top 45% and above the bottom 20%\n",
        "\tD:  Scores below the top 80% and above the bottom 9%\n",
        "\tF:  Bottom 9% of scores\n",
        "\tScores on the test are normally distributed with a mean of 78.8 and a standard deviation of 9.8. Find the numerical limits for a C grade.  Round your answers to the nearest whole number, if necessary."
      ]
    },
    {
      "cell_type": "code",
      "execution_count": 14,
      "id": "53847da7-7fe5-4c2b-b23b-7ef939a7ed38",
      "metadata": {
        "id": "53847da7-7fe5-4c2b-b23b-7ef939a7ed38"
      },
      "outputs": [],
      "source": [
        "mu = 78.8\n",
        "sigma = 9.8\n",
        "z1 = (1 - 0.45)\n",
        "z2 = 0.20\n",
        "normal = sps.norm(loc=mu,scale=sigma)"
      ]
    },
    {
      "cell_type": "code",
      "execution_count": 15,
      "id": "0cebc334-d563-493b-a138-9720ffb31075",
      "metadata": {
        "id": "0cebc334-d563-493b-a138-9720ffb31075"
      },
      "outputs": [],
      "source": [
        "answer6a = normal.ppf(z1)\n",
        "answer6b = normal.ppf(z2)"
      ]
    },
    {
      "cell_type": "code",
      "execution_count": 16,
      "id": "f3296c4b-fbec-49be-a10c-39f7c2e47a82",
      "metadata": {
        "id": "f3296c4b-fbec-49be-a10c-39f7c2e47a82",
        "outputId": "f737feb7-8f9a-43e3-9800-99b56a455850",
        "colab": {
          "base_uri": "https://localhost:8080/"
        }
      },
      "outputs": [
        {
          "output_type": "stream",
          "name": "stdout",
          "text": [
            "Upper Limit: 80.0 \n",
            " Lower Limit 71.0\n"
          ]
        }
      ],
      "source": [
        "print('Upper Limit:', round(answer6a,0),'\\n',\n",
        "      'Lower Limit', round(answer6b,0))"
      ]
    },
    {
      "cell_type": "markdown",
      "id": "ecfd9bb5-074e-4b45-a906-e2cec5292f91",
      "metadata": {
        "id": "ecfd9bb5-074e-4b45-a906-e2cec5292f91"
      },
      "source": [
        "7. Suppose ACT Composite scores are normally distributed with a mean of 21.2 and a standard deviation of 5.4.  A university plans to admit students whose scores are in the top 45%.  What is the minimum score required for admission?  Round your answer to the nearest tenth, if necessary."
      ]
    },
    {
      "cell_type": "code",
      "execution_count": 17,
      "id": "81e38052-8684-4c28-88db-0829bfb6128b",
      "metadata": {
        "id": "81e38052-8684-4c28-88db-0829bfb6128b"
      },
      "outputs": [],
      "source": [
        "mu = 21.2\n",
        "sigma = 5.4\n",
        "z = (1 - 0.45)\n",
        "normal = sps.norm(loc=mu,scale=sigma)"
      ]
    },
    {
      "cell_type": "code",
      "execution_count": 18,
      "id": "258dc204-d93b-4254-84d7-e91dbe1190ed",
      "metadata": {
        "id": "258dc204-d93b-4254-84d7-e91dbe1190ed"
      },
      "outputs": [],
      "source": [
        "answer7 = normal.ppf(z)"
      ]
    },
    {
      "cell_type": "code",
      "execution_count": 19,
      "id": "2f9ab1c5-eb9f-401b-ac84-ac5ceedd1416",
      "metadata": {
        "id": "2f9ab1c5-eb9f-401b-ac84-ac5ceedd1416",
        "outputId": "e9e349e3-a556-4715-aa9e-36e658b188ee",
        "colab": {
          "base_uri": "https://localhost:8080/"
        }
      },
      "outputs": [
        {
          "output_type": "execute_result",
          "data": {
            "text/plain": [
              "21.88"
            ]
          },
          "metadata": {},
          "execution_count": 19
        }
      ],
      "source": [
        "round(answer7,2)"
      ]
    },
    {
      "cell_type": "markdown",
      "id": "cee3045e-f846-413a-b24f-6b107fb6063d",
      "metadata": {
        "id": "cee3045e-f846-413a-b24f-6b107fb6063d"
      },
      "source": [
        "8. Consider the probability that less than 11 out of 151 students will not graduate on time.  Assume the probability that a given student will not graduate on time is 9%.  Approximate the probability using the normal distribution. (Round your answer to 4 decimal places.)"
      ]
    },
    {
      "cell_type": "code",
      "execution_count": 20,
      "id": "fb105a85-49dc-49bf-9bb5-d450291a5c7a",
      "metadata": {
        "id": "fb105a85-49dc-49bf-9bb5-d450291a5c7a"
      },
      "outputs": [],
      "source": [
        "k = 11\n",
        "n = 151\n",
        "p = 0.09"
      ]
    },
    {
      "cell_type": "code",
      "execution_count": 21,
      "id": "979f8184-8dcf-4048-b4a9-8e6f6989eb0c",
      "metadata": {
        "id": "979f8184-8dcf-4048-b4a9-8e6f6989eb0c"
      },
      "outputs": [],
      "source": [
        "answer8 = sps.binom.pmf(k,n,p)"
      ]
    },
    {
      "cell_type": "code",
      "execution_count": 22,
      "id": "3ea2995d-674c-465e-9dda-4b02747352cc",
      "metadata": {
        "id": "3ea2995d-674c-465e-9dda-4b02747352cc",
        "colab": {
          "base_uri": "https://localhost:8080/"
        },
        "outputId": "814298f2-1254-4ab5-c770-5acc16eb1179"
      },
      "outputs": [
        {
          "output_type": "execute_result",
          "data": {
            "text/plain": [
              "0.0929"
            ]
          },
          "metadata": {},
          "execution_count": 22
        }
      ],
      "source": [
        "round(answer8,4)"
      ]
    },
    {
      "cell_type": "markdown",
      "id": "f5970532-21ed-4049-bc2a-e63a9718d940",
      "metadata": {
        "id": "f5970532-21ed-4049-bc2a-e63a9718d940"
      },
      "source": [
        "9. The mean lifetime of a tire is 48 months with a standard deviation of 7.  If 147 tires are sampled, what is the probability that the mean of the sample would be greater than 48.83 months? (Round your answer to 4 decimal places)"
      ]
    },
    {
      "cell_type": "code",
      "execution_count": 23,
      "id": "c8507f7d-baf9-4f57-aa5c-d0c35826b67a",
      "metadata": {
        "id": "c8507f7d-baf9-4f57-aa5c-d0c35826b67a"
      },
      "outputs": [],
      "source": [
        "mu = 48\n",
        "sigma = 7\n",
        "n = 147\n",
        "x_bar = 48.83"
      ]
    },
    {
      "cell_type": "code",
      "execution_count": 24,
      "id": "535b8be8-3707-4ed5-a528-0e6de77fce17",
      "metadata": {
        "id": "535b8be8-3707-4ed5-a528-0e6de77fce17"
      },
      "outputs": [],
      "source": [
        "z = (x_bar - mu) / (sigma / np.sqrt(n))"
      ]
    },
    {
      "cell_type": "code",
      "execution_count": 25,
      "id": "12afeb4a-aa06-4ba0-8155-6a8b52fe5733",
      "metadata": {
        "id": "12afeb4a-aa06-4ba0-8155-6a8b52fe5733"
      },
      "outputs": [],
      "source": [
        "answer9 = 1 - sps.norm(0,1).cdf(z)"
      ]
    },
    {
      "cell_type": "code",
      "execution_count": 26,
      "id": "de4a5dfe-9bc2-4d83-be7e-e06b17489195",
      "metadata": {
        "id": "de4a5dfe-9bc2-4d83-be7e-e06b17489195",
        "outputId": "322cbf69-fc71-45d4-ad17-bd75b4e5de55",
        "colab": {
          "base_uri": "https://localhost:8080/"
        }
      },
      "outputs": [
        {
          "output_type": "execute_result",
          "data": {
            "text/plain": [
              "0.0753"
            ]
          },
          "metadata": {},
          "execution_count": 26
        }
      ],
      "source": [
        "round(answer9, 4)"
      ]
    },
    {
      "cell_type": "markdown",
      "id": "0f8929d7-2047-4525-b04a-09e6760d07f7",
      "metadata": {
        "id": "0f8929d7-2047-4525-b04a-09e6760d07f7"
      },
      "source": [
        "10. The quality control manager at a computer manufacturing company believes that the mean life of a computer is 91 months, with a standard deviation of 10.  If he is correct, what is the probability that the mean of a sample of 68 computers would be greater than 93.54 months? (Round your answer to 4 decimal places)"
      ]
    },
    {
      "cell_type": "code",
      "execution_count": 27,
      "id": "ba5af4bf-c97a-4c5e-b7c1-805cb2787eaf",
      "metadata": {
        "id": "ba5af4bf-c97a-4c5e-b7c1-805cb2787eaf"
      },
      "outputs": [],
      "source": [
        "mu = 91\n",
        "sigma = 10\n",
        "n = 68\n",
        "x_bar = 93.54"
      ]
    },
    {
      "cell_type": "code",
      "execution_count": 28,
      "id": "ab6a72f1-e3a3-4ae4-8752-472854bcb9a9",
      "metadata": {
        "id": "ab6a72f1-e3a3-4ae4-8752-472854bcb9a9"
      },
      "outputs": [],
      "source": [
        "z = (x_bar - mu) / (sigma / np.sqrt(n))"
      ]
    },
    {
      "cell_type": "code",
      "execution_count": 29,
      "id": "79bcae22-1c8d-4f0d-b722-146192652bb8",
      "metadata": {
        "id": "79bcae22-1c8d-4f0d-b722-146192652bb8"
      },
      "outputs": [],
      "source": [
        "answer10 = 1 - sps.norm(0,1).cdf(z)"
      ]
    },
    {
      "cell_type": "code",
      "execution_count": 30,
      "id": "87fdbf01-2de9-4e92-8547-10f6b12fe958",
      "metadata": {
        "id": "87fdbf01-2de9-4e92-8547-10f6b12fe958",
        "outputId": "671f76cd-93ea-48bc-fb9f-181958ad0237",
        "colab": {
          "base_uri": "https://localhost:8080/"
        }
      },
      "outputs": [
        {
          "output_type": "execute_result",
          "data": {
            "text/plain": [
              "0.0181"
            ]
          },
          "metadata": {},
          "execution_count": 30
        }
      ],
      "source": [
        "round(answer10, 4)"
      ]
    },
    {
      "cell_type": "markdown",
      "id": "4259bd7d-710b-405a-83e5-507a50afa95a",
      "metadata": {
        "id": "4259bd7d-710b-405a-83e5-507a50afa95a"
      },
      "source": [
        "11. A director of reservations believes that 7% of the ticketed passengers are no-shows.  If the director is right, what is the probability that the proportion of no-shows in a sample of 540 ticketed passengers would differ from the population proportion by less than 3%? (Round your answer to 4 decimal places)"
      ]
    },
    {
      "cell_type": "code",
      "execution_count": 31,
      "id": "8fceee0d-2c01-4506-b20c-c2bf693cb4ba",
      "metadata": {
        "id": "8fceee0d-2c01-4506-b20c-c2bf693cb4ba"
      },
      "outputs": [],
      "source": [
        "p = 0.07\n",
        "n = 540"
      ]
    },
    {
      "cell_type": "code",
      "execution_count": 32,
      "id": "e63a1721-0988-4757-b824-f52369b2e984",
      "metadata": {
        "id": "e63a1721-0988-4757-b824-f52369b2e984"
      },
      "outputs": [],
      "source": [
        "alpha = 0.01\n",
        "limit = p * 1.03\n",
        "ub = proportion_confint(count = (n * p), nobs = n, alpha = alpha)[1]\n",
        "\n",
        "while ub >= limit:\n",
        "  alpha += 0.01\n",
        "  ub = proportion_confint(count = (n * p), nobs = n, alpha = alpha)[1]"
      ]
    },
    {
      "cell_type": "code",
      "execution_count": 33,
      "id": "134658ee-ed86-4c49-b081-6bf8e110adbe",
      "metadata": {
        "id": "134658ee-ed86-4c49-b081-6bf8e110adbe",
        "colab": {
          "base_uri": "https://localhost:8080/"
        },
        "outputId": "7647b70c-54a3-43fe-fa32-5853da066efd"
      },
      "outputs": [
        {
          "output_type": "execute_result",
          "data": {
            "text/plain": [
              "0.15"
            ]
          },
          "metadata": {},
          "execution_count": 33
        }
      ],
      "source": [
        "round(1 - alpha,4)"
      ]
    },
    {
      "cell_type": "markdown",
      "id": "7b84daf0-2d49-4b79-ba80-32fd430f8cae",
      "metadata": {
        "id": "7b84daf0-2d49-4b79-ba80-32fd430f8cae"
      },
      "source": [
        "13. A research company desires to know the mean consumption of beef per week among males over age 48.  Suppose a sample of size 208 is drawn with $\\bar{x} = 3.9$.  Assume $\\sigma = 0.8$.  Construct the 80% confidence interval for the mean number of lb. of beef per week among males over 48. (Round your answers to 1 decimal place)"
      ]
    },
    {
      "cell_type": "code",
      "execution_count": 34,
      "id": "cad1c088-d9b6-49b8-b712-5709648db177",
      "metadata": {
        "id": "cad1c088-d9b6-49b8-b712-5709648db177"
      },
      "outputs": [],
      "source": [
        "x_bar = 3.9\n",
        "sigma = 0.8\n",
        "n = 208"
      ]
    },
    {
      "cell_type": "code",
      "source": [
        "answer13a = sps.norm.interval(0.8, loc = x_bar, scale = sigma / np.sqrt(n))"
      ],
      "metadata": {
        "id": "sdcmpH5BQHc0"
      },
      "id": "sdcmpH5BQHc0",
      "execution_count": 35,
      "outputs": []
    },
    {
      "cell_type": "code",
      "source": [
        "print('Upper Bound:', round(answer13a[0],1),'\\n',\n",
        "      'Lower Bound:', round(answer13a[1],1))"
      ],
      "metadata": {
        "colab": {
          "base_uri": "https://localhost:8080/"
        },
        "id": "rvSTM9_RUra5",
        "outputId": "e36d85c8-68f6-46af-f038-c37751f4afb8"
      },
      "id": "rvSTM9_RUra5",
      "execution_count": 36,
      "outputs": [
        {
          "output_type": "stream",
          "name": "stdout",
          "text": [
            "Upper Bound: 3.8 \n",
            " Lower Bound: 4.0\n"
          ]
        }
      ]
    },
    {
      "cell_type": "code",
      "source": [
        "answer13b = sps.t.interval(0.8, df = n - 1,\n",
        "                           loc = x_bar, scale = sigma / np.sqrt(n))"
      ],
      "metadata": {
        "id": "dtn8uK7uTqsb"
      },
      "id": "dtn8uK7uTqsb",
      "execution_count": 37,
      "outputs": []
    },
    {
      "cell_type": "code",
      "execution_count": 38,
      "id": "02161283-ed86-43ae-95fa-4f73413ec9f3",
      "metadata": {
        "id": "02161283-ed86-43ae-95fa-4f73413ec9f3",
        "colab": {
          "base_uri": "https://localhost:8080/"
        },
        "outputId": "3290b999-dd3a-411b-8c99-e73366ec216c"
      },
      "outputs": [
        {
          "output_type": "stream",
          "name": "stdout",
          "text": [
            "Upper Bound: 3.8 \n",
            " Lower Bound: 4.0\n"
          ]
        }
      ],
      "source": [
        "print('Upper Bound:', round(answer13b[0],1),'\\n',\n",
        "      'Lower Bound:', round(answer13b[1],1))"
      ]
    },
    {
      "cell_type": "markdown",
      "id": "895aaffe-e4c3-4827-92a0-887ced692d22",
      "metadata": {
        "id": "895aaffe-e4c3-4827-92a0-887ced692d22"
      },
      "source": [
        "14. An economist wants to estimate the mean per capita income (in thousands of dollars) in a major city in California.  Suppose a sample of size 7472 is drawn with $\\bar{x} = 16.6$.  Assume $\\sigma = 11$.  Construct the 98% confidence interval for the mean per capita income. (Round your answers to 1 decimal place)"
      ]
    },
    {
      "cell_type": "code",
      "execution_count": 39,
      "id": "1a7dba57-fd4d-469d-adba-ad9d53096ece",
      "metadata": {
        "id": "1a7dba57-fd4d-469d-adba-ad9d53096ece"
      },
      "outputs": [],
      "source": [
        "x_bar = 16.6\n",
        "sigma = 11\n",
        "n = 7472"
      ]
    },
    {
      "cell_type": "code",
      "execution_count": 40,
      "id": "3a71a7ad-7ebf-4728-8201-6d8f8bfdde65",
      "metadata": {
        "id": "3a71a7ad-7ebf-4728-8201-6d8f8bfdde65"
      },
      "outputs": [],
      "source": [
        "answer14 = sps.norm.interval(0.98, loc = x_bar, scale = sigma / np.sqrt(n))"
      ]
    },
    {
      "cell_type": "code",
      "source": [
        "print('Upper Bound:', round(answer14[0],1),'\\n',\n",
        "      'Lower Bound:', round(answer14[1],1))"
      ],
      "metadata": {
        "colab": {
          "base_uri": "https://localhost:8080/"
        },
        "id": "ucM9d2suU1Xj",
        "outputId": "f96bbef5-fb28-46be-f934-0199227cffd7"
      },
      "id": "ucM9d2suU1Xj",
      "execution_count": 41,
      "outputs": [
        {
          "output_type": "stream",
          "name": "stdout",
          "text": [
            "Upper Bound: 16.3 \n",
            " Lower Bound: 16.9\n"
          ]
        }
      ]
    },
    {
      "cell_type": "markdown",
      "id": "9ea4581f-fd32-4554-8763-4e88eeaa229b",
      "metadata": {
        "id": "9ea4581f-fd32-4554-8763-4e88eeaa229b"
      },
      "source": [
        "15. Find the value of t such that 0.05 of the area under the curve is to the left of t.  Assume the degrees of freedom equals 26. <br>\n",
        "Step 1. Choose the picture which best describes the problem. <br>\n",
        "![Picture1.png](data:image/png;base64,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) <br>\n",
        "This image best describes the problem, as it highlights the area under the curve left of some critical value (calculated below). <br> \n",
        "Step 2. Write your answer below. "
      ]
    },
    {
      "cell_type": "code",
      "source": [
        "answer15 = sps.t.ppf(0.05, loc = 0, scale = 1, df = 26)"
      ],
      "metadata": {
        "id": "RpiPinXNOEbh"
      },
      "id": "RpiPinXNOEbh",
      "execution_count": 42,
      "outputs": []
    },
    {
      "cell_type": "code",
      "source": [
        "round(answer15, 4)"
      ],
      "metadata": {
        "id": "3u5jse_ZOEuq",
        "colab": {
          "base_uri": "https://localhost:8080/"
        },
        "outputId": "541db6d7-c78f-4ebd-d7a5-5e3c3a6a9bb7"
      },
      "id": "3u5jse_ZOEuq",
      "execution_count": 43,
      "outputs": [
        {
          "output_type": "execute_result",
          "data": {
            "text/plain": [
              "-1.7056"
            ]
          },
          "metadata": {},
          "execution_count": 43
        }
      ]
    },
    {
      "cell_type": "markdown",
      "id": "96d98518-f3ed-470d-b1e6-7f0aa8c4b885",
      "metadata": {
        "id": "96d98518-f3ed-470d-b1e6-7f0aa8c4b885"
      },
      "source": [
        "16. The following measurements ( in picocuries per liter ) were recorded by a set of helium gas detectors installed in a laboratory facility:\n",
        "\n",
        "383.6, 347.1, 371.9, 347.6, 325.8, 337\n",
        "\n",
        "Using these measurements, construct a 90% confidence interval for the mean level of helium gas present in the facility.  Assume the population is normally distributed.  \n",
        "\n",
        "Step 1. Calculate the sample mean for the given sample data. (Round answer to 2 decimal places) \n",
        "\n",
        "\n",
        "Step 2. Calculate the sample standard deviation for the given sample data. (Round answer to 2 decimal places) \n",
        "\n",
        "\n",
        "Step 3. Find the critical value that should be used in constructing the confidence interval. (Round answer to 3 decimal places) \n",
        "\n",
        "\n",
        "Step 4. Construct the 90% confidence interval. (Round answer to 2 decimal places)\n",
        "Upper Bound:\n",
        "Lower Bound:"
      ]
    },
    {
      "cell_type": "code",
      "source": [
        "data = [383.6, 347.1, 371.9, 347.6, 325.8, 337]"
      ],
      "metadata": {
        "id": "-c3geXxQNxMY"
      },
      "id": "-c3geXxQNxMY",
      "execution_count": 44,
      "outputs": []
    },
    {
      "cell_type": "code",
      "source": [
        "# Step 1\n",
        "mean = np.mean(data)\n",
        "round(mean,2)"
      ],
      "metadata": {
        "colab": {
          "base_uri": "https://localhost:8080/"
        },
        "id": "aD8CUY0UXhTx",
        "outputId": "ab88a2b3-ab0d-4b9d-e293-cdcaf39c9d16"
      },
      "id": "aD8CUY0UXhTx",
      "execution_count": 45,
      "outputs": [
        {
          "output_type": "execute_result",
          "data": {
            "text/plain": [
              "352.17"
            ]
          },
          "metadata": {},
          "execution_count": 45
        }
      ]
    },
    {
      "cell_type": "code",
      "source": [
        "# Step 2\n",
        "ssd = np.std(data)\n",
        "round(ssd,2)"
      ],
      "metadata": {
        "id": "dY51-DHPNxSN",
        "colab": {
          "base_uri": "https://localhost:8080/"
        },
        "outputId": "b46a4e06-8bd5-4265-b165-66634a4b4d22"
      },
      "id": "dY51-DHPNxSN",
      "execution_count": 46,
      "outputs": [
        {
          "output_type": "execute_result",
          "data": {
            "text/plain": [
              "19.79"
            ]
          },
          "metadata": {},
          "execution_count": 46
        }
      ]
    },
    {
      "cell_type": "code",
      "source": [
        "# Step 3\n",
        "t_crit = sps.t.ppf(0.9, df = len(data) - 1)\n",
        "round(t_crit,3)"
      ],
      "metadata": {
        "colab": {
          "base_uri": "https://localhost:8080/"
        },
        "id": "Kagk6i1_XvI9",
        "outputId": "4a9d8006-5c11-49f5-8f8e-b05bf4e215bb"
      },
      "id": "Kagk6i1_XvI9",
      "execution_count": 47,
      "outputs": [
        {
          "output_type": "execute_result",
          "data": {
            "text/plain": [
              "1.476"
            ]
          },
          "metadata": {},
          "execution_count": 47
        }
      ]
    },
    {
      "cell_type": "code",
      "source": [
        "# Step 4\n",
        "UB = mean + t_crit * ssd\n",
        "LB = mean - t_crit * ssd\n",
        "\n",
        "print('Upper Bound:', round(UB,2),'\\n',\n",
        "      'Lower Bound:', round(LB,2))"
      ],
      "metadata": {
        "colab": {
          "base_uri": "https://localhost:8080/"
        },
        "id": "9vP3qRi-XvRR",
        "outputId": "c9a4f1a4-bb69-409d-ba39-d73e4a8c1a09"
      },
      "id": "9vP3qRi-XvRR",
      "execution_count": 48,
      "outputs": [
        {
          "output_type": "stream",
          "name": "stdout",
          "text": [
            "Upper Bound: 381.37 \n",
            " Lower Bound: 322.96\n"
          ]
        }
      ]
    },
    {
      "cell_type": "markdown",
      "id": "51a50f42-7f0b-445f-a581-7bbbc9cb91ad",
      "metadata": {
        "id": "51a50f42-7f0b-445f-a581-7bbbc9cb91ad"
      },
      "source": [
        "17. A random sample of 16 fields of spring wheat has a mean yield of 46.4 bushels per acre and standard deviation of 2.45 bushels per acre.  Determine the 80% confidence interval for the true mean yield.  Assume the population is normally distributed.  \n",
        "\n",
        "Step 1. Find the critical value that should be used in constructing the confidence interval. (Round answer to 3 decimal places) \n",
        "\n",
        "\n",
        "Step 2. Construct the 80% confidence interval. (Round answer to 1 decimal place)"
      ]
    },
    {
      "cell_type": "code",
      "source": [
        "x_bar = 46.4\n",
        "ssd = 2.45\n",
        "n = 16"
      ],
      "metadata": {
        "id": "stQumhq2Zo9v"
      },
      "id": "stQumhq2Zo9v",
      "execution_count": 49,
      "outputs": []
    },
    {
      "cell_type": "code",
      "source": [
        "# Step 1\n",
        "t_crit = sps.t.ppf(0.9, df = n - 1)\n",
        "round(t_crit,3)"
      ],
      "metadata": {
        "id": "aejgk0VoNxsC",
        "colab": {
          "base_uri": "https://localhost:8080/"
        },
        "outputId": "0c0d62e6-be39-4987-e577-7fbf82bd5f18"
      },
      "id": "aejgk0VoNxsC",
      "execution_count": 50,
      "outputs": [
        {
          "output_type": "execute_result",
          "data": {
            "text/plain": [
              "1.341"
            ]
          },
          "metadata": {},
          "execution_count": 50
        }
      ]
    },
    {
      "cell_type": "code",
      "source": [
        "# Step 2\n",
        "UB = x_bar + t_crit * ssd / np.sqrt(n)\n",
        "LB = x_bar - t_crit * ssd / np.sqrt(n)\n",
        "\n",
        "print('Upper Bound:', round(UB,1),'\\n',\n",
        "      'Lower Bound:', round(LB,1))"
      ],
      "metadata": {
        "id": "IdXu9G03Nxug",
        "colab": {
          "base_uri": "https://localhost:8080/"
        },
        "outputId": "b51a81d2-50e9-467e-ac21-4a7d174e8fe5"
      },
      "id": "IdXu9G03Nxug",
      "execution_count": 51,
      "outputs": [
        {
          "output_type": "stream",
          "name": "stdout",
          "text": [
            "Upper Bound: 47.2 \n",
            " Lower Bound: 45.6\n"
          ]
        }
      ]
    },
    {
      "cell_type": "markdown",
      "id": "d8de8d61-eae0-48ee-8279-c76246fee5a7",
      "metadata": {
        "id": "d8de8d61-eae0-48ee-8279-c76246fee5a7"
      },
      "source": [
        "18. A toy manufacturer wants to know how many new toys children buy each year.  She thinks the mean is 8 toys per year.  Assume a previous study found the standard deviation to be 1.9.  How large of a sample would be required in order to estimate the mean number of toys bought per child at the 99% confidence level with an error of at most 0.13 toys? (Round your answer up to the next integer)"
      ]
    },
    {
      "cell_type": "code",
      "execution_count": 52,
      "id": "04d6a64b-8b93-479b-82dc-8ee46b531192",
      "metadata": {
        "id": "04d6a64b-8b93-479b-82dc-8ee46b531192"
      },
      "outputs": [],
      "source": [
        "x_bar = 8\n",
        "sigma = 1.9"
      ]
    },
    {
      "cell_type": "code",
      "execution_count": 53,
      "id": "69191db5-6fa9-480b-a182-d62d0548eb09",
      "metadata": {
        "id": "69191db5-6fa9-480b-a182-d62d0548eb09"
      },
      "outputs": [],
      "source": [
        "# By \"error\", I'm assuming the question refers to margin of error for the confidence internal, not standard error.\n",
        "\n",
        "error = 1\n",
        "n = 2\n",
        "\n",
        "while error >= 0.13:\n",
        "  t_crit = sps.t.ppf(0.99, df = n - 1)\n",
        "  std_error = sigma / np.sqrt(n)\n",
        "  error = t_crit * std_error\n",
        "  n += 1"
      ]
    },
    {
      "cell_type": "code",
      "source": [
        "n"
      ],
      "metadata": {
        "colab": {
          "base_uri": "https://localhost:8080/"
        },
        "id": "nUV76T_Vcu_-",
        "outputId": "70fc25ac-04d1-4abc-a3f8-d938bd6e00be"
      },
      "id": "nUV76T_Vcu_-",
      "execution_count": 54,
      "outputs": [
        {
          "output_type": "execute_result",
          "data": {
            "text/plain": [
              "1161"
            ]
          },
          "metadata": {},
          "execution_count": 54
        }
      ]
    },
    {
      "cell_type": "markdown",
      "id": "aed71182-40a1-49b3-8c77-2aa01709f443",
      "metadata": {
        "id": "aed71182-40a1-49b3-8c77-2aa01709f443"
      },
      "source": [
        "19. A research scientist wants to know how many times per hour a certain strand of bacteria reproduces.  He believes that the mean is 12.6.  Assume the variance is known to be 3.61.  How large of a sample would be required in order to estimate the mean number of reproductions per hour at the 95% confidence level with an error of at most 0.19 reproductions? (Round your answer up to the next integer)"
      ]
    },
    {
      "cell_type": "code",
      "execution_count": 55,
      "id": "040c0137-aa60-4615-9f53-de3fc5c69b5e",
      "metadata": {
        "id": "040c0137-aa60-4615-9f53-de3fc5c69b5e"
      },
      "outputs": [],
      "source": [
        "x_bar = 12.6\n",
        "sigma = np.sqrt(3.61)"
      ]
    },
    {
      "cell_type": "code",
      "execution_count": 56,
      "id": "67fa52fa-ccae-4c72-8a92-5323e970aa76",
      "metadata": {
        "id": "67fa52fa-ccae-4c72-8a92-5323e970aa76"
      },
      "outputs": [],
      "source": [
        "# By \"error\", I'm assuming the question refers to margin of error for the confidence internal, not standard error.\n",
        "\n",
        "error = 1\n",
        "n = 2\n",
        "\n",
        "while error >= 0.19:\n",
        "  t_crit = sps.t.ppf(0.95, df = n - 1)\n",
        "  std_error = sigma / np.sqrt(n)\n",
        "  error = t_crit * std_error\n",
        "  n += 1"
      ]
    },
    {
      "cell_type": "code",
      "source": [
        "n"
      ],
      "metadata": {
        "colab": {
          "base_uri": "https://localhost:8080/"
        },
        "id": "EXaGXGpBgXiC",
        "outputId": "5079e640-1e20-4072-ed15-b89628529ebf"
      },
      "id": "EXaGXGpBgXiC",
      "execution_count": 57,
      "outputs": [
        {
          "output_type": "execute_result",
          "data": {
            "text/plain": [
              "274"
            ]
          },
          "metadata": {},
          "execution_count": 57
        }
      ]
    },
    {
      "cell_type": "markdown",
      "id": "cf8c4da9-2e39-4b7b-be98-e9753610c59a",
      "metadata": {
        "id": "cf8c4da9-2e39-4b7b-be98-e9753610c59a"
      },
      "source": [
        "20. The state education commission wants to estimate the fraction of tenth grade students that have reading skills at or below the eighth grade level.\n",
        "\n",
        "Step 1. Suppose a sample of 2089 tenth graders is drawn. Of the students sampled, 1734 read above the eighth grade level.  Using the data, estimate the proportion of tenth graders reading at or below the eighth grade level. (Write your answer as a fraction or a decimal number rounded to 3 decimal places) \n",
        "\n",
        "\n",
        "Step 2. Suppose a sample of 2089 tenth graders is drawn.  Of the students sampled, 1734 read above the eighth grade level.  Using the data, construct the 98% confidence interval for the population proportion of tenth graders reading at or below the eighth grade level. (Round your answers to 3 decimal places)"
      ]
    },
    {
      "cell_type": "code",
      "execution_count": 58,
      "id": "3011338f-347e-4025-bfbb-12bba9a07c41",
      "metadata": {
        "id": "3011338f-347e-4025-bfbb-12bba9a07c41",
        "colab": {
          "base_uri": "https://localhost:8080/"
        },
        "outputId": "03c59d11-023a-4a09-a6df-e326bbcf7479"
      },
      "outputs": [
        {
          "output_type": "execute_result",
          "data": {
            "text/plain": [
              "0.1699"
            ]
          },
          "metadata": {},
          "execution_count": 58
        }
      ],
      "source": [
        "# Step 1\n",
        "answer20 = (2089 - 1734) / 2089\n",
        "round(answer20,4)"
      ]
    },
    {
      "cell_type": "code",
      "execution_count": 59,
      "id": "45eec589-9307-411c-b823-55ca6cf1af56",
      "metadata": {
        "id": "45eec589-9307-411c-b823-55ca6cf1af56",
        "colab": {
          "base_uri": "https://localhost:8080/"
        },
        "outputId": "8d6cd79a-e8f1-4302-86e7-f61073135472"
      },
      "outputs": [
        {
          "output_type": "stream",
          "name": "stdout",
          "text": [
            "Upper Bound: 0.189 \n",
            " Lower Bound: 0.151\n"
          ]
        }
      ],
      "source": [
        "# Step 2\n",
        "answer20 = proportion_confint(count = (2089 - 1734), nobs = 2089, alpha = 0.02)\n",
        "\n",
        "print('Upper Bound:', round(answer20[1],3),'\\n',\n",
        "      'Lower Bound:', round(answer20[0],3))"
      ]
    },
    {
      "cell_type": "markdown",
      "id": "0cf2da01-f558-469c-84b0-031c49fb8b55",
      "metadata": {
        "id": "0cf2da01-f558-469c-84b0-031c49fb8b55"
      },
      "source": [
        "21. An environmentalist wants to find out the fraction of oil tankers that have spills each month.\n",
        "\n",
        "Step 1. Suppose a sample of 474 tankers is drawn.  Of these ships, 156 had spills.  Using the data, estimate the proportion of oil tankers that had spills. (Write your answer as a fraction or a decimal number rounded to 3 decimal places) \n",
        "\n",
        "Step 2. Suppose a sample of 474 tankers is drawn.  Of these ships, 156 had spills.  Using the data, construct the 95% confidence interval for the population proportion of oil tankers that have spills each month. (Round your answers to 3 decimal places)"
      ]
    },
    {
      "cell_type": "code",
      "execution_count": 60,
      "id": "988d8f55-7f7d-4ad0-83bf-e001d9a46368",
      "metadata": {
        "id": "988d8f55-7f7d-4ad0-83bf-e001d9a46368",
        "colab": {
          "base_uri": "https://localhost:8080/"
        },
        "outputId": "44660197-7d34-41e0-fbcd-4e37aacae109"
      },
      "outputs": [
        {
          "output_type": "execute_result",
          "data": {
            "text/plain": [
              "0.329"
            ]
          },
          "metadata": {},
          "execution_count": 60
        }
      ],
      "source": [
        "# Step 1\n",
        "answer21 = 156 / 474\n",
        "round(answer21,3)"
      ]
    },
    {
      "cell_type": "code",
      "execution_count": 61,
      "id": "ad3908a9-aaeb-4cb3-94a9-a8d186274180",
      "metadata": {
        "id": "ad3908a9-aaeb-4cb3-94a9-a8d186274180",
        "colab": {
          "base_uri": "https://localhost:8080/"
        },
        "outputId": "4a5f91cb-2527-496e-f9a1-e7f10e58a301"
      },
      "outputs": [
        {
          "output_type": "stream",
          "name": "stdout",
          "text": [
            "Upper Bound: 0.371 \n",
            " Lower Bound: 0.287\n"
          ]
        }
      ],
      "source": [
        "# Step 2\n",
        "answer21 = proportion_confint(count = 156, nobs = 474, alpha = 0.05)\n",
        "\n",
        "print('Upper Bound:', round(answer21[1],3),'\\n',\n",
        "      'Lower Bound:', round(answer21[0],3))"
      ]
    }
  ],
  "metadata": {
    "kernelspec": {
      "display_name": "Python 3 (ipykernel)",
      "language": "python",
      "name": "python3"
    },
    "language_info": {
      "codemirror_mode": {
        "name": "ipython",
        "version": 3
      },
      "file_extension": ".py",
      "mimetype": "text/x-python",
      "name": "python",
      "nbconvert_exporter": "python",
      "pygments_lexer": "ipython3",
      "version": "3.9.13"
    },
    "colab": {
      "provenance": []
    }
  },
  "nbformat": 4,
  "nbformat_minor": 5
}
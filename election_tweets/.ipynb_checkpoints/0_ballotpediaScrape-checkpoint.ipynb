{
 "cells": [
  {
   "cell_type": "code",
   "execution_count": 1,
   "id": "3aede570-66f8-4b69-a5ae-6024b9005916",
   "metadata": {
    "tags": []
   },
   "outputs": [],
   "source": [
    "import pandas as pd\n",
    "import numpy as np\n",
    "import re\n",
    "import time\n",
    "\n",
    "import requests\n",
    "from bs4 import BeautifulSoup\n",
    "from selenium import webdriver"
   ]
  },
  {
   "cell_type": "code",
   "execution_count": 2,
   "id": "830d038a-a3cb-41ae-b65e-436f6b1ba832",
   "metadata": {},
   "outputs": [],
   "source": [
    "url = 'https://ballotpedia.org/List_of_congressional_candidates_in_the_2022_elections'"
   ]
  },
  {
   "cell_type": "code",
   "execution_count": 3,
   "id": "8eae86ba-ff6d-4601-9a87-8052efa47790",
   "metadata": {
    "tags": []
   },
   "outputs": [],
   "source": [
    "state_names = ['Alaska', 'Alabama', 'Arkansas', 'Arizona', 'California', 'Colorado', 'Connecticut', 'Delaware', 'Florida', 'Georgia', 'Hawaii', 'Iowa', 'Idaho', 'Illinois', 'Indiana', 'Kansas', 'Kentucky', 'Louisiana', 'Massachusetts', 'Maryland', 'Maine', 'Michigan', 'Minnesota', 'Missouri', 'Mississippi', 'Montana', 'North Carolina', 'North_Carolina', 'North Dakota', 'North_Dakota', 'Nebraska', 'New Hampshire', 'New_Hampshire', 'New Jersey', 'New_Jersey', 'New Mexico', 'New_Mexico', 'Nevada', 'New York', 'New_York', 'Ohio', 'Oklahoma', 'Oregon', 'Pennsylvania', 'Rhode Island', 'Rhode_Island', 'South Carolina', 'South_Carolina', 'South Dakota', 'South_Dakota', 'Tennessee', 'Texas', 'Utah', 'Virginia', 'Vermont', 'Washington', 'Wisconsin', 'West Virginia', 'West_Virginia', 'Wyoming']\n",
    "state_regex = '(' + ')|('.join(state_names) + ')'\n",
    "party_names = ['Democratic Party','Republican Party','Libertarian Party','Independent','Nonpartisan','Unaffiliated','Alaskan Independence Party','American Independent Party','Green Party','No party preference','Peace and Freedom Party of California','American Constitution Party','Independent Party','No Party Affiliation','Constitution Party','Working Class Party','Legal Marijuana Now Party','Working Families Party','Independence Party','Progressive Party','United Utah Party','Vermont Progressive Party','American Solidarity Party','Congress Sucks Party','Logic Party','Alliance Party']\n",
    "party_regex = '(' + ')|('.join(party_names) + ')'"
   ]
  },
  {
   "cell_type": "code",
   "execution_count": 4,
   "id": "bbb81f80-0472-48c1-8cde-f4f8ac963ca2",
   "metadata": {
    "tags": []
   },
   "outputs": [],
   "source": [
    "## launch headless Edge instance\n",
    "options = webdriver.EdgeOptions()\n",
    "options.add_argument('--headless')\n",
    "\n",
    "driver = webdriver.Edge(options = options)\n",
    "driver.get(url)\n",
    "\n",
    "## grab html from page\n",
    "page = driver.page_source.encode('utf-8')\n",
    "soup = BeautifulSoup(page, 'html.parser')"
   ]
  },
  {
   "cell_type": "code",
   "execution_count": 80,
   "id": "77c5b6b4-d734-42f2-b2ab-d828df9622cf",
   "metadata": {
    "tags": []
   },
   "outputs": [],
   "source": [
    "## loop through states, grab code, and grab links for Senate and House\n",
    "senate_links = []\n",
    "house_links = []\n",
    "\n",
    "for state in state_names:\n",
    "    state_html = soup.find('div', id = state.replace(' ', '_'))\n",
    "\n",
    "    senate_html = str(state_html).split('id=\"U.S._House')[0]\n",
    "    senate_links.extend(re.findall(r'(?<=href=\")https://ballotpedia.org/[A-Za-z\\.\\'\\-\\(\\)_]+(?=\">)', \n",
    "                                   str(senate_html))\n",
    "                       )\n",
    "    \n",
    "    house_html = str(state_html).split('id=\"U.S._House')[1]\n",
    "    # house_links.extend(re.findall(r'(?<=\")(https://ballotpedia.org/([A-Za-z\\.\\'\\-]+_){1,4}[A-Za-z\\.\\'\\-\\(\\)]+)(?=\")',\n",
    "    house_links.extend(re.findall(r'(?<=href=\")https://ballotpedia.org/[A-Za-z\\.\\'\\-\\(\\)_]+(?=\">)',\n",
    "                                  str(house_html))\n",
    "                      )"
   ]
  },
  {
   "cell_type": "code",
   "execution_count": 42,
   "id": "6e06b9f1-04cf-4a3f-a459-5ea6aa746bb5",
   "metadata": {
    "tags": []
   },
   "outputs": [
    {
     "data": {
      "text/plain": [
       "[('https://ballotpedia.org/Meghan_Jensen', 'Meghan_')]"
      ]
     },
     "execution_count": 42,
     "metadata": {},
     "output_type": "execute_result"
    }
   ],
   "source": [
    "re.findall(r'(?<=\")(https://ballotpedia.org/([A-Za-z\\.\\'\\-]+_){1,4}[A-Za-z\\.\\'\\-\\(\\)]+)(?=\")',\n",
    "           '<a href=\"https://ballotpedia.org/Meghan_Jensen\">')"
   ]
  },
  {
   "cell_type": "code",
   "execution_count": 50,
   "id": "eb55e80a-f4ba-4ac3-8af7-1aa098c5ff0d",
   "metadata": {
    "tags": []
   },
   "outputs": [
    {
     "data": {
      "text/plain": [
       "['https://ballotpedia.org/Meghan_Jensen']"
      ]
     },
     "execution_count": 50,
     "metadata": {},
     "output_type": "execute_result"
    }
   ],
   "source": [
    "re.findall(r'(?<=href=\")https://ballotpedia.org/[A-Za-z\\.\\'\\-\\(\\)_]+(?=\">)',\n",
    "           '<a href=\"https://ballotpedia.org/Meghan_Jensen\">')"
   ]
  },
  {
   "cell_type": "code",
   "execution_count": 81,
   "id": "cdbca2b8-e3d7-497e-8602-e2c792e7e8ce",
   "metadata": {
    "tags": []
   },
   "outputs": [],
   "source": [
    "house_links = [x for x in house_links if '_Party' not in x]\n",
    "house_links = [*set(house_links)]"
   ]
  },
  {
   "cell_type": "code",
   "execution_count": 82,
   "id": "225b7f55-8640-4b61-bef2-9a2e6e18c09e",
   "metadata": {
    "tags": []
   },
   "outputs": [
    {
     "data": {
      "text/plain": [
       "2390"
      ]
     },
     "execution_count": 82,
     "metadata": {},
     "output_type": "execute_result"
    }
   ],
   "source": [
    "len(house_links)"
   ]
  },
  {
   "cell_type": "code",
   "execution_count": 77,
   "id": "aa0ef076-494e-4eb7-927c-59c78767c662",
   "metadata": {
    "tags": []
   },
   "outputs": [],
   "source": [
    "# house_link_old = house_links\n",
    "house_link_old = [x[0] for x in house_link_old if '_Party' not in x[0]]\n",
    "house_link_old = [*set(house_link_old)]"
   ]
  },
  {
   "cell_type": "code",
   "execution_count": 78,
   "id": "c2d8a243-19c8-4aa1-9b32-f970a7007008",
   "metadata": {
    "tags": []
   },
   "outputs": [
    {
     "data": {
      "text/plain": [
       "2330"
      ]
     },
     "execution_count": 78,
     "metadata": {},
     "output_type": "execute_result"
    }
   ],
   "source": [
    "len(house_link_old)"
   ]
  },
  {
   "cell_type": "code",
   "execution_count": 83,
   "id": "19a9e37d-c1b1-46a1-8bb9-3adb2291f4d7",
   "metadata": {
    "tags": []
   },
   "outputs": [
    {
     "data": {
      "text/plain": [
       "['https://ballotpedia.org/Ken_Hill_(South_Carolina)',\n",
       " 'https://ballotpedia.org/David_Anderson_(Texas_congressional_candidate)',\n",
       " 'https://ballotpedia.org/Wesley_Hunt_(Texas_Congress)',\n",
       " 'https://ballotpedia.org/Andrew_Kim_(New_Jersey)',\n",
       " 'https://ballotpedia.org/Kelly_Armstrong_(North_Dakota)',\n",
       " 'https://ballotpedia.org/Bob_Healey_(New_Jersey)',\n",
       " 'https://ballotpedia.org/Robert_Lewis_(Colorado_congressional_candidate)',\n",
       " 'https://ballotpedia.org/Michael_Carson_(Mississippi_congressional_candidate)',\n",
       " 'https://ballotpedia.org/John_Barker_(New_Jersey)',\n",
       " 'https://ballotpedia.org/Robert_Thomas_(North_Carolina)',\n",
       " 'https://ballotpedia.org/Steve_Gray_(New_Jersey)',\n",
       " 'https://ballotpedia.org/David_Bruce_Foster_(Virginia_congressional_candidate)',\n",
       " 'https://ballotpedia.org/Michael_Chandler_(South_Carolina)',\n",
       " 'https://ballotpedia.org/Mark_Burns_(South_Carolina)',\n",
       " 'https://ballotpedia.org/Michael_Lawler_(New_York)',\n",
       " 'https://ballotpedia.org/Scott_Fuller_(West_Virginia)',\n",
       " 'https://ballotpedia.org/Sandy_Smith_(North_Carolina)',\n",
       " 'https://ballotpedia.org/Sean_Armstrong_(New_Jersey)',\n",
       " 'https://ballotpedia.org/George_Phillips_(New_York)',\n",
       " 'https://ballotpedia.org/James_Harris_(Texas_congressional_candidate)',\n",
       " 'https://ballotpedia.org/Bob_Burns_(New_Hampshire)',\n",
       " 'https://ballotpedia.org/Tom_Rice_(South_Carolina)',\n",
       " 'https://ballotpedia.org/Mark_McBride_(South_Carolina)',\n",
       " 'https://ballotpedia.org/Charles_Graham_(North_Carolina)',\n",
       " 'https://ballotpedia.org/Mark_Neumann_(Wisconsin_congressional_candidate)',\n",
       " 'https://ballotpedia.org/Toby_Anderson_(New_Jersey)',\n",
       " 'https://ballotpedia.org/Marco_Gutierrez_(North_Carolina)',\n",
       " 'https://ballotpedia.org/Dave_Williams_(Colorado_House)',\n",
       " 'https://ballotpedia.org/Erik_Peterson_(New_Jersey)',\n",
       " 'https://ballotpedia.org/Carol_Miller_(West_Virginia)',\n",
       " 'https://ballotpedia.org/Rob_Menendez_(New_Jersey)',\n",
       " 'https://ballotpedia.org/Kevin_Alan_Wolff_(North_Carolina)',\n",
       " 'https://ballotpedia.org/Robert_Zimmerman_(New_York)',\n",
       " 'https://ballotpedia.org/Rod_Honeycutt_(North_Carolina)',\n",
       " 'https://ballotpedia.org/Steve_Roberts_(Missouri_state_legislator)',\n",
       " 'https://ballotpedia.org/Mary_Maxwell_(New_Hampshire)',\n",
       " 'https://ballotpedia.org/Dennis_Clark_(Tennessee_congressional_candidate)',\n",
       " 'https://ballotpedia.org/Louie_Sanchez_(Congressional_candidate)',\n",
       " 'https://ballotpedia.org/Ron_Estes_(U.S._House_representative)',\n",
       " 'https://ballotpedia.org/Pat_Ryan_(New_York)',\n",
       " 'https://ballotpedia.org/Diego_Martinez_(California_congressional_candidate)',\n",
       " 'https://ballotpedia.org/Joe_Wilson_(South_Carolina)',\n",
       " 'https://ballotpedia.org/Tom_Wong_(California_congressional_candidate)',\n",
       " 'https://ballotpedia.org/Jason_Smith_(Missouri_representative)',\n",
       " 'https://ballotpedia.org/Frank_Mrvan_(Indiana_congressional_member)',\n",
       " 'https://ballotpedia.org/Michael_Ackerman_(North_Carolina)',\n",
       " 'https://ballotpedia.org/Jeff_Duncan_(South_Carolina)',\n",
       " 'https://ballotpedia.org/Ken_Richardson_(South_Carolina)',\n",
       " 'https://ballotpedia.org/Brandon_Williams_(New_York)',\n",
       " 'https://ballotpedia.org/Scott_Black_(New_Hampshire)',\n",
       " 'https://ballotpedia.org/Stephen_J._Valentine_(North_Carolina)',\n",
       " 'https://ballotpedia.org/Michael_Corbin_(Georgia_congressional_candidate)',\n",
       " 'https://ballotpedia.org/David_Michael_Anderson_(Washington_congressional_candidate)',\n",
       " 'https://ballotpedia.org/Kent_Stevens_(West_Virginia)',\n",
       " 'https://ballotpedia.org/Joe_Evans_(Idaho_congressional_candidate)',\n",
       " 'https://ballotpedia.org/Chris_Smith_(New_Jersey)',\n",
       " 'https://ballotpedia.org/Paul_King_(New_York)',\n",
       " 'https://ballotpedia.org/Nonpartisan',\n",
       " 'https://ballotpedia.org/Charles_E._Evans_(North_Carolina_congressional_candidate)',\n",
       " 'https://ballotpedia.org/Steve_Miller_(North_Carolina_congressional_candidate)']"
      ]
     },
     "execution_count": 83,
     "metadata": {},
     "output_type": "execute_result"
    }
   ],
   "source": [
    "[x for x in house_links if x not in house_link_old]"
   ]
  },
  {
   "cell_type": "code",
   "execution_count": 9,
   "id": "1b9aa0ec-f076-48fd-87d0-483b7fc37d76",
   "metadata": {
    "tags": []
   },
   "outputs": [
    {
     "data": {
      "text/plain": [
       "'_50\">U.S. House</span></h2><dl><dd><dl><dd><i>See also: <a class=\"mw-redirect\" href=\"/United_States_House_of_Representatives_elections_in_Wyoming,_2022\" title=\"United States House of Representatives elections in Wyoming, 2022\">United States House of Representatives elections in Wyoming, 2022</a></i></dd></dl></dd></dl><p><style>\\n.split-cols-c-list {\\ncolumns: 3;\\n-webkit-columns: 3;\\n-moz-columns: 3;\\n}\\n@media screen and (max-width: 892px) {\\n.split-cols-c-list {\\ncolumns: 1;\\n-webkit-columns: 1;\\n-moz-columns: 1;\\n}\\n}\\n</style>\\n</p><h3>Democratic</h3><ol class=\"split-cols-c-list\">\\n<li><a href=\"https://ballotpedia.org/Lynnette_Grey_Bull\">Lynnette Grey Bull  </a></li>\\n<li><a href=\"https://ballotpedia.org/Meghan_Jensen\">Meghan Jensen  </a></li>\\n</ol><h3>Republican</h3><ol class=\"split-cols-c-list\">\\n<li><a href=\"https://ballotpedia.org/Robyn_Belinskey\">Robyn Belinskey  </a></li>\\n<li><a href=\"https://ballotpedia.org/Anthony_Bouchard\">Anthony Bouchard  </a></li>\\n<li><a href=\"https://ballotpedia.org/Liz_Cheney\">Liz Cheney  (i)  </a></li>\\n<li><a href=\"https://ballotpedia.org/Harriet_Hageman\">Harriet Hageman  </a></li>\\n<li><a href=\"https://ballotpedia.org/Denton_Knapp\">Denton Knapp  </a></li>\\n</ol><h3>Other</h3><ol class=\"split-cols-c-list\">\\n<li><a href=\"https://ballotpedia.org/Richard_Brubaker\">Richard Brubaker   </a><a href=\"https://ballotpedia.org/Libertarian_Party\">(Libertarian Party)</a></li>\\n<li><a href=\"https://ballotpedia.org/Marissa_Selvig\">Marissa Selvig   </a><a href=\"https://ballotpedia.org/Constitution_Party\">(Constitution Party)</a></li>\\n</ol></div>'"
      ]
     },
     "execution_count": 9,
     "metadata": {},
     "output_type": "execute_result"
    }
   ],
   "source": [
    "house_html"
   ]
  },
  {
   "cell_type": "code",
   "execution_count": 49,
   "id": "a2028e78-e4ad-4f95-b696-d929d455da27",
   "metadata": {
    "tags": []
   },
   "outputs": [
    {
     "data": {
      "text/plain": [
       "['https://ballotpedia.org/Alexandria_Ocasio-Cortez']"
      ]
     },
     "execution_count": 49,
     "metadata": {},
     "output_type": "execute_result"
    }
   ],
   "source": [
    "[x for x in house_links  if 'Ocasio' in x]"
   ]
  },
  {
   "cell_type": "code",
   "execution_count": 352,
   "id": "4920296f-8847-4e2c-804e-8a74d35ce855",
   "metadata": {
    "tags": []
   },
   "outputs": [],
   "source": [
    "# function\n",
    "def scrape_candidate_page(url, type = 'House'):\n",
    "    url = url\n",
    "    page = requests.get(url)\n",
    "    soup = BeautifulSoup(page.content, 'html.parser')\n",
    "    body = soup.find('div', class_ = 'mw-parser-output')\n",
    "    link_table = soup.find('div', class_ = 'infobox person')\n",
    "    election_link = body.find('a', href = re.compile(str('https://ballotpedia.org/.*(Congress|House).*,_2022')))\n",
    "\n",
    "    name = re.search(r'[A-Za-zé\\.\\'\\- ]+(?=\\n\\n)', link_table.get_text())[0]\n",
    "    try:\n",
    "        party = re.search(party_regex, link_table.get_text())[0]\n",
    "    except:\n",
    "        party = ''\n",
    "    try:\n",
    "        state = re.search(state_regex, str(election_link))[0]\n",
    "    except:\n",
    "        state = ''\n",
    "    try:\n",
    "        district = re.search(r'(?<=_)[0-9]+(?=[a-z][a-z]_)', str(election_link))[0]\n",
    "    except:\n",
    "        district = ''\n",
    "    try:\n",
    "        last_election = re.search(r'[A-Za-z]+ [0-9]+, [0-9]+(?=\\n\\n)', link_table.get_text())[0]\n",
    "    except:\n",
    "        last_election = ''\n",
    "    twitter = re.findall(r'(?<=\")https://www.twitter.com/\\w+(?=\")', str(link_table))\n",
    "    ballotpedia = url\n",
    "    \n",
    "    result = [name, party, state, district, last_election, twitter, ballotpedia]\n",
    "    \n",
    "    return result, body, link_table, election_link;"
   ]
  },
  {
   "cell_type": "code",
   "execution_count": 353,
   "id": "ef2f155d-9cf8-4aa8-b795-4441f28dda7e",
   "metadata": {
    "tags": []
   },
   "outputs": [],
   "source": [
    "result, body, link_table, election_link = scrape_candidate_page(house_links[1967])"
   ]
  },
  {
   "cell_type": "code",
   "execution_count": 354,
   "id": "a92b9eca-8935-42ca-8a23-29870c19f9c6",
   "metadata": {
    "tags": []
   },
   "outputs": [
    {
     "data": {
      "text/plain": [
       "['Jaimy Annette Zoboulikos-Blanco',\n",
       " 'Republican Party',\n",
       " 'Texas',\n",
       " '29',\n",
       " 'March 1, 2022',\n",
       " ['https://www.twitter.com/JaimyBlanco'],\n",
       " 'https://ballotpedia.org/Jaimy_Blanco']"
      ]
     },
     "execution_count": 354,
     "metadata": {},
     "output_type": "execute_result"
    }
   ],
   "source": [
    "result"
   ]
  },
  {
   "cell_type": "code",
   "execution_count": 342,
   "id": "676e41e2-e6d0-4ab9-bfc4-bf45df5fb8e5",
   "metadata": {
    "tags": []
   },
   "outputs": [
    {
     "data": {
      "text/plain": [
       "'Jaimy Annette Zoboulikos-Blanco\\n\\n\\n Republican Party\\n\\n\\nElections and appointments\\n\\n\\n\\t\\t\\t\\t\\tLast election\\t\\t\\t\\t\\n\\n\\t\\t\\t\\t\\tMarch 1, 2022\\n\\n\\n\\nPersonal\\n\\nBirthplace\\nHouston, Texas\\n\\n\\nReligion\\nOrthodox Judaism\\n\\n\\nProfession\\nBusiness owner\\n\\nContact\\n\\n Campaign website\\n\\n\\n\\n Campaign Facebook\\n\\n\\n\\n Campaign Twitter\\n\\n\\n\\n Campaign YouTube\\n\\n\\n\\n Personal LinkedIn\\n\\n\\n'"
      ]
     },
     "execution_count": 342,
     "metadata": {},
     "output_type": "execute_result"
    }
   ],
   "source": [
    "link_table.get_text()"
   ]
  },
  {
   "cell_type": "code",
   "execution_count": 321,
   "id": "f3c13d0b-649d-44a9-82f5-a7a16818fe61",
   "metadata": {
    "tags": []
   },
   "outputs": [
    {
     "name": "stdout",
     "output_type": "stream",
     "text": [
      "Progress - 0 of 2289\n",
      "Progress - 100 of 2289\n",
      "Progress - 200 of 2289\n",
      "Progress - 300 of 2289\n",
      "Progress - 400 of 2289\n",
      "Progress - 500 of 2289\n",
      "Progress - 600 of 2289\n",
      "Progress - 700 of 2289\n",
      "Progress - 800 of 2289\n",
      "Progress - 900 of 2289\n",
      "Progress - 1000 of 2289\n",
      "Progress - 1100 of 2289\n",
      "Progress - 1200 of 2289\n",
      "Progress - 1300 of 2289\n",
      "Progress - 1400 of 2289\n",
      "Progress - 1500 of 2289\n",
      "Progress - 1600 of 2289\n",
      "Progress - 1700 of 2289\n",
      "Progress - 1800 of 2289\n",
      "Progress - 1900 of 2289\n",
      "Progress - 2000 of 2289\n",
      "Progress - 2100 of 2289\n",
      "Progress - 2200 of 2289\n"
     ]
    }
   ],
   "source": [
    "ballotpedia_scrape = pd.DataFrame(columns = ['name', 'party', 'state', 'district', 'last_election', 'twitter', 'ballotpedia'])\n",
    "\n",
    "for url in house_links:\n",
    "    result = scrape_candidate_page(url)\n",
    "    ballotpedia_scrape.loc[len(ballotpedia_scrape)] = result\n",
    "    # time.sleep(1)\n",
    "    if house_links.index(url) % 100 == 0:\n",
    "        print(f'Progress - {house_links.index(url)} of {len(house_links)}')"
   ]
  },
  {
   "cell_type": "code",
   "execution_count": 322,
   "id": "1bdbe567-d2e5-450d-824b-6036fc1fc100",
   "metadata": {},
   "outputs": [
    {
     "data": {
      "text/html": [
       "<div>\n",
       "<style scoped>\n",
       "    .dataframe tbody tr th:only-of-type {\n",
       "        vertical-align: middle;\n",
       "    }\n",
       "\n",
       "    .dataframe tbody tr th {\n",
       "        vertical-align: top;\n",
       "    }\n",
       "\n",
       "    .dataframe thead th {\n",
       "        text-align: right;\n",
       "    }\n",
       "</style>\n",
       "<table border=\"1\" class=\"dataframe\">\n",
       "  <thead>\n",
       "    <tr style=\"text-align: right;\">\n",
       "      <th></th>\n",
       "      <th>name</th>\n",
       "      <th>party</th>\n",
       "      <th>state</th>\n",
       "      <th>district</th>\n",
       "      <th>last_election</th>\n",
       "      <th>twitter</th>\n",
       "      <th>ballotpedia</th>\n",
       "    </tr>\n",
       "  </thead>\n",
       "  <tbody>\n",
       "    <tr>\n",
       "      <th>0</th>\n",
       "      <td>Tony Gonzales</td>\n",
       "      <td>Republican Party</td>\n",
       "      <td>Texas</td>\n",
       "      <td>23</td>\n",
       "      <td>November 8, 2022</td>\n",
       "      <td>[https://www.twitter.com/RepTonyGonzales, http...</td>\n",
       "      <td>https://ballotpedia.org/Tony_Gonzales</td>\n",
       "    </tr>\n",
       "    <tr>\n",
       "      <th>1</th>\n",
       "      <td>Willie Montague</td>\n",
       "      <td>Republican Party</td>\n",
       "      <td>Florida</td>\n",
       "      <td>10</td>\n",
       "      <td>August 23, 2022</td>\n",
       "      <td>[https://www.twitter.com/RepMontague]</td>\n",
       "      <td>https://ballotpedia.org/Willie_Montague</td>\n",
       "    </tr>\n",
       "    <tr>\n",
       "      <th>2</th>\n",
       "      <td>Michelle Munroe</td>\n",
       "      <td>Democratic Party</td>\n",
       "      <td>Georgia</td>\n",
       "      <td>1</td>\n",
       "      <td>May 24, 2022</td>\n",
       "      <td>[https://www.twitter.com/MunroeFor1CD]</td>\n",
       "      <td>https://ballotpedia.org/Michelle_Munroe</td>\n",
       "    </tr>\n",
       "    <tr>\n",
       "      <th>3</th>\n",
       "      <td>Phil Heimlich</td>\n",
       "      <td>Republican Party</td>\n",
       "      <td>Ohio</td>\n",
       "      <td>8</td>\n",
       "      <td>May 3, 2022</td>\n",
       "      <td>[https://www.twitter.com/philheimlich]</td>\n",
       "      <td>https://ballotpedia.org/Phil_Heimlich</td>\n",
       "    </tr>\n",
       "    <tr>\n",
       "      <th>4</th>\n",
       "      <td>Carl Boyanton</td>\n",
       "      <td>Republican Party</td>\n",
       "      <td>Mississippi</td>\n",
       "      <td>4</td>\n",
       "      <td>June 7, 2022</td>\n",
       "      <td>[https://www.twitter.com/Carl4congressms]</td>\n",
       "      <td>https://ballotpedia.org/Carl_Boyanton</td>\n",
       "    </tr>\n",
       "    <tr>\n",
       "      <th>...</th>\n",
       "      <td>...</td>\n",
       "      <td>...</td>\n",
       "      <td>...</td>\n",
       "      <td>...</td>\n",
       "      <td>...</td>\n",
       "      <td>...</td>\n",
       "      <td>...</td>\n",
       "    </tr>\n",
       "    <tr>\n",
       "      <th>2284</th>\n",
       "      <td>Ruben Landon Dante</td>\n",
       "      <td>Republican Party</td>\n",
       "      <td>Texas</td>\n",
       "      <td>14</td>\n",
       "      <td>March 1, 2022</td>\n",
       "      <td>[https://www.twitter.com/RubenLDante]</td>\n",
       "      <td>https://ballotpedia.org/Ruben_Landon_Dante</td>\n",
       "    </tr>\n",
       "    <tr>\n",
       "      <th>2285</th>\n",
       "      <td>Ricky Barajas</td>\n",
       "      <td>Democratic Party</td>\n",
       "      <td>Oregon</td>\n",
       "      <td>6</td>\n",
       "      <td>May 17, 2022</td>\n",
       "      <td>[https://www.twitter.com/RIckyBarajas4OR]</td>\n",
       "      <td>https://ballotpedia.org/Ricky_Barajas</td>\n",
       "    </tr>\n",
       "    <tr>\n",
       "      <th>2286</th>\n",
       "      <td>Spencer Dickinson</td>\n",
       "      <td>Democratic Party</td>\n",
       "      <td>Rhode Island</td>\n",
       "      <td>2</td>\n",
       "      <td>September 13, 2022</td>\n",
       "      <td>[]</td>\n",
       "      <td>https://ballotpedia.org/Spencer_Dickinson</td>\n",
       "    </tr>\n",
       "    <tr>\n",
       "      <th>2287</th>\n",
       "      <td>Curtis Huffman</td>\n",
       "      <td>Republican Party</td>\n",
       "      <td>Nebraska</td>\n",
       "      <td>1</td>\n",
       "      <td>May 10, 2022</td>\n",
       "      <td>[]</td>\n",
       "      <td>https://ballotpedia.org/Curtis_Huffman</td>\n",
       "    </tr>\n",
       "    <tr>\n",
       "      <th>2288</th>\n",
       "      <td>David Rogers</td>\n",
       "      <td>Nonpartisan</td>\n",
       "      <td>Delaware</td>\n",
       "      <td></td>\n",
       "      <td>November 8, 2022</td>\n",
       "      <td>[]</td>\n",
       "      <td>https://ballotpedia.org/David_Rogers_(Delaware)</td>\n",
       "    </tr>\n",
       "  </tbody>\n",
       "</table>\n",
       "<p>2289 rows × 7 columns</p>\n",
       "</div>"
      ],
      "text/plain": [
       "                    name             party         state district  \\\n",
       "0          Tony Gonzales  Republican Party         Texas       23   \n",
       "1        Willie Montague  Republican Party       Florida       10   \n",
       "2        Michelle Munroe  Democratic Party       Georgia        1   \n",
       "3          Phil Heimlich  Republican Party          Ohio        8   \n",
       "4          Carl Boyanton  Republican Party   Mississippi        4   \n",
       "...                  ...               ...           ...      ...   \n",
       "2284  Ruben Landon Dante  Republican Party         Texas       14   \n",
       "2285       Ricky Barajas  Democratic Party        Oregon        6   \n",
       "2286   Spencer Dickinson  Democratic Party  Rhode Island        2   \n",
       "2287      Curtis Huffman  Republican Party      Nebraska        1   \n",
       "2288        David Rogers       Nonpartisan      Delaware            \n",
       "\n",
       "           last_election                                            twitter  \\\n",
       "0       November 8, 2022  [https://www.twitter.com/RepTonyGonzales, http...   \n",
       "1        August 23, 2022              [https://www.twitter.com/RepMontague]   \n",
       "2           May 24, 2022             [https://www.twitter.com/MunroeFor1CD]   \n",
       "3            May 3, 2022             [https://www.twitter.com/philheimlich]   \n",
       "4           June 7, 2022          [https://www.twitter.com/Carl4congressms]   \n",
       "...                  ...                                                ...   \n",
       "2284       March 1, 2022              [https://www.twitter.com/RubenLDante]   \n",
       "2285        May 17, 2022          [https://www.twitter.com/RIckyBarajas4OR]   \n",
       "2286  September 13, 2022                                                 []   \n",
       "2287        May 10, 2022                                                 []   \n",
       "2288    November 8, 2022                                                 []   \n",
       "\n",
       "                                          ballotpedia  \n",
       "0               https://ballotpedia.org/Tony_Gonzales  \n",
       "1             https://ballotpedia.org/Willie_Montague  \n",
       "2             https://ballotpedia.org/Michelle_Munroe  \n",
       "3               https://ballotpedia.org/Phil_Heimlich  \n",
       "4               https://ballotpedia.org/Carl_Boyanton  \n",
       "...                                               ...  \n",
       "2284       https://ballotpedia.org/Ruben_Landon_Dante  \n",
       "2285            https://ballotpedia.org/Ricky_Barajas  \n",
       "2286        https://ballotpedia.org/Spencer_Dickinson  \n",
       "2287           https://ballotpedia.org/Curtis_Huffman  \n",
       "2288  https://ballotpedia.org/David_Rogers_(Delaware)  \n",
       "\n",
       "[2289 rows x 7 columns]"
      ]
     },
     "execution_count": 322,
     "metadata": {},
     "output_type": "execute_result"
    }
   ],
   "source": [
    "ballotpedia_scrape"
   ]
  },
  {
   "cell_type": "code",
   "execution_count": 323,
   "id": "0d7b8e50-1cc1-4bac-babe-a6e84bcea174",
   "metadata": {
    "tags": []
   },
   "outputs": [
    {
     "data": {
      "text/plain": [
       "649"
      ]
     },
     "execution_count": 323,
     "metadata": {},
     "output_type": "execute_result"
    }
   ],
   "source": [
    "len(ballotpedia_scrape.query('twitter.str.len() == 0'))"
   ]
  },
  {
   "cell_type": "code",
   "execution_count": 349,
   "id": "199f0366-d730-42c8-9b80-309911a4376e",
   "metadata": {
    "tags": []
   },
   "outputs": [
    {
     "data": {
      "text/html": [
       "<div>\n",
       "<style scoped>\n",
       "    .dataframe tbody tr th:only-of-type {\n",
       "        vertical-align: middle;\n",
       "    }\n",
       "\n",
       "    .dataframe tbody tr th {\n",
       "        vertical-align: top;\n",
       "    }\n",
       "\n",
       "    .dataframe thead th {\n",
       "        text-align: right;\n",
       "    }\n",
       "</style>\n",
       "<table border=\"1\" class=\"dataframe\">\n",
       "  <thead>\n",
       "    <tr style=\"text-align: right;\">\n",
       "      <th></th>\n",
       "      <th>name</th>\n",
       "      <th>party</th>\n",
       "      <th>state</th>\n",
       "      <th>district</th>\n",
       "      <th>last_election</th>\n",
       "      <th>twitter</th>\n",
       "      <th>ballotpedia</th>\n",
       "    </tr>\n",
       "  </thead>\n",
       "  <tbody>\n",
       "    <tr>\n",
       "      <th>522</th>\n",
       "      <td>rez</td>\n",
       "      <td>Democratic Party</td>\n",
       "      <td>Washington</td>\n",
       "      <td>3</td>\n",
       "      <td>November 8, 2022</td>\n",
       "      <td>[https://www.twitter.com/RepMGP, https://www.t...</td>\n",
       "      <td>https://ballotpedia.org/Marie_Gluesenkamp_Perez</td>\n",
       "    </tr>\n",
       "  </tbody>\n",
       "</table>\n",
       "</div>"
      ],
      "text/plain": [
       "    name             party       state district     last_election  \\\n",
       "522  rez  Democratic Party  Washington        3  November 8, 2022   \n",
       "\n",
       "                                               twitter  \\\n",
       "522  [https://www.twitter.com/RepMGP, https://www.t...   \n",
       "\n",
       "                                         ballotpedia  \n",
       "522  https://ballotpedia.org/Marie_Gluesenkamp_Perez  "
      ]
     },
     "execution_count": 349,
     "metadata": {},
     "output_type": "execute_result"
    }
   ],
   "source": [
    "ballotpedia_scrape.query('name == \"rez\"')"
   ]
  },
  {
   "cell_type": "code",
   "execution_count": 325,
   "id": "c2fc85e8-2356-4766-bb52-7e8e82d84ab1",
   "metadata": {},
   "outputs": [
    {
     "data": {
      "text/plain": [
       "Republican Party                         1169\n",
       "Democratic Party                          817\n",
       "Independent                               112\n",
       "Libertarian Party                          81\n",
       "                                           33\n",
       "Nonpartisan                                19\n",
       "No Party Affiliation                       17\n",
       "Working Class Party                         8\n",
       "Green Party                                 7\n",
       "Constitution Party                          5\n",
       "Legal Marijuana Now Party                   4\n",
       "American Independent Party                  2\n",
       "Working Families Party                      2\n",
       "United Utah Party                           2\n",
       "Progressive Party                           2\n",
       "Alaskan Independence Party                  1\n",
       "American Constitution Party                 1\n",
       "Vermont Progressive Party                   1\n",
       "Congress Sucks Party                        1\n",
       "Unaffiliated                                1\n",
       "Peace and Freedom Party of California       1\n",
       "American Solidarity Party                   1\n",
       "Independence Party                          1\n",
       "No party preference                         1\n",
       "Name: party, dtype: int64"
      ]
     },
     "execution_count": 325,
     "metadata": {},
     "output_type": "execute_result"
    }
   ],
   "source": [
    "ballotpedia_scrape.party.value_counts()"
   ]
  },
  {
   "cell_type": "code",
   "execution_count": 326,
   "id": "7e5f96b5-084c-45d2-9dac-016bdbf796f6",
   "metadata": {
    "tags": []
   },
   "outputs": [
    {
     "data": {
      "text/html": [
       "<div>\n",
       "<style scoped>\n",
       "    .dataframe tbody tr th:only-of-type {\n",
       "        vertical-align: middle;\n",
       "    }\n",
       "\n",
       "    .dataframe tbody tr th {\n",
       "        vertical-align: top;\n",
       "    }\n",
       "\n",
       "    .dataframe thead th {\n",
       "        text-align: right;\n",
       "    }\n",
       "</style>\n",
       "<table border=\"1\" class=\"dataframe\">\n",
       "  <thead>\n",
       "    <tr style=\"text-align: right;\">\n",
       "      <th></th>\n",
       "      <th>name</th>\n",
       "      <th>party</th>\n",
       "      <th>state</th>\n",
       "      <th>district</th>\n",
       "      <th>last_election</th>\n",
       "      <th>twitter</th>\n",
       "      <th>ballotpedia</th>\n",
       "    </tr>\n",
       "  </thead>\n",
       "  <tbody>\n",
       "    <tr>\n",
       "      <th>201</th>\n",
       "      <td>Vincent Fort</td>\n",
       "      <td></td>\n",
       "      <td>Georgia</td>\n",
       "      <td>13</td>\n",
       "      <td>May 24, 2022</td>\n",
       "      <td>[]</td>\n",
       "      <td>https://ballotpedia.org/Vincent_Fort</td>\n",
       "    </tr>\n",
       "    <tr>\n",
       "      <th>211</th>\n",
       "      <td>Joseph Oddo</td>\n",
       "      <td></td>\n",
       "      <td>South Carolina</td>\n",
       "      <td>1</td>\n",
       "      <td>November 8, 2022</td>\n",
       "      <td>[https://www.twitter.com/writeconsult]</td>\n",
       "      <td>https://ballotpedia.org/Joseph_Oddo</td>\n",
       "    </tr>\n",
       "    <tr>\n",
       "      <th>359</th>\n",
       "      <td>Gregory Sobocinski</td>\n",
       "      <td></td>\n",
       "      <td>New Jersey</td>\n",
       "      <td>3</td>\n",
       "      <td>November 8, 2022</td>\n",
       "      <td>[]</td>\n",
       "      <td>https://ballotpedia.org/Gregory_Sobocinski</td>\n",
       "    </tr>\n",
       "    <tr>\n",
       "      <th>400</th>\n",
       "      <td>Patrick Dillon</td>\n",
       "      <td></td>\n",
       "      <td>Washington</td>\n",
       "      <td>8</td>\n",
       "      <td>August 2, 2022</td>\n",
       "      <td>[]</td>\n",
       "      <td>https://ballotpedia.org/Patrick_Dillon</td>\n",
       "    </tr>\n",
       "    <tr>\n",
       "      <th>450</th>\n",
       "      <td>Tim Long</td>\n",
       "      <td></td>\n",
       "      <td>Colorado</td>\n",
       "      <td>8</td>\n",
       "      <td>November 8, 2022</td>\n",
       "      <td>[]</td>\n",
       "      <td>https://ballotpedia.org/Tim_Long_(Colorado)</td>\n",
       "    </tr>\n",
       "    <tr>\n",
       "      <th>561</th>\n",
       "      <td>Mikhail Itkis</td>\n",
       "      <td></td>\n",
       "      <td>New York</td>\n",
       "      <td>12</td>\n",
       "      <td>November 8, 2022</td>\n",
       "      <td>[https://www.twitter.com/ItkisCampaign]</td>\n",
       "      <td>https://ballotpedia.org/Mikhail_Itkis</td>\n",
       "    </tr>\n",
       "    <tr>\n",
       "      <th>627</th>\n",
       "      <td>Desi Cuellar</td>\n",
       "      <td></td>\n",
       "      <td>New York</td>\n",
       "      <td>14</td>\n",
       "      <td>November 8, 2022</td>\n",
       "      <td>[https://www.twitter.com/desijcuellar]</td>\n",
       "      <td>https://ballotpedia.org/Desi_Cuellar</td>\n",
       "    </tr>\n",
       "    <tr>\n",
       "      <th>681</th>\n",
       "      <td>Jon Welch</td>\n",
       "      <td></td>\n",
       "      <td>Washington</td>\n",
       "      <td>2</td>\n",
       "      <td>August 2, 2022</td>\n",
       "      <td>[]</td>\n",
       "      <td>https://ballotpedia.org/Jon_Welch_(Washington)</td>\n",
       "    </tr>\n",
       "    <tr>\n",
       "      <th>964</th>\n",
       "      <td>Steve Yurash</td>\n",
       "      <td></td>\n",
       "      <td>Colorado</td>\n",
       "      <td>2</td>\n",
       "      <td>November 8, 2022</td>\n",
       "      <td>[]</td>\n",
       "      <td>https://ballotpedia.org/Steve_Yurash</td>\n",
       "    </tr>\n",
       "    <tr>\n",
       "      <th>1031</th>\n",
       "      <td>Brian Abrahamson</td>\n",
       "      <td></td>\n",
       "      <td>Minnesota</td>\n",
       "      <td>1</td>\n",
       "      <td>November 8, 2022</td>\n",
       "      <td>[]</td>\n",
       "      <td>https://ballotpedia.org/Brian_Abrahamson</td>\n",
       "    </tr>\n",
       "    <tr>\n",
       "      <th>1134</th>\n",
       "      <td>John Beatty</td>\n",
       "      <td></td>\n",
       "      <td>Virginia</td>\n",
       "      <td>10</td>\n",
       "      <td>November 5, 2019</td>\n",
       "      <td>[https://www.twitter.com/beattyforus]</td>\n",
       "      <td>https://ballotpedia.org/John_Beatty_(Virginia)</td>\n",
       "    </tr>\n",
       "    <tr>\n",
       "      <th>1154</th>\n",
       "      <td>Loretta Smith</td>\n",
       "      <td></td>\n",
       "      <td>Oregon</td>\n",
       "      <td>6</td>\n",
       "      <td>May 17, 2022</td>\n",
       "      <td>[https://www.twitter.com/lorettasmithor]</td>\n",
       "      <td>https://ballotpedia.org/Loretta_Smith</td>\n",
       "    </tr>\n",
       "    <tr>\n",
       "      <th>1288</th>\n",
       "      <td>Patricia Kline</td>\n",
       "      <td></td>\n",
       "      <td>New Jersey</td>\n",
       "      <td>1</td>\n",
       "      <td>November 8, 2022</td>\n",
       "      <td>[]</td>\n",
       "      <td>https://ballotpedia.org/Patricia_Kline</td>\n",
       "    </tr>\n",
       "    <tr>\n",
       "      <th>1297</th>\n",
       "      <td>Carl Marlinga</td>\n",
       "      <td></td>\n",
       "      <td>Michigan</td>\n",
       "      <td>10</td>\n",
       "      <td>November 8, 2022</td>\n",
       "      <td>[https://www.twitter.com/MarlingaForMI10]</td>\n",
       "      <td>https://ballotpedia.org/Carl_Marlinga</td>\n",
       "    </tr>\n",
       "    <tr>\n",
       "      <th>1308</th>\n",
       "      <td>Christopher Dardzinski</td>\n",
       "      <td></td>\n",
       "      <td>Michigan</td>\n",
       "      <td>13</td>\n",
       "      <td>November 8, 2022</td>\n",
       "      <td>[]</td>\n",
       "      <td>https://ballotpedia.org/Christopher_Dardzinski</td>\n",
       "    </tr>\n",
       "    <tr>\n",
       "      <th>1327</th>\n",
       "      <td>Pam Daniels</td>\n",
       "      <td></td>\n",
       "      <td>New Jersey</td>\n",
       "      <td>4</td>\n",
       "      <td>November 8, 2022</td>\n",
       "      <td>[https://www.twitter.com/PamRDaniels]</td>\n",
       "      <td>https://ballotpedia.org/Pam_Daniels</td>\n",
       "    </tr>\n",
       "    <tr>\n",
       "      <th>1374</th>\n",
       "      <td>Christopher Rodriguez</td>\n",
       "      <td></td>\n",
       "      <td>California</td>\n",
       "      <td>49</td>\n",
       "      <td>November 6, 2018</td>\n",
       "      <td>[https://www.twitter.com/Vote4CRod]</td>\n",
       "      <td>https://ballotpedia.org/Christopher_Rodriguez</td>\n",
       "    </tr>\n",
       "    <tr>\n",
       "      <th>1388</th>\n",
       "      <td>Bryan Holder</td>\n",
       "      <td></td>\n",
       "      <td>Iowa</td>\n",
       "      <td>4</td>\n",
       "      <td>November 8, 2022</td>\n",
       "      <td>[]</td>\n",
       "      <td>https://ballotpedia.org/Bryan_Holder</td>\n",
       "    </tr>\n",
       "    <tr>\n",
       "      <th>1400</th>\n",
       "      <td>Menachem Raitport</td>\n",
       "      <td></td>\n",
       "      <td>New York</td>\n",
       "      <td>9</td>\n",
       "      <td>November 8, 2022</td>\n",
       "      <td>[]</td>\n",
       "      <td>https://ballotpedia.org/Menachem_Raitport</td>\n",
       "    </tr>\n",
       "    <tr>\n",
       "      <th>1405</th>\n",
       "      <td>Vonciel Jones Hill</td>\n",
       "      <td></td>\n",
       "      <td>Texas</td>\n",
       "      <td>30</td>\n",
       "      <td>March 1, 2022</td>\n",
       "      <td>[]</td>\n",
       "      <td>https://ballotpedia.org/Vonciel_Jones_Hill</td>\n",
       "    </tr>\n",
       "    <tr>\n",
       "      <th>1441</th>\n",
       "      <td>Louis Vellucci</td>\n",
       "      <td></td>\n",
       "      <td>New Jersey</td>\n",
       "      <td>5</td>\n",
       "      <td>November 8, 2022</td>\n",
       "      <td>[https://www.twitter.com/louv55]</td>\n",
       "      <td>https://ballotpedia.org/Louis_Vellucci</td>\n",
       "    </tr>\n",
       "    <tr>\n",
       "      <th>1462</th>\n",
       "      <td>Allen Cannon</td>\n",
       "      <td></td>\n",
       "      <td>New Jersey</td>\n",
       "      <td>1</td>\n",
       "      <td>November 8, 2022</td>\n",
       "      <td>[]</td>\n",
       "      <td>https://ballotpedia.org/Allen_Cannon</td>\n",
       "    </tr>\n",
       "    <tr>\n",
       "      <th>1472</th>\n",
       "      <td>Lisa Bartlett</td>\n",
       "      <td></td>\n",
       "      <td>California</td>\n",
       "      <td>49</td>\n",
       "      <td>June 7, 2022</td>\n",
       "      <td>[https://www.twitter.com/bartlettforca]</td>\n",
       "      <td>https://ballotpedia.org/Lisa_Bartlett</td>\n",
       "    </tr>\n",
       "    <tr>\n",
       "      <th>1524</th>\n",
       "      <td>Haroun McClellan</td>\n",
       "      <td></td>\n",
       "      <td>Minnesota</td>\n",
       "      <td>1</td>\n",
       "      <td>August 9, 2022</td>\n",
       "      <td>[https://www.twitter.com/HarounMcclellan]</td>\n",
       "      <td>https://ballotpedia.org/Haroun_McClellan</td>\n",
       "    </tr>\n",
       "    <tr>\n",
       "      <th>1546</th>\n",
       "      <td>Tom Patti</td>\n",
       "      <td></td>\n",
       "      <td>California</td>\n",
       "      <td>9</td>\n",
       "      <td>March 3, 2020</td>\n",
       "      <td>[https://www.twitter.com/SupeTomPatti]</td>\n",
       "      <td>https://ballotpedia.org/Tom_Patti</td>\n",
       "    </tr>\n",
       "    <tr>\n",
       "      <th>1816</th>\n",
       "      <td>Trevor Ferrigno</td>\n",
       "      <td></td>\n",
       "      <td>New Jersey</td>\n",
       "      <td>5</td>\n",
       "      <td>November 8, 2022</td>\n",
       "      <td>[]</td>\n",
       "      <td>https://ballotpedia.org/Trevor_Ferrigno</td>\n",
       "    </tr>\n",
       "    <tr>\n",
       "      <th>1839</th>\n",
       "      <td>Reagan Dunn</td>\n",
       "      <td></td>\n",
       "      <td>Washington</td>\n",
       "      <td>8</td>\n",
       "      <td>November 2, 2021</td>\n",
       "      <td>[https://www.twitter.com/KCCReaganDunn, https:...</td>\n",
       "      <td>https://ballotpedia.org/Reagan_Dunn</td>\n",
       "    </tr>\n",
       "    <tr>\n",
       "      <th>1887</th>\n",
       "      <td>Cynthia Dianne Steel</td>\n",
       "      <td></td>\n",
       "      <td>Nevada</td>\n",
       "      <td>1</td>\n",
       "      <td>June 14, 2022</td>\n",
       "      <td>[]</td>\n",
       "      <td>https://ballotpedia.org/Cynthia_Dianne_Steel</td>\n",
       "    </tr>\n",
       "    <tr>\n",
       "      <th>1920</th>\n",
       "      <td>Anthony Parisi Sanchez</td>\n",
       "      <td></td>\n",
       "      <td>New Jersey</td>\n",
       "      <td>2</td>\n",
       "      <td>November 8, 2022</td>\n",
       "      <td>[]</td>\n",
       "      <td>https://ballotpedia.org/Anthony_Parisi_Sanchez</td>\n",
       "    </tr>\n",
       "    <tr>\n",
       "      <th>1952</th>\n",
       "      <td>Curtis Clark</td>\n",
       "      <td></td>\n",
       "      <td>Michigan</td>\n",
       "      <td>4</td>\n",
       "      <td>November 8, 2022</td>\n",
       "      <td>[]</td>\n",
       "      <td>https://ballotpedia.org/Curtis_Clark_(Michigan)</td>\n",
       "    </tr>\n",
       "    <tr>\n",
       "      <th>2073</th>\n",
       "      <td>Carl Paladino</td>\n",
       "      <td></td>\n",
       "      <td>New York</td>\n",
       "      <td>23</td>\n",
       "      <td>August 23, 2022</td>\n",
       "      <td>[https://www.twitter.com/CarlPaladinoNY]</td>\n",
       "      <td>https://ballotpedia.org/Carl_P._Paladino</td>\n",
       "    </tr>\n",
       "    <tr>\n",
       "      <th>2093</th>\n",
       "      <td>Pablo Olivera</td>\n",
       "      <td></td>\n",
       "      <td>New Jersey</td>\n",
       "      <td>8</td>\n",
       "      <td>November 8, 2022</td>\n",
       "      <td>[https://www.twitter.com/Olivera4Congres]</td>\n",
       "      <td>https://ballotpedia.org/Pablo_Olivera</td>\n",
       "    </tr>\n",
       "    <tr>\n",
       "      <th>2171</th>\n",
       "      <td>Ezra Scott</td>\n",
       "      <td></td>\n",
       "      <td>Michigan</td>\n",
       "      <td>5</td>\n",
       "      <td>November 8, 2022</td>\n",
       "      <td>[https://www.twitter.com/EzraforCongress]</td>\n",
       "      <td>https://ballotpedia.org/Ezra_Scott</td>\n",
       "    </tr>\n",
       "  </tbody>\n",
       "</table>\n",
       "</div>"
      ],
      "text/plain": [
       "                        name party           state district     last_election  \\\n",
       "201             Vincent Fort               Georgia       13      May 24, 2022   \n",
       "211              Joseph Oddo        South Carolina        1  November 8, 2022   \n",
       "359       Gregory Sobocinski            New Jersey        3  November 8, 2022   \n",
       "400           Patrick Dillon            Washington        8    August 2, 2022   \n",
       "450                 Tim Long              Colorado        8  November 8, 2022   \n",
       "561            Mikhail Itkis              New York       12  November 8, 2022   \n",
       "627             Desi Cuellar              New York       14  November 8, 2022   \n",
       "681                Jon Welch            Washington        2    August 2, 2022   \n",
       "964             Steve Yurash              Colorado        2  November 8, 2022   \n",
       "1031        Brian Abrahamson             Minnesota        1  November 8, 2022   \n",
       "1134             John Beatty              Virginia       10  November 5, 2019   \n",
       "1154           Loretta Smith                Oregon        6      May 17, 2022   \n",
       "1288          Patricia Kline            New Jersey        1  November 8, 2022   \n",
       "1297           Carl Marlinga              Michigan       10  November 8, 2022   \n",
       "1308  Christopher Dardzinski              Michigan       13  November 8, 2022   \n",
       "1327             Pam Daniels            New Jersey        4  November 8, 2022   \n",
       "1374   Christopher Rodriguez            California       49  November 6, 2018   \n",
       "1388            Bryan Holder                  Iowa        4  November 8, 2022   \n",
       "1400       Menachem Raitport              New York        9  November 8, 2022   \n",
       "1405      Vonciel Jones Hill                 Texas       30     March 1, 2022   \n",
       "1441          Louis Vellucci            New Jersey        5  November 8, 2022   \n",
       "1462            Allen Cannon            New Jersey        1  November 8, 2022   \n",
       "1472           Lisa Bartlett            California       49      June 7, 2022   \n",
       "1524        Haroun McClellan             Minnesota        1    August 9, 2022   \n",
       "1546               Tom Patti            California        9     March 3, 2020   \n",
       "1816         Trevor Ferrigno            New Jersey        5  November 8, 2022   \n",
       "1839             Reagan Dunn            Washington        8  November 2, 2021   \n",
       "1887    Cynthia Dianne Steel                Nevada        1     June 14, 2022   \n",
       "1920  Anthony Parisi Sanchez            New Jersey        2  November 8, 2022   \n",
       "1952            Curtis Clark              Michigan        4  November 8, 2022   \n",
       "2073           Carl Paladino              New York       23   August 23, 2022   \n",
       "2093           Pablo Olivera            New Jersey        8  November 8, 2022   \n",
       "2171              Ezra Scott              Michigan        5  November 8, 2022   \n",
       "\n",
       "                                                twitter  \\\n",
       "201                                                  []   \n",
       "211              [https://www.twitter.com/writeconsult]   \n",
       "359                                                  []   \n",
       "400                                                  []   \n",
       "450                                                  []   \n",
       "561             [https://www.twitter.com/ItkisCampaign]   \n",
       "627              [https://www.twitter.com/desijcuellar]   \n",
       "681                                                  []   \n",
       "964                                                  []   \n",
       "1031                                                 []   \n",
       "1134              [https://www.twitter.com/beattyforus]   \n",
       "1154           [https://www.twitter.com/lorettasmithor]   \n",
       "1288                                                 []   \n",
       "1297          [https://www.twitter.com/MarlingaForMI10]   \n",
       "1308                                                 []   \n",
       "1327              [https://www.twitter.com/PamRDaniels]   \n",
       "1374                [https://www.twitter.com/Vote4CRod]   \n",
       "1388                                                 []   \n",
       "1400                                                 []   \n",
       "1405                                                 []   \n",
       "1441                   [https://www.twitter.com/louv55]   \n",
       "1462                                                 []   \n",
       "1472            [https://www.twitter.com/bartlettforca]   \n",
       "1524          [https://www.twitter.com/HarounMcclellan]   \n",
       "1546             [https://www.twitter.com/SupeTomPatti]   \n",
       "1816                                                 []   \n",
       "1839  [https://www.twitter.com/KCCReaganDunn, https:...   \n",
       "1887                                                 []   \n",
       "1920                                                 []   \n",
       "1952                                                 []   \n",
       "2073           [https://www.twitter.com/CarlPaladinoNY]   \n",
       "2093          [https://www.twitter.com/Olivera4Congres]   \n",
       "2171          [https://www.twitter.com/EzraforCongress]   \n",
       "\n",
       "                                          ballotpedia  \n",
       "201              https://ballotpedia.org/Vincent_Fort  \n",
       "211               https://ballotpedia.org/Joseph_Oddo  \n",
       "359        https://ballotpedia.org/Gregory_Sobocinski  \n",
       "400            https://ballotpedia.org/Patrick_Dillon  \n",
       "450       https://ballotpedia.org/Tim_Long_(Colorado)  \n",
       "561             https://ballotpedia.org/Mikhail_Itkis  \n",
       "627              https://ballotpedia.org/Desi_Cuellar  \n",
       "681    https://ballotpedia.org/Jon_Welch_(Washington)  \n",
       "964              https://ballotpedia.org/Steve_Yurash  \n",
       "1031         https://ballotpedia.org/Brian_Abrahamson  \n",
       "1134   https://ballotpedia.org/John_Beatty_(Virginia)  \n",
       "1154            https://ballotpedia.org/Loretta_Smith  \n",
       "1288           https://ballotpedia.org/Patricia_Kline  \n",
       "1297            https://ballotpedia.org/Carl_Marlinga  \n",
       "1308   https://ballotpedia.org/Christopher_Dardzinski  \n",
       "1327              https://ballotpedia.org/Pam_Daniels  \n",
       "1374    https://ballotpedia.org/Christopher_Rodriguez  \n",
       "1388             https://ballotpedia.org/Bryan_Holder  \n",
       "1400        https://ballotpedia.org/Menachem_Raitport  \n",
       "1405       https://ballotpedia.org/Vonciel_Jones_Hill  \n",
       "1441           https://ballotpedia.org/Louis_Vellucci  \n",
       "1462             https://ballotpedia.org/Allen_Cannon  \n",
       "1472            https://ballotpedia.org/Lisa_Bartlett  \n",
       "1524         https://ballotpedia.org/Haroun_McClellan  \n",
       "1546                https://ballotpedia.org/Tom_Patti  \n",
       "1816          https://ballotpedia.org/Trevor_Ferrigno  \n",
       "1839              https://ballotpedia.org/Reagan_Dunn  \n",
       "1887     https://ballotpedia.org/Cynthia_Dianne_Steel  \n",
       "1920   https://ballotpedia.org/Anthony_Parisi_Sanchez  \n",
       "1952  https://ballotpedia.org/Curtis_Clark_(Michigan)  \n",
       "2073         https://ballotpedia.org/Carl_P._Paladino  \n",
       "2093            https://ballotpedia.org/Pablo_Olivera  \n",
       "2171               https://ballotpedia.org/Ezra_Scott  "
      ]
     },
     "execution_count": 326,
     "metadata": {},
     "output_type": "execute_result"
    }
   ],
   "source": [
    "ballotpedia_scrape.query('party == \"\"')"
   ]
  },
  {
   "cell_type": "code",
   "execution_count": 327,
   "id": "64e7d917-0c82-4f2c-9525-8de6b46a9c96",
   "metadata": {
    "tags": []
   },
   "outputs": [
    {
     "data": {
      "text/html": [
       "<div>\n",
       "<style scoped>\n",
       "    .dataframe tbody tr th:only-of-type {\n",
       "        vertical-align: middle;\n",
       "    }\n",
       "\n",
       "    .dataframe tbody tr th {\n",
       "        vertical-align: top;\n",
       "    }\n",
       "\n",
       "    .dataframe thead th {\n",
       "        text-align: right;\n",
       "    }\n",
       "</style>\n",
       "<table border=\"1\" class=\"dataframe\">\n",
       "  <thead>\n",
       "    <tr style=\"text-align: right;\">\n",
       "      <th></th>\n",
       "      <th>name</th>\n",
       "      <th>party</th>\n",
       "      <th>state</th>\n",
       "      <th>district</th>\n",
       "      <th>last_election</th>\n",
       "      <th>twitter</th>\n",
       "      <th>ballotpedia</th>\n",
       "    </tr>\n",
       "  </thead>\n",
       "  <tbody>\n",
       "  </tbody>\n",
       "</table>\n",
       "</div>"
      ],
      "text/plain": [
       "Empty DataFrame\n",
       "Columns: [name, party, state, district, last_election, twitter, ballotpedia]\n",
       "Index: []"
      ]
     },
     "execution_count": 327,
     "metadata": {},
     "output_type": "execute_result"
    }
   ],
   "source": [
    "ballotpedia_scrape.query('state == \"\"')"
   ]
  },
  {
   "cell_type": "code",
   "execution_count": 328,
   "id": "734d0069-5177-40c6-bd41-4ddfb648978a",
   "metadata": {
    "tags": []
   },
   "outputs": [
    {
     "data": {
      "text/plain": [
       "array(['Alaska', 'Wyoming', 'Delaware', 'Vermont', 'South_Dakota',\n",
       "       'North_Dakota'], dtype=object)"
      ]
     },
     "execution_count": 328,
     "metadata": {},
     "output_type": "execute_result"
    }
   ],
   "source": [
    "# Alaska, Delaware, North Dakota, South Dakota, Vermont, Wyoming\n",
    "ballotpedia_scrape.query('district == \"\"').state.unique()"
   ]
  },
  {
   "cell_type": "code",
   "execution_count": 329,
   "id": "876dce47-e48b-4e2e-90b3-79b8be2ed316",
   "metadata": {
    "tags": []
   },
   "outputs": [
    {
     "data": {
      "text/plain": [
       "2     230\n",
       "1     227\n",
       "3     175\n",
       "4     171\n",
       "6     147\n",
       "5     134\n",
       "7     122\n",
       "8     108\n",
       "10     95\n",
       "       84\n",
       "9      79\n",
       "13     61\n",
       "11     58\n",
       "12     50\n",
       "14     42\n",
       "15     41\n",
       "17     30\n",
       "16     27\n",
       "20     27\n",
       "23     26\n",
       "30     25\n",
       "22     24\n",
       "21     20\n",
       "27     19\n",
       "28     19\n",
       "35     18\n",
       "26     16\n",
       "37     16\n",
       "34     16\n",
       "24     16\n",
       "38     15\n",
       "18     15\n",
       "32     14\n",
       "25     14\n",
       "19     13\n",
       "36     10\n",
       "33      9\n",
       "49      7\n",
       "39      7\n",
       "29      6\n",
       "42      6\n",
       "31      6\n",
       "46      6\n",
       "50      5\n",
       "41      5\n",
       "47      5\n",
       "51      4\n",
       "43      4\n",
       "40      4\n",
       "48      4\n",
       "45      3\n",
       "44      2\n",
       "52      2\n",
       "Name: district, dtype: int64"
      ]
     },
     "execution_count": 329,
     "metadata": {},
     "output_type": "execute_result"
    }
   ],
   "source": [
    "ballotpedia_scrape.district.value_counts()"
   ]
  },
  {
   "cell_type": "code",
   "execution_count": 330,
   "id": "ceab792a-97d5-4f3f-b546-b54edade2e62",
   "metadata": {
    "tags": []
   },
   "outputs": [
    {
     "data": {
      "text/html": [
       "<div>\n",
       "<style scoped>\n",
       "    .dataframe tbody tr th:only-of-type {\n",
       "        vertical-align: middle;\n",
       "    }\n",
       "\n",
       "    .dataframe tbody tr th {\n",
       "        vertical-align: top;\n",
       "    }\n",
       "\n",
       "    .dataframe thead th {\n",
       "        text-align: right;\n",
       "    }\n",
       "</style>\n",
       "<table border=\"1\" class=\"dataframe\">\n",
       "  <thead>\n",
       "    <tr style=\"text-align: right;\">\n",
       "      <th></th>\n",
       "      <th>name</th>\n",
       "      <th>party</th>\n",
       "      <th>state</th>\n",
       "      <th>district</th>\n",
       "      <th>last_election</th>\n",
       "      <th>twitter</th>\n",
       "      <th>ballotpedia</th>\n",
       "    </tr>\n",
       "  </thead>\n",
       "  <tbody>\n",
       "    <tr>\n",
       "      <th>58</th>\n",
       "      <td>David Hughes</td>\n",
       "      <td>Independent</td>\n",
       "      <td>Alaska</td>\n",
       "      <td></td>\n",
       "      <td>August 16, 2022</td>\n",
       "      <td>[]</td>\n",
       "      <td>https://ballotpedia.org/David_Hughes</td>\n",
       "    </tr>\n",
       "    <tr>\n",
       "      <th>65</th>\n",
       "      <td>Robyn Belinskey</td>\n",
       "      <td>Republican Party</td>\n",
       "      <td>Wyoming</td>\n",
       "      <td></td>\n",
       "      <td>August 16, 2022</td>\n",
       "      <td>[]</td>\n",
       "      <td>https://ballotpedia.org/Robyn_Belinskey</td>\n",
       "    </tr>\n",
       "    <tr>\n",
       "      <th>71</th>\n",
       "      <td>Jeff Lowenfels</td>\n",
       "      <td>Independent</td>\n",
       "      <td>Alaska</td>\n",
       "      <td></td>\n",
       "      <td>August 16, 2022</td>\n",
       "      <td>[https://www.twitter.com/gardenerjeff]</td>\n",
       "      <td>https://ballotpedia.org/Jeff_Lowenfels</td>\n",
       "    </tr>\n",
       "    <tr>\n",
       "      <th>93</th>\n",
       "      <td>David Ambrose</td>\n",
       "      <td>Independent</td>\n",
       "      <td>Alaska</td>\n",
       "      <td></td>\n",
       "      <td>November 8, 2022</td>\n",
       "      <td>[]</td>\n",
       "      <td>https://ballotpedia.org/David_Ambrose</td>\n",
       "    </tr>\n",
       "    <tr>\n",
       "      <th>136</th>\n",
       "      <td>Denton Knapp</td>\n",
       "      <td>Republican Party</td>\n",
       "      <td>Wyoming</td>\n",
       "      <td></td>\n",
       "      <td>August 16, 2022</td>\n",
       "      <td>[https://www.twitter.com/knapp_wy, https://www...</td>\n",
       "      <td>https://ballotpedia.org/Denton_Knapp</td>\n",
       "    </tr>\n",
       "    <tr>\n",
       "      <th>...</th>\n",
       "      <td>...</td>\n",
       "      <td>...</td>\n",
       "      <td>...</td>\n",
       "      <td>...</td>\n",
       "      <td>...</td>\n",
       "      <td>...</td>\n",
       "      <td>...</td>\n",
       "    </tr>\n",
       "    <tr>\n",
       "      <th>2249</th>\n",
       "      <td>Tim Beck</td>\n",
       "      <td>Independent</td>\n",
       "      <td>Alaska</td>\n",
       "      <td></td>\n",
       "      <td>June 11, 2022</td>\n",
       "      <td>[]</td>\n",
       "      <td>https://ballotpedia.org/Tim_Beck_(Alaska)</td>\n",
       "    </tr>\n",
       "    <tr>\n",
       "      <th>2266</th>\n",
       "      <td>David Thistle</td>\n",
       "      <td>Independent</td>\n",
       "      <td>Alaska</td>\n",
       "      <td></td>\n",
       "      <td>June 11, 2022</td>\n",
       "      <td>[]</td>\n",
       "      <td>https://ballotpedia.org/David_Thistle</td>\n",
       "    </tr>\n",
       "    <tr>\n",
       "      <th>2275</th>\n",
       "      <td>John B. Coghill</td>\n",
       "      <td>Republican Party</td>\n",
       "      <td>Alaska</td>\n",
       "      <td></td>\n",
       "      <td>August 16, 2022</td>\n",
       "      <td>[]</td>\n",
       "      <td>https://ballotpedia.org/John_B._Coghill</td>\n",
       "    </tr>\n",
       "    <tr>\n",
       "      <th>2276</th>\n",
       "      <td>Lynnette Grey Bull</td>\n",
       "      <td>Democratic Party</td>\n",
       "      <td>Wyoming</td>\n",
       "      <td></td>\n",
       "      <td>November 8, 2022</td>\n",
       "      <td>[]</td>\n",
       "      <td>https://ballotpedia.org/Lynnette_Grey_Bull</td>\n",
       "    </tr>\n",
       "    <tr>\n",
       "      <th>2288</th>\n",
       "      <td>David Rogers</td>\n",
       "      <td>Nonpartisan</td>\n",
       "      <td>Delaware</td>\n",
       "      <td></td>\n",
       "      <td>November 8, 2022</td>\n",
       "      <td>[]</td>\n",
       "      <td>https://ballotpedia.org/David_Rogers_(Delaware)</td>\n",
       "    </tr>\n",
       "  </tbody>\n",
       "</table>\n",
       "<p>84 rows × 7 columns</p>\n",
       "</div>"
      ],
      "text/plain": [
       "                    name             party     state district  \\\n",
       "58          David Hughes       Independent    Alaska            \n",
       "65       Robyn Belinskey  Republican Party   Wyoming            \n",
       "71        Jeff Lowenfels       Independent    Alaska            \n",
       "93         David Ambrose       Independent    Alaska            \n",
       "136         Denton Knapp  Republican Party   Wyoming            \n",
       "...                  ...               ...       ...      ...   \n",
       "2249            Tim Beck       Independent    Alaska            \n",
       "2266       David Thistle       Independent    Alaska            \n",
       "2275     John B. Coghill  Republican Party    Alaska            \n",
       "2276  Lynnette Grey Bull  Democratic Party   Wyoming            \n",
       "2288        David Rogers       Nonpartisan  Delaware            \n",
       "\n",
       "         last_election                                            twitter  \\\n",
       "58     August 16, 2022                                                 []   \n",
       "65     August 16, 2022                                                 []   \n",
       "71     August 16, 2022             [https://www.twitter.com/gardenerjeff]   \n",
       "93    November 8, 2022                                                 []   \n",
       "136    August 16, 2022  [https://www.twitter.com/knapp_wy, https://www...   \n",
       "...                ...                                                ...   \n",
       "2249     June 11, 2022                                                 []   \n",
       "2266     June 11, 2022                                                 []   \n",
       "2275   August 16, 2022                                                 []   \n",
       "2276  November 8, 2022                                                 []   \n",
       "2288  November 8, 2022                                                 []   \n",
       "\n",
       "                                          ballotpedia  \n",
       "58               https://ballotpedia.org/David_Hughes  \n",
       "65            https://ballotpedia.org/Robyn_Belinskey  \n",
       "71             https://ballotpedia.org/Jeff_Lowenfels  \n",
       "93              https://ballotpedia.org/David_Ambrose  \n",
       "136              https://ballotpedia.org/Denton_Knapp  \n",
       "...                                               ...  \n",
       "2249        https://ballotpedia.org/Tim_Beck_(Alaska)  \n",
       "2266            https://ballotpedia.org/David_Thistle  \n",
       "2275          https://ballotpedia.org/John_B._Coghill  \n",
       "2276       https://ballotpedia.org/Lynnette_Grey_Bull  \n",
       "2288  https://ballotpedia.org/David_Rogers_(Delaware)  \n",
       "\n",
       "[84 rows x 7 columns]"
      ]
     },
     "execution_count": 330,
     "metadata": {},
     "output_type": "execute_result"
    }
   ],
   "source": [
    "ballotpedia_scrape.query('district == \"\"')"
   ]
  },
  {
   "cell_type": "code",
   "execution_count": 332,
   "id": "3f2e37c5-680a-471a-afa9-b66445a63462",
   "metadata": {
    "tags": []
   },
   "outputs": [],
   "source": [
    "ballotpedia_scrape.to_csv('data/ballotpedia_scrape2022.csv', index = False)"
   ]
  },
  {
   "cell_type": "code",
   "execution_count": null,
   "id": "14a3556d-7efb-4bc2-b7fa-4d29cb635084",
   "metadata": {},
   "outputs": [],
   "source": []
  },
  {
   "cell_type": "code",
   "execution_count": null,
   "id": "bda75ac9-eb30-40d4-a195-7a4db57539e7",
   "metadata": {},
   "outputs": [],
   "source": []
  },
  {
   "cell_type": "code",
   "execution_count": 87,
   "id": "79012d40-1a6c-49b3-bd47-45a4c3c19959",
   "metadata": {
    "tags": []
   },
   "outputs": [],
   "source": [
    "# url = 'https://ballotpedia.org/List_of_congressional_candidates_in_the_2022_elections'\n",
    "# page = requests.get(url)\n",
    "# soup = BeautifulSoup(page.content, 'html.parser')"
   ]
  },
  {
   "cell_type": "code",
   "execution_count": null,
   "id": "0e184a63-aefe-46e1-b9f9-c175ecedb7a6",
   "metadata": {},
   "outputs": [],
   "source": [
    "# html_text = soup.prettify()\n",
    "# with open('output/ballotpedia_html.txt', 'w', encoding = 'utf-8') as text_file:\n",
    "#     print(html_text, file = text_file)"
   ]
  },
  {
   "cell_type": "code",
   "execution_count": 91,
   "id": "528b16d9-0324-4075-89f3-9b96c886c4dc",
   "metadata": {
    "tags": []
   },
   "outputs": [],
   "source": [
    "# candidate_links = re.findall(r'(?<=\")(https://ballotpedia.org/([A-Za-z\\.\\']+_){1,4}[A-Za-z\\.\\'\\(\\)]+)(?=\")', str(soup))\n",
    "# candidate_links = [x[0] for x in candidate_links if '_Party' not in x[0] and 'php' not in x[0] and 'Main_Page' not in x[0]]\n",
    "# candidate_links = [*set(candidate_links)]"
   ]
  },
  {
   "cell_type": "code",
   "execution_count": 92,
   "id": "964585f1-66ca-430b-b904-5cc5b87cf692",
   "metadata": {},
   "outputs": [
    {
     "data": {
      "text/plain": [
       "55"
      ]
     },
     "execution_count": 92,
     "metadata": {},
     "output_type": "execute_result"
    }
   ],
   "source": [
    "# len(candidate_links)"
   ]
  },
  {
   "cell_type": "code",
   "execution_count": 130,
   "id": "de306a2d-3ca1-41f4-9e65-edc18674c6df",
   "metadata": {
    "tags": []
   },
   "outputs": [],
   "source": [
    "# state_names = ['Alaska', 'Alabama', 'Arkansas', 'American Samoa', 'Arizona', 'California', 'Colorado', 'Connecticut', 'District of Columbia', 'Delaware', 'Florida', 'Georgia', 'Guam', 'Hawaii', 'Iowa', 'Idaho', 'Illinois', 'Indiana', 'Kansas', 'Kentucky', 'Louisiana', 'Massachusetts', 'Maryland', 'Maine', 'Michigan', 'Minnesota', 'Missouri', 'Mississippi', 'Montana', 'North Carolina', 'North Dakota', 'Nebraska', 'New Hampshire', 'New Jersey', 'New Mexico', 'Nevada', 'New York', 'Ohio', 'Oklahoma', 'Oregon', 'Pennsylvania', 'Puerto Rico', 'Rhode Island', 'South Carolina', 'South Dakota', 'Tennessee', 'Texas', 'Utah', 'Virginia', 'Virgin Islands', 'Vermont', 'Washington', 'Wisconsin', 'West Virginia', 'Wyoming']\n",
    "# state_regex = '(' + ')|('.join(state_names) + ')'\n",
    "# party_names = ['Democratic Party','Republican Party','Libertarian Party','Independent','Nonpartisan','Unaffiliated','Alaskan Independence Party','American Independent Party','Green Party','No party preference','Peace and Freedom Party of California','American Constitution Party','Independent Party','No Party Affiliation','Constitution Party','Working Class Party','Legal Marijuana Now Party','Working Families Party','Independence Party','Progressive Party','United Utah Party','Vermont Progressive Party','American Solidarity Party','Congress Sucks Party','Logic Party']\n",
    "# party_regex = '(' + ')|('.join(party_names) + ')'"
   ]
  },
  {
   "cell_type": "code",
   "execution_count": 79,
   "id": "53551f4d-9171-4d7c-bcb0-55de958116a5",
   "metadata": {
    "tags": []
   },
   "outputs": [
    {
     "name": "stdout",
     "output_type": "stream",
     "text": [
      "Progress - 0 of 2666\n",
      "Progress - 100 of 2666\n"
     ]
    }
   ],
   "source": [
    "# ballotpedia_scrape = pd.DataFrame(columns = ['name', 'party', 'state', 'district', 'last_election', 'twitter', 'ballotpedia'])\n",
    "\n",
    "# for url in candidate_links[0:101]:\n",
    "#     page = requests.get(url)\n",
    "#     soup = BeautifulSoup(page.content, 'html.parser')\n",
    "#     body = soup.find('div', class_ = 'mw-parser-output')\n",
    "#     link_table = soup.find('div', class_ = 'infobox person')\n",
    "#     name = re.search(r'[A-Za-z\\.\\' ]+(?=\\n\\n)', link_table.get_text())[0]\n",
    "#     try:\n",
    "#         party = re.search(party_regex, link_table.get_text())[0]\n",
    "#     except:\n",
    "#         party = ''\n",
    "#     try:\n",
    "#         state = re.search(state_regex, body.get_text())[0]\n",
    "#     except:\n",
    "#         state = ''\n",
    "#     try:\n",
    "#         district = body.find('a', href = re.compile(str('https://ballotpedia.org/' + state + '\\'.*,_2022'))).get_text()\n",
    "#         district = re.search(str('(?<=' + state + '\\')(s | )([0-9]+)'), district)[2]\n",
    "#     except:\n",
    "#         district = ''\n",
    "#     try:\n",
    "#         last_election = re.search(r'[A-Za-z]+ [0-9]+, [0-9]+(?=\\n\\n)', link_table.get_text())[0]\n",
    "#     except:\n",
    "#         last_election = ''\n",
    "#     twitter = re.findall(r'(?<=\")https://www.twitter.com/\\w+(?=\")', str(link_table))\n",
    "#     ballotpedia = url\n",
    "#     ballotpedia_scrape.loc[len(ballotpedia_scrape)] = [name, party, state, district, last_election, twitter, ballotpedia]\n",
    "#     # time.sleep(1)\n",
    "#     if candidate_links.index(url) % 100 == 0:\n",
    "#         print(f'Progress - {candidate_links.index(url)} of {len(candidate_links)}')"
   ]
  }
 ],
 "metadata": {
  "kernelspec": {
   "display_name": "Python 3 (ipykernel)",
   "language": "python",
   "name": "python3"
  },
  "language_info": {
   "codemirror_mode": {
    "name": "ipython",
    "version": 3
   },
   "file_extension": ".py",
   "mimetype": "text/x-python",
   "name": "python",
   "nbconvert_exporter": "python",
   "pygments_lexer": "ipython3",
   "version": "3.11.2"
  }
 },
 "nbformat": 4,
 "nbformat_minor": 5
}

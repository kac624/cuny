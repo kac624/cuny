{
 "cells": [
  {
   "cell_type": "markdown",
   "id": "18384215-2fa8-45ac-b92f-8a9913952fc0",
   "metadata": {},
   "source": [
    "1. Write a Python class to reverse a string word by word.\n",
    "\n",
    "Example:  \n",
    "Input string : 'hello .py'  \n",
    "Expected Output : '.py hello'"
   ]
  },
  {
   "cell_type": "code",
   "execution_count": 1,
   "id": "73d16da0-6d32-4830-8a40-080d5c42c353",
   "metadata": {},
   "outputs": [
    {
     "name": "stdout",
     "output_type": "stream",
     "text": [
      "Original String: hi my name is keith\n",
      "Reverse by Letter: htiek si eman ym ih\n",
      "Reverse by Token: keith is name my hi\n"
     ]
    }
   ],
   "source": [
    "class StringManipulation:\n",
    "    \n",
    "    def __init__(self, string):\n",
    "        self.string = string\n",
    "        \n",
    "    def reverse_letters(self):\n",
    "        return self.string[::-1]\n",
    "    \n",
    "    def reverse_tokens(self):\n",
    "        tokens = self.string.split()\n",
    "        return ' '.join(tokens[::-1])\n",
    "    \n",
    "test = StringManipulation('hi my name is keith')\n",
    "\n",
    "print(\n",
    "    f'Original String: {test.string}\\n'\n",
    "    f'Reverse by Letter: {test.reverse_letters()}\\n'\n",
    "    f'Reverse by Token: {test.reverse_tokens()}'\n",
    ")"
   ]
  },
  {
   "cell_type": "markdown",
   "id": "848fc2cf-6913-4813-a54b-434b8a9062ec",
   "metadata": {},
   "source": [
    "2. Write a Python class named Circle constructed by a radius and two methods which will compute the area and the perimeter of a circle."
   ]
  },
  {
   "cell_type": "code",
   "execution_count": 2,
   "id": "0f3aa765-2cb7-4944-98ff-3191f3918e19",
   "metadata": {},
   "outputs": [
    {
     "name": "stdout",
     "output_type": "stream",
     "text": [
      "Radius: 3\n",
      "Area: 28.274\n",
      "Perimeter: 18.850\n",
      "\n",
      "Radius: 4.67\n",
      "Area: 68.515\n",
      "Perimeter: 29.342\n",
      "\n"
     ]
    }
   ],
   "source": [
    "import numpy as np\n",
    "\n",
    "class Circle:\n",
    "    \n",
    "    def __init__(self, radius):\n",
    "        self.radius = radius\n",
    "        \n",
    "    def area(self):\n",
    "        return np.pi * self.radius ** 2\n",
    "    \n",
    "    def perimeter(self):\n",
    "        return 2 * np.pi * self.radius\n",
    "    \n",
    "circle1 = Circle(3)\n",
    "print(\n",
    "    f'Radius: {circle1.radius}\\n'\n",
    "    f'Area: {circle1.area():.3f}\\n'\n",
    "    f'Perimeter: {circle1.perimeter():.3f}\\n'\n",
    ")\n",
    "\n",
    "circle2 = Circle(4.67)\n",
    "print(\n",
    "    f'Radius: {circle2.radius}\\n'\n",
    "    f'Area: {circle2.area():.3f}\\n'\n",
    "    f'Perimeter: {circle2.perimeter():.3f}\\n'\n",
    ")"
   ]
  }
 ],
 "metadata": {
  "kernelspec": {
   "display_name": "Python 3 (ipykernel)",
   "language": "python",
   "name": "python3"
  },
  "language_info": {
   "codemirror_mode": {
    "name": "ipython",
    "version": 3
   },
   "file_extension": ".py",
   "mimetype": "text/x-python",
   "name": "python",
   "nbconvert_exporter": "python",
   "pygments_lexer": "ipython3",
   "version": "3.9.13"
  }
 },
 "nbformat": 4,
 "nbformat_minor": 5
}

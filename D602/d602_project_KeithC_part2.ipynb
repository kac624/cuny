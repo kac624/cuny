{
 "cells": [
  {
   "cell_type": "code",
   "execution_count": 1,
   "metadata": {},
   "outputs": [],
   "source": [
    "# core\n",
    "import pandas as pd\n",
    "import numpy as np\n",
    "import matplotlib.pyplot as plt\n",
    "import time\n",
    "\n",
    "# modeling\n",
    "from sklearn.linear_model import LogisticRegression\n",
    "from sklearn.ensemble import RandomForestClassifier\n",
    "from sklearn.svm import SVC\n",
    "from sklearn.metrics import accuracy_score, confusion_matrix, classification_report\n",
    "\n",
    "import torch\n",
    "import torch.nn as nn\n",
    "import torch.nn.functional as F\n",
    "from torch.utils.data import Dataset, DataLoader\n",
    "\n",
    "# functional\n",
    "import joblib\n",
    "import pickle\n",
    "\n",
    "# warnings\n",
    "import warnings\n",
    "warnings.simplefilter(action='ignore', category=FutureWarning)"
   ]
  },
  {
   "cell_type": "markdown",
   "metadata": {},
   "source": [
    "## Load Data and Models"
   ]
  },
  {
   "cell_type": "code",
   "execution_count": 2,
   "metadata": {},
   "outputs": [],
   "source": [
    "data_names = ['tfidf_train', 'w2v_train', 'bert_train', 'gpt_train', 'tfidf_test', 'w2v_test', 'bert_test', 'gpt_test', 'y_train', 'y_test']\n",
    "\n",
    "for var_name in data_names:\n",
    "    with open(f'data/{var_name}.pkl', 'rb') as f:\n",
    "        globals()[var_name] = pickle.load(f)"
   ]
  },
  {
   "cell_type": "code",
   "execution_count": 3,
   "metadata": {},
   "outputs": [],
   "source": [
    "class RnnTextClassifier(nn.Module):\n",
    "    def __init__(self, input_size, output_size, hidden_size, num_layers):\n",
    "        super(RnnTextClassifier, self).__init__()\n",
    "\n",
    "        # model params\n",
    "        self.hidden_size = hidden_size\n",
    "        self.num_layers = num_layers\n",
    "\n",
    "        # layers\n",
    "        self.rnn = nn.RNN(input_size, hidden_size, num_layers, batch_first = True)\n",
    "        self.fc = nn.Linear(hidden_size, output_size)\n",
    "        \n",
    "    def forward(self, x):\n",
    "\n",
    "        # reshape input\n",
    "        x = x.unsqueeze(1)\n",
    "\n",
    "        # initialize hidden state\n",
    "        hidden = torch.zeros(self.num_layers, x.size(0), self.hidden_size)\n",
    "\n",
    "        # get RNN output\n",
    "        out, hidden = self.rnn(x, hidden)\n",
    "        out = self.fc(out[:, -1, :])\n",
    "        \n",
    "        return out\n",
    "\n",
    "class RnnDataset(Dataset):\n",
    "    def __init__(self, X_data, y_data):\n",
    "        self.X_data = X_data\n",
    "        self.y_data = y_data\n",
    "        \n",
    "    def __len__ (self):\n",
    "        return len(self.X_data)\n",
    "    \n",
    "    def __getitem__(self, index):\n",
    "        return self.X_data[index], self.y_data[index]\n",
    "\n",
    "def train_rnn(model, data_loader, criterion, optimizer, n_epochs):\n",
    "    \n",
    "    model.train()\n",
    "    \n",
    "    for _ in n_epochs:\n",
    "\n",
    "        for X_batch, y_batch in data_loader:\n",
    "\n",
    "            y_pred = model(X_batch)\n",
    "            loss = criterion(y_pred, y_batch)\n",
    "            \n",
    "            optimizer.zero_grad()\n",
    "            loss.backward()\n",
    "            optimizer.step()\n",
    "        \n",
    "    return model"
   ]
  },
  {
   "cell_type": "code",
   "execution_count": 4,
   "metadata": {},
   "outputs": [],
   "source": [
    "lr_tfidf = joblib.load('models/lr_model_tfidf.joblib')\n",
    "lr_w2v = joblib.load('models/lr_model_w2v.joblib')\n",
    "lr_bert = joblib.load('models/lr_model_bert.joblib')\n",
    "lr_gpt = joblib.load('models/lr_model_gpt.joblib')\n",
    "\n",
    "rf_tfidf = joblib.load('models/rf_model_tfidf.joblib')\n",
    "rf_w2v = joblib.load('models/rf_model_w2v.joblib')\n",
    "rf_bert = joblib.load('models/rf_model_bert.joblib')\n",
    "rf_gpt = joblib.load('models/rf_model_gpt.joblib')\n",
    "\n",
    "svm_tfidf = joblib.load('models/svm_model_tfidf.joblib')\n",
    "svm_w2v = joblib.load('models/svm_model_w2v.joblib')\n",
    "svm_bert = joblib.load('models/svm_model_bert.joblib')\n",
    "svm_gpt = joblib.load('models/svm_model_gpt.joblib')\n",
    "\n",
    "rnn_tfidf = torch.load('models/rnn_model_tfidf.pth')\n",
    "rnn_w2v = torch.load('models/rnn_model_w2v.pth')\n",
    "rnn_bert = torch.load('models/rnn_model_bert.pth')\n",
    "rnn_gpt = torch.load('models/rnn_model_gpt.pth')"
   ]
  },
  {
   "cell_type": "code",
   "execution_count": null,
   "metadata": {},
   "outputs": [],
   "source": []
  }
 ],
 "metadata": {
  "kernelspec": {
   "display_name": "cuny",
   "language": "python",
   "name": "python3"
  },
  "language_info": {
   "codemirror_mode": {
    "name": "ipython",
    "version": 3
   },
   "file_extension": ".py",
   "mimetype": "text/x-python",
   "name": "python",
   "nbconvert_exporter": "python",
   "pygments_lexer": "ipython3",
   "version": "3.11.5"
  }
 },
 "nbformat": 4,
 "nbformat_minor": 2
}

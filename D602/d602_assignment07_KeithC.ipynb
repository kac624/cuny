{
 "nbformat": 4,
 "nbformat_minor": 0,
 "metadata": {
  "colab": {
   "name": "07_assignment.ipynb",
   "provenance": []
  },
  "kernelspec": {
   "name": "python3",
   "language": "python",
   "display_name": "Python 3 (ipykernel)"
  }
 },
 "cells": [
  {
   "cell_type": "markdown",
   "metadata": {
    "id": "view-in-github"
   },
   "source": [
    "<a href=\"https://colab.research.google.com/github/data602sps/assignments/blob/master/05_assignment.ipynb\" target=\"_parent\"><img src=\"https://colab.research.google.com/assets/colab-badge.svg\" alt=\"Open In Colab\"/></a>"
   ]
  },
  {
   "cell_type": "markdown",
   "metadata": {
    "id": "rd2QZetSDszc"
   },
   "source": [
    "# **Assignment 7**\n",
    "\n",
    "# **Weeks 8 & 9 - Pandas**\n",
    "* In this homework assignment, you will explore and analyze a public dataset of your choosing. Since this assignment is “open-ended” in nature, you are free to expand upon the requirements below. However, you must meet the minimum requirments as indicated in each section. \n",
    "\n",
    "* You must use Pandas as the **primary tool** to process your data.\n",
    "\n",
    "* The preferred method for this analysis is in a .ipynb file. Feel free to use whichever platform of your choosing.  \n",
    " * https://www.youtube.com/watch?v=inN8seMm7UI (Getting started with Colab).\n",
    "\n",
    "* Your data should need some \"work\", or be considered \"dirty\".  You must show your skills in data cleaning/wrangling.\n",
    "\n",
    "### **Some data examples:**\n",
    "•\thttps://www.data.gov/\n",
    "\n",
    "•\thttps://opendata.cityofnewyork.us/\n",
    "\n",
    "•\thttps://datasetsearch.research.google.com/\n",
    "\n",
    "•\thttps://archive.ics.uci.edu/ml/index.php\n",
    "\n",
    "### **Resources:**\n",
    "\n",
    "•\thttps://pandas.pydata.org/pandas-docs/stable/getting_started/10min.html \n",
    "\n",
    "•\thttps://pandas.pydata.org/pandas-docs/stable/user_guide/visualization.html\n",
    "\n",
    "\n",
    "### **Headings or comments**\n",
    "**You are required to make use of comments, or headings for each section.  You must explain what your code is doing, and the results of running your code.**  Act as if you were giving this assignment to your manager - you must include clear and descriptive information for each section.\n",
    "\n",
    "### **You may work as a group or indivdually on this assignment.**\n"
   ]
  },
  {
   "cell_type": "markdown",
   "metadata": {
    "id": "uW3w6p8rqgxu"
   },
   "source": [
    "# Introduction\n",
    "\n",
    "In this section, please describe the dataset you are using.  Include a link to the source of this data.  You should also provide some explanation on why you choose this dataset."
   ]
  },
  {
   "cell_type": "markdown",
   "metadata": {
    "id": "L0PnfMOFzOXz"
   },
   "source": [
    "movies.csv - https://www.kaggle.com/datasets/bharatnatrayn/movies-dataset-for-feature-extracion-prediction/\n",
    "mymoviedb.csv - https://www.kaggle.com/datasets/disham993/9000-movies-dataset"
   ]
  },
  {
   "cell_type": "markdown",
   "metadata": {
    "id": "3bp8cdDxDs2t"
   },
   "source": [
    "______________\n",
    "# Data Exploration\n",
    "Import your dataset into your .ipynb, create dataframes, and explore your data.  \n",
    "\n",
    "Include: \n",
    "\n",
    "* Summary statistics means, medians, quartiles, \n",
    "* Missing value information\n",
    "* Any other relevant information about the dataset.  \n",
    "\n"
   ]
  },
  {
   "cell_type": "code",
   "metadata": {
    "id": "1OJmbafkEhhq",
    "ExecuteTime": {
     "end_time": "2023-10-19T03:20:52.133734400Z",
     "start_time": "2023-10-19T03:20:52.090736300Z"
    }
   },
   "source": [
    "# setup\n",
    "import pandas as pd\n",
    "import numpy as np\n",
    "import os\n",
    "import re\n",
    "\n",
    "from zipfile import ZipFile\n",
    "from kaggle.api.kaggle_api_extended import KaggleApi\n",
    "api = KaggleApi()\n",
    "api.authenticate()"
   ],
   "execution_count": 75,
   "outputs": []
  },
  {
   "cell_type": "code",
   "metadata": {
    "id": "b0WTKtqozNn1",
    "ExecuteTime": {
     "end_time": "2023-10-19T03:20:54.144906900Z",
     "start_time": "2023-10-19T03:20:52.103732500Z"
    }
   },
   "source": [
    "# read in data\n",
    "api.dataset_download_file('bharatnatrayn/movies-dataset-for-feature-extracion-prediction/','movies.csv')\n",
    "\n",
    "zf = ZipFile('movies.csv.zip')\n",
    "zf.extractall()\n",
    "zf.close()\n",
    "os.remove('movies.csv.zip')\n",
    "\n",
    "movies = pd.read_csv('movies.csv')\n",
    "os.remove('movies.csv')"
   ],
   "execution_count": 76,
   "outputs": []
  },
  {
   "cell_type": "code",
   "execution_count": 77,
   "outputs": [
    {
     "data": {
      "text/plain": "                                   MOVIES         YEAR  \\\n0                           Blood Red Sky       (2021)   \n1     Masters of the Universe: Revelation     (2021– )   \n2                        The Walking Dead  (2010–2022)   \n3                          Rick and Morty     (2013– )   \n4                         Army of Thieves       (2021)   \n...                                   ...          ...   \n9994                       The Imperfects     (2021– )   \n9995                               Arcane     (2021– )   \n9996                    Heart of Invictus     (2022– )   \n9997                       The Imperfects     (2021– )   \n9998                       The Imperfects     (2021– )   \n\n                                           GENRE  RATING  \\\n0         \\nAction, Horror, Thriller                 6.1   \n1     \\nAnimation, Action, Adventure                 5.0   \n2          \\nDrama, Horror, Thriller                 8.2   \n3     \\nAnimation, Adventure, Comedy                 9.2   \n4            \\nAction, Crime, Horror                 NaN   \n...                                          ...     ...   \n9994     \\nAdventure, Drama, Fantasy                 NaN   \n9995  \\nAnimation, Action, Adventure                 NaN   \n9996            \\nDocumentary, Sport                 NaN   \n9997     \\nAdventure, Drama, Fantasy                 NaN   \n9998     \\nAdventure, Drama, Fantasy                 NaN   \n\n                                               ONE-LINE  \\\n0     \\nA woman with a mysterious illness is forced ...   \n1     \\nThe war for Eternia begins again in what may...   \n2     \\nSheriff Deputy Rick Grimes wakes up from a c...   \n3     \\nAn animated series that follows the exploits...   \n4     \\nA prequel, set before the events of Army of ...   \n...                                                 ...   \n9994                                     \\nAdd a Plot\\n   \n9995                                     \\nAdd a Plot\\n   \n9996                                     \\nAdd a Plot\\n   \n9997                                     \\nAdd a Plot\\n   \n9998                                     \\nAdd a Plot\\n   \n\n                                                  STARS    VOTES  RunTime  \\\n0     \\n    Director:\\nPeter Thorwarth\\n| \\n    Star...   21,062    121.0   \n1     \\n            \\n    Stars:\\nChris Wood, \\nSara...   17,870     25.0   \n2     \\n            \\n    Stars:\\nAndrew Lincoln, \\n...  885,805     44.0   \n3     \\n            \\n    Stars:\\nJustin Roiland, \\n...  414,849     23.0   \n4     \\n    Director:\\nMatthias Schweighöfer\\n| \\n  ...      NaN      NaN   \n...                                                 ...      ...      ...   \n9994  \\n            \\n    Stars:\\nMorgan Taylor Camp...      NaN      NaN   \n9995                                                 \\n      NaN      NaN   \n9996  \\n    Director:\\nOrlando von Einsiedel\\n| \\n  ...      NaN      NaN   \n9997  \\n    Director:\\nJovanka Vuckovic\\n| \\n    Sta...      NaN      NaN   \n9998  \\n    Director:\\nJovanka Vuckovic\\n| \\n    Sta...      NaN      NaN   \n\n     Gross  \n0      NaN  \n1      NaN  \n2      NaN  \n3      NaN  \n4      NaN  \n...    ...  \n9994   NaN  \n9995   NaN  \n9996   NaN  \n9997   NaN  \n9998   NaN  \n\n[9999 rows x 9 columns]",
      "text/html": "<div>\n<style scoped>\n    .dataframe tbody tr th:only-of-type {\n        vertical-align: middle;\n    }\n\n    .dataframe tbody tr th {\n        vertical-align: top;\n    }\n\n    .dataframe thead th {\n        text-align: right;\n    }\n</style>\n<table border=\"1\" class=\"dataframe\">\n  <thead>\n    <tr style=\"text-align: right;\">\n      <th></th>\n      <th>MOVIES</th>\n      <th>YEAR</th>\n      <th>GENRE</th>\n      <th>RATING</th>\n      <th>ONE-LINE</th>\n      <th>STARS</th>\n      <th>VOTES</th>\n      <th>RunTime</th>\n      <th>Gross</th>\n    </tr>\n  </thead>\n  <tbody>\n    <tr>\n      <th>0</th>\n      <td>Blood Red Sky</td>\n      <td>(2021)</td>\n      <td>\\nAction, Horror, Thriller</td>\n      <td>6.1</td>\n      <td>\\nA woman with a mysterious illness is forced ...</td>\n      <td>\\n    Director:\\nPeter Thorwarth\\n| \\n    Star...</td>\n      <td>21,062</td>\n      <td>121.0</td>\n      <td>NaN</td>\n    </tr>\n    <tr>\n      <th>1</th>\n      <td>Masters of the Universe: Revelation</td>\n      <td>(2021– )</td>\n      <td>\\nAnimation, Action, Adventure</td>\n      <td>5.0</td>\n      <td>\\nThe war for Eternia begins again in what may...</td>\n      <td>\\n            \\n    Stars:\\nChris Wood, \\nSara...</td>\n      <td>17,870</td>\n      <td>25.0</td>\n      <td>NaN</td>\n    </tr>\n    <tr>\n      <th>2</th>\n      <td>The Walking Dead</td>\n      <td>(2010–2022)</td>\n      <td>\\nDrama, Horror, Thriller</td>\n      <td>8.2</td>\n      <td>\\nSheriff Deputy Rick Grimes wakes up from a c...</td>\n      <td>\\n            \\n    Stars:\\nAndrew Lincoln, \\n...</td>\n      <td>885,805</td>\n      <td>44.0</td>\n      <td>NaN</td>\n    </tr>\n    <tr>\n      <th>3</th>\n      <td>Rick and Morty</td>\n      <td>(2013– )</td>\n      <td>\\nAnimation, Adventure, Comedy</td>\n      <td>9.2</td>\n      <td>\\nAn animated series that follows the exploits...</td>\n      <td>\\n            \\n    Stars:\\nJustin Roiland, \\n...</td>\n      <td>414,849</td>\n      <td>23.0</td>\n      <td>NaN</td>\n    </tr>\n    <tr>\n      <th>4</th>\n      <td>Army of Thieves</td>\n      <td>(2021)</td>\n      <td>\\nAction, Crime, Horror</td>\n      <td>NaN</td>\n      <td>\\nA prequel, set before the events of Army of ...</td>\n      <td>\\n    Director:\\nMatthias Schweighöfer\\n| \\n  ...</td>\n      <td>NaN</td>\n      <td>NaN</td>\n      <td>NaN</td>\n    </tr>\n    <tr>\n      <th>...</th>\n      <td>...</td>\n      <td>...</td>\n      <td>...</td>\n      <td>...</td>\n      <td>...</td>\n      <td>...</td>\n      <td>...</td>\n      <td>...</td>\n      <td>...</td>\n    </tr>\n    <tr>\n      <th>9994</th>\n      <td>The Imperfects</td>\n      <td>(2021– )</td>\n      <td>\\nAdventure, Drama, Fantasy</td>\n      <td>NaN</td>\n      <td>\\nAdd a Plot\\n</td>\n      <td>\\n            \\n    Stars:\\nMorgan Taylor Camp...</td>\n      <td>NaN</td>\n      <td>NaN</td>\n      <td>NaN</td>\n    </tr>\n    <tr>\n      <th>9995</th>\n      <td>Arcane</td>\n      <td>(2021– )</td>\n      <td>\\nAnimation, Action, Adventure</td>\n      <td>NaN</td>\n      <td>\\nAdd a Plot\\n</td>\n      <td>\\n</td>\n      <td>NaN</td>\n      <td>NaN</td>\n      <td>NaN</td>\n    </tr>\n    <tr>\n      <th>9996</th>\n      <td>Heart of Invictus</td>\n      <td>(2022– )</td>\n      <td>\\nDocumentary, Sport</td>\n      <td>NaN</td>\n      <td>\\nAdd a Plot\\n</td>\n      <td>\\n    Director:\\nOrlando von Einsiedel\\n| \\n  ...</td>\n      <td>NaN</td>\n      <td>NaN</td>\n      <td>NaN</td>\n    </tr>\n    <tr>\n      <th>9997</th>\n      <td>The Imperfects</td>\n      <td>(2021– )</td>\n      <td>\\nAdventure, Drama, Fantasy</td>\n      <td>NaN</td>\n      <td>\\nAdd a Plot\\n</td>\n      <td>\\n    Director:\\nJovanka Vuckovic\\n| \\n    Sta...</td>\n      <td>NaN</td>\n      <td>NaN</td>\n      <td>NaN</td>\n    </tr>\n    <tr>\n      <th>9998</th>\n      <td>The Imperfects</td>\n      <td>(2021– )</td>\n      <td>\\nAdventure, Drama, Fantasy</td>\n      <td>NaN</td>\n      <td>\\nAdd a Plot\\n</td>\n      <td>\\n    Director:\\nJovanka Vuckovic\\n| \\n    Sta...</td>\n      <td>NaN</td>\n      <td>NaN</td>\n      <td>NaN</td>\n    </tr>\n  </tbody>\n</table>\n<p>9999 rows × 9 columns</p>\n</div>"
     },
     "execution_count": 77,
     "metadata": {},
     "output_type": "execute_result"
    }
   ],
   "source": [
    "movies"
   ],
   "metadata": {
    "collapsed": false,
    "ExecuteTime": {
     "end_time": "2023-10-19T03:20:54.155839100Z",
     "start_time": "2023-10-19T03:20:54.145406300Z"
    }
   }
  },
  {
   "cell_type": "code",
   "execution_count": 78,
   "outputs": [
    {
     "data": {
      "text/plain": "            RATING      RunTime\ncount  8179.000000  7041.000000\nmean      6.921176    68.688539\nstd       1.220232    47.258056\nmin       1.100000     1.000000\n25%       6.200000    36.000000\n50%       7.100000    60.000000\n75%       7.800000    95.000000\nmax       9.900000   853.000000",
      "text/html": "<div>\n<style scoped>\n    .dataframe tbody tr th:only-of-type {\n        vertical-align: middle;\n    }\n\n    .dataframe tbody tr th {\n        vertical-align: top;\n    }\n\n    .dataframe thead th {\n        text-align: right;\n    }\n</style>\n<table border=\"1\" class=\"dataframe\">\n  <thead>\n    <tr style=\"text-align: right;\">\n      <th></th>\n      <th>RATING</th>\n      <th>RunTime</th>\n    </tr>\n  </thead>\n  <tbody>\n    <tr>\n      <th>count</th>\n      <td>8179.000000</td>\n      <td>7041.000000</td>\n    </tr>\n    <tr>\n      <th>mean</th>\n      <td>6.921176</td>\n      <td>68.688539</td>\n    </tr>\n    <tr>\n      <th>std</th>\n      <td>1.220232</td>\n      <td>47.258056</td>\n    </tr>\n    <tr>\n      <th>min</th>\n      <td>1.100000</td>\n      <td>1.000000</td>\n    </tr>\n    <tr>\n      <th>25%</th>\n      <td>6.200000</td>\n      <td>36.000000</td>\n    </tr>\n    <tr>\n      <th>50%</th>\n      <td>7.100000</td>\n      <td>60.000000</td>\n    </tr>\n    <tr>\n      <th>75%</th>\n      <td>7.800000</td>\n      <td>95.000000</td>\n    </tr>\n    <tr>\n      <th>max</th>\n      <td>9.900000</td>\n      <td>853.000000</td>\n    </tr>\n  </tbody>\n</table>\n</div>"
     },
     "execution_count": 78,
     "metadata": {},
     "output_type": "execute_result"
    }
   ],
   "source": [
    "movies.describe()"
   ],
   "metadata": {
    "collapsed": false,
    "ExecuteTime": {
     "end_time": "2023-10-19T03:20:54.161975700Z",
     "start_time": "2023-10-19T03:20:54.152842400Z"
    }
   }
  },
  {
   "cell_type": "code",
   "execution_count": 79,
   "outputs": [
    {
     "name": "stdout",
     "output_type": "stream",
     "text": [
      "Number of unique values per column\n",
      "MOVIES - 6817\n",
      "YEAR - 438\n",
      "GENRE - 510\n",
      "RATING - 82\n",
      "ONE-LINE - 8688\n",
      "STARS - 7877\n",
      "VOTES - 4129\n",
      "RunTime - 261\n",
      "Gross - 332\n",
      "\n",
      "Number of NAs per column\n",
      "MOVIES - 0\n",
      "YEAR - 644\n",
      "GENRE - 80\n",
      "RATING - 1820\n",
      "ONE-LINE - 0\n",
      "STARS - 0\n",
      "VOTES - 1820\n",
      "RunTime - 2958\n",
      "Gross - 9539\n"
     ]
    }
   ],
   "source": [
    "print('Number of unique values per column')\n",
    "for col in movies.columns:\n",
    "    print(f'{col} - {len(movies[col].value_counts())}')\n",
    "    \n",
    "print('\\nNumber of NAs per column')\n",
    "for col in movies.columns:\n",
    "    print(f'{col} - {len(movies[pd.isnull(movies[col])])}')"
   ],
   "metadata": {
    "collapsed": false,
    "ExecuteTime": {
     "end_time": "2023-10-19T03:20:54.176065800Z",
     "start_time": "2023-10-19T03:20:54.159476500Z"
    }
   }
  },
  {
   "cell_type": "markdown",
   "metadata": {
    "id": "kCSLIafaEGVK"
   },
   "source": [
    "# Data Wrangling\n",
    "Create a subset of your original data and perform the following.  \n",
    "\n",
    "1. Modify multiple column names.\n",
    "\n",
    "2. Look at the structure of your data – are any variables improperly coded? Such as strings or characters? Convert to correct structure if needed.  \n",
    "\n",
    "3. Fix missing and invalid values in data.\n",
    "\n",
    "4. Create new columns based on existing columns or calculations.\n",
    "\n",
    "5. Drop column(s) from your dataset.\n",
    "\n",
    "6. Drop a row(s) from your dataset.\n",
    "\n",
    "7. Sort your data based on multiple variables. \n",
    "\n",
    "8. Filter your data based on some condition. \n",
    "\n",
    "9. Convert all the string values to upper or lower cases in one column.\n",
    "\n",
    "10. Check whether numeric values are present in a given column of your dataframe.\n",
    "\n",
    "11. Group your dataset by one column, and get the mean, min, and max values by group. Groupby(), agg() or .apply()\n",
    "\n",
    "12. Group your dataset by two columns and then sort the aggregated results within the groups. \n",
    "\n",
    "**You are free (and should) to add on to these questions.  Please clearly indicate in your assignment your answers to these questions.**"
   ]
  },
  {
   "cell_type": "code",
   "metadata": {
    "id": "4VWWvvynEiQT",
    "ExecuteTime": {
     "end_time": "2023-10-19T03:20:54.231072800Z",
     "start_time": "2023-10-19T03:20:54.170845400Z"
    }
   },
   "source": [
    "'''\n",
    "1. Modify multiple column names\n",
    "'''\n",
    "movies.columns =  ['title', 'year', 'genre', 'avg_rating', 'description', 'stars_directors', 'nb_votes', 'run_time', 'gross']\n",
    "movies.columns"
   ],
   "execution_count": 80,
   "outputs": [
    {
     "data": {
      "text/plain": "Index(['title', 'year', 'genre', 'avg_rating', 'description',\n       'stars_directors', 'nb_votes', 'run_time', 'gross'],\n      dtype='object')"
     },
     "execution_count": 80,
     "metadata": {},
     "output_type": "execute_result"
    }
   ]
  },
  {
   "cell_type": "code",
   "execution_count": 81,
   "outputs": [
    {
     "data": {
      "text/plain": "title               object\nyear                object\ngenre               object\navg_rating         float64\ndescription         object\nstars_directors     object\nnb_votes            object\nrun_time           float64\ngross               object\ndtype: object"
     },
     "execution_count": 81,
     "metadata": {},
     "output_type": "execute_result"
    }
   ],
   "source": [
    "'''\n",
    "2. Look at the structure of your data – are any variables improperly coded? Such as strings or characters? Convert to correct structure if needed.\n",
    "3. Fix missing and invalid values in data.\n",
    "4. Create new columns based on existing columns or calculations.\n",
    "5. Drop column(s) from your dataset.\n",
    "10. Check whether numeric values are present in a given column of your dataframe.\n",
    "'''\n",
    "movies.dtypes"
   ],
   "metadata": {
    "collapsed": false,
    "ExecuteTime": {
     "end_time": "2023-10-19T03:20:54.244076Z",
     "start_time": "2023-10-19T03:20:54.174214100Z"
    }
   }
  },
  {
   "cell_type": "code",
   "execution_count": 82,
   "outputs": [
    {
     "data": {
      "text/plain": "   year_start  year_end\n0      2021.0    2021.0\n1      2021.0    2021.0\n2      2010.0    2022.0\n3      2013.0    2013.0\n4      2021.0    2021.0",
      "text/html": "<div>\n<style scoped>\n    .dataframe tbody tr th:only-of-type {\n        vertical-align: middle;\n    }\n\n    .dataframe tbody tr th {\n        vertical-align: top;\n    }\n\n    .dataframe thead th {\n        text-align: right;\n    }\n</style>\n<table border=\"1\" class=\"dataframe\">\n  <thead>\n    <tr style=\"text-align: right;\">\n      <th></th>\n      <th>year_start</th>\n      <th>year_end</th>\n    </tr>\n  </thead>\n  <tbody>\n    <tr>\n      <th>0</th>\n      <td>2021.0</td>\n      <td>2021.0</td>\n    </tr>\n    <tr>\n      <th>1</th>\n      <td>2021.0</td>\n      <td>2021.0</td>\n    </tr>\n    <tr>\n      <th>2</th>\n      <td>2010.0</td>\n      <td>2022.0</td>\n    </tr>\n    <tr>\n      <th>3</th>\n      <td>2013.0</td>\n      <td>2013.0</td>\n    </tr>\n    <tr>\n      <th>4</th>\n      <td>2021.0</td>\n      <td>2021.0</td>\n    </tr>\n  </tbody>\n</table>\n</div>"
     },
     "execution_count": 82,
     "metadata": {},
     "output_type": "execute_result"
    }
   ],
   "source": [
    "## Correcting the year column\n",
    "\n",
    "# Removing non-numeric characters\n",
    "movies.year = movies.year.apply(lambda x: re.sub(r'[\\(\\)\\–A-za-z\\s+]','', str(x)))\n",
    "\n",
    "# Splitting double years\n",
    "movies['year_start'] = movies.year.apply(lambda x: x[:4])\n",
    "movies['year_end'] = movies.year.apply(lambda x: x[4:])\n",
    "\n",
    "# Replace empty values ('') with NaN\n",
    "movies.year_start = movies.year_start.replace('', np.nan)\n",
    "movies.year_end = movies.year_end.replace('', np.nan)\n",
    "\n",
    "# Fix NaNs in year_end, replacing them with year_start\n",
    "movies.year_end = movies.apply(\n",
    "    lambda x: x.year_start if pd.isnull(x.year_end) else x.year_end, \n",
    "    axis = 1\n",
    ")\n",
    "\n",
    "# Convert to float\n",
    "movies.year_start = movies.year_start.astype(float)\n",
    "movies.year_end = movies.year_end.astype(float)\n",
    "\n",
    "# Removing original movies column\n",
    "movies = movies.drop('year', axis = 1)\n",
    "\n",
    "movies[['year_start', 'year_end']].head()"
   ],
   "metadata": {
    "collapsed": false,
    "ExecuteTime": {
     "end_time": "2023-10-19T03:20:54.310293100Z",
     "start_time": "2023-10-19T03:20:54.178573500Z"
    }
   }
  },
  {
   "cell_type": "code",
   "execution_count": 99,
   "outputs": [
    {
     "data": {
      "text/plain": "0        Action, Horror, Thriller            \n1    Animation, Action, Adventure            \n2         Drama, Horror, Thriller            \n3    Animation, Adventure, Comedy            \n4           Action, Crime, Horror            \nName: genre, dtype: object"
     },
     "execution_count": 99,
     "metadata": {},
     "output_type": "execute_result"
    }
   ],
   "source": [
    "## Correcting genre column\n",
    "\n",
    "# Remove linebreaks\n",
    "movies.genre = movies.genre.apply(lambda x: re.sub(r'\\n', '', str(x)))\n",
    "\n",
    "movies.genre.head()"
   ],
   "metadata": {
    "collapsed": false,
    "ExecuteTime": {
     "end_time": "2023-10-19T03:23:54.579689400Z",
     "start_time": "2023-10-19T03:23:54.570481Z"
    }
   }
  },
  {
   "cell_type": "code",
   "execution_count": 83,
   "outputs": [
    {
     "data": {
      "text/plain": "            director                                              stars\n0    Peter Thorwarth  Peri Baumeister, Carl Anton Koch, Alexander Sc...\n1                NaN  Chris Wood, Sarah Michelle Gellar, Lena Headey...\n2                NaN  Andrew Lincoln, Norman Reedus, Melissa McBride...\n3                NaN  Justin Roiland, Chris Parnell, Spencer Grammer...\n4  Matthias Schweigh                                  Matthias Schweigh",
      "text/html": "<div>\n<style scoped>\n    .dataframe tbody tr th:only-of-type {\n        vertical-align: middle;\n    }\n\n    .dataframe tbody tr th {\n        vertical-align: top;\n    }\n\n    .dataframe thead th {\n        text-align: right;\n    }\n</style>\n<table border=\"1\" class=\"dataframe\">\n  <thead>\n    <tr style=\"text-align: right;\">\n      <th></th>\n      <th>director</th>\n      <th>stars</th>\n    </tr>\n  </thead>\n  <tbody>\n    <tr>\n      <th>0</th>\n      <td>Peter Thorwarth</td>\n      <td>Peri Baumeister, Carl Anton Koch, Alexander Sc...</td>\n    </tr>\n    <tr>\n      <th>1</th>\n      <td>NaN</td>\n      <td>Chris Wood, Sarah Michelle Gellar, Lena Headey...</td>\n    </tr>\n    <tr>\n      <th>2</th>\n      <td>NaN</td>\n      <td>Andrew Lincoln, Norman Reedus, Melissa McBride...</td>\n    </tr>\n    <tr>\n      <th>3</th>\n      <td>NaN</td>\n      <td>Justin Roiland, Chris Parnell, Spencer Grammer...</td>\n    </tr>\n    <tr>\n      <th>4</th>\n      <td>Matthias Schweigh</td>\n      <td>Matthias Schweigh</td>\n    </tr>\n  </tbody>\n</table>\n</div>"
     },
     "execution_count": 83,
     "metadata": {},
     "output_type": "execute_result"
    }
   ],
   "source": [
    "## Correcting and separating the stars_directors column\n",
    "\n",
    "# Remove linebreaks\n",
    "movies.stars_directors = movies.stars_directors.apply(lambda x: re.sub(r'\\n', '', str(x)))\n",
    "\n",
    "# Extract directors\n",
    "movies['director'] = movies.stars_directors.apply(lambda x: re.search(r'(?<=Director:)[A-Za-z\\s\\.\\']+', str(x)))\n",
    "movies.director = movies.director.apply(lambda x: x.group() if x != None else np.nan)\n",
    "\n",
    "# Extract stars\n",
    "movies['stars'] = movies.stars_directors.apply(lambda x: re.search(r'(?<=Stars:)[A-Za-z\\s\\.\\'\\,]+', str(x)))\n",
    "movies.stars = movies.stars.apply(lambda x: x.group() if x != None else np.nan)\n",
    "\n",
    "# Removing original stars_directors column\n",
    "movies = movies.drop('stars_directors', axis = 1)\n",
    "\n",
    "movies[['director','stars']].head()"
   ],
   "metadata": {
    "collapsed": false,
    "ExecuteTime": {
     "end_time": "2023-10-19T03:20:54.404378600Z",
     "start_time": "2023-10-19T03:20:54.259293900Z"
    }
   }
  },
  {
   "cell_type": "code",
   "execution_count": 84,
   "outputs": [
    {
     "data": {
      "text/plain": "0     21062.0\n1     17870.0\n2    885805.0\n3    414849.0\n4         NaN\nName: nb_votes, dtype: float64"
     },
     "execution_count": 84,
     "metadata": {},
     "output_type": "execute_result"
    }
   ],
   "source": [
    "## Correcting the nb_votes column\n",
    "\n",
    "# Removing non-numeric characters\n",
    "movies.nb_votes = movies.nb_votes.apply(lambda x: re.sub(r'\\,','', str(x)))\n",
    "\n",
    "# Convert to float\n",
    "movies.nb_votes = movies.nb_votes.astype(float)\n",
    "\n",
    "movies.nb_votes.head()"
   ],
   "metadata": {
    "collapsed": false,
    "ExecuteTime": {
     "end_time": "2023-10-19T03:20:54.404378600Z",
     "start_time": "2023-10-19T03:20:54.381222Z"
    }
   }
  },
  {
   "cell_type": "code",
   "execution_count": 85,
   "outputs": [
    {
     "data": {
      "text/plain": "77      75470000.0\n85     402450000.0\n95      89220000.0\n111    315540000.0\n125     57010000.0\nName: gross, dtype: float64"
     },
     "execution_count": 85,
     "metadata": {},
     "output_type": "execute_result"
    }
   ],
   "source": [
    "## Correcting the gross column\n",
    "\n",
    "# Removing non-numeric characters\n",
    "movies.gross = movies.gross.apply(lambda x: re.sub(r'[\\$\\s+A-za-z]','', str(x)))\n",
    "\n",
    "# Replace empty values ('') with NaN\n",
    "movies.gross = movies.gross.replace('', np.nan).astype(float)\n",
    "\n",
    "# Replacing millions style expression\n",
    "movies.gross = movies.gross.apply(lambda x: x * 10**6)\n",
    "\n",
    "movies.gross.dropna().head()"
   ],
   "metadata": {
    "collapsed": false,
    "ExecuteTime": {
     "end_time": "2023-10-19T03:20:54.404378600Z",
     "start_time": "2023-10-19T03:20:54.391650800Z"
    }
   }
  },
  {
   "cell_type": "code",
   "execution_count": 86,
   "outputs": [],
   "source": [
    "'''\n",
    "6. Drop a row(s) from your dataset.\n",
    "'''\n",
    "\n",
    "## Removing duplicate rows\n",
    "movies = movies[~movies.duplicated()]"
   ],
   "metadata": {
    "collapsed": false,
    "ExecuteTime": {
     "end_time": "2023-10-19T03:20:54.432023100Z",
     "start_time": "2023-10-19T03:20:54.404378600Z"
    }
   }
  },
  {
   "cell_type": "code",
   "execution_count": 98,
   "outputs": [
    {
     "data": {
      "text/plain": "                            title                                       genre  \\\n7640              BoJack Horseman      \\nAnimation, Comedy, Drama               \n8510   Avatar: The Last Airbender  \\nAnimation, Action, Adventure               \n9892                       Dexter         \\nCrime, Drama, Mystery               \n8509   Avatar: The Last Airbender  \\nAnimation, Action, Adventure               \n8541          The Midnight Gospel  \\nAnimation, Adventure, Comedy               \n...                           ...                                         ...   \n9904                 Pretty Smart                        \\nComedy               \n9907                 Pretty Smart                        \\nComedy               \n9908                 Pretty Smart                        \\nComedy               \n9909                 Pretty Smart                        \\nComedy               \n9910                 Pretty Smart                        \\nComedy               \n\n      avg_rating                                        description  nb_votes  \\\n7640         9.9      \\nBoJack reconnects with faces from his past.   12369.0   \n8510         9.9  \\nAang's moment of truth arrives. Can he defea...    8813.0   \n9892         9.8  \\nDexter and Arthur find themselves on a colli...   11638.0   \n8509         9.8  \\nZuko battles his sister with Katara's help f...    5283.0   \n8541         9.7  \\nClancy joins his mother on an emotional jour...    1731.0   \n...          ...                                                ...       ...   \n9904         NaN                                     \\nAdd a Plot\\n       NaN   \n9907         NaN                                     \\nAdd a Plot\\n       NaN   \n9908         NaN                                     \\nAdd a Plot\\n       NaN   \n9909         NaN                                     \\nAdd a Plot\\n       NaN   \n9910         NaN                                     \\nAdd a Plot\\n       NaN   \n\n      run_time  gross  year_start  year_end            director  \\\n7640      26.0    NaN      2014.0    2020.0         Amy Winfrey   \n8510      92.0    NaN      2005.0    2008.0  Joaquim Dos Santos   \n9892      51.0    NaN      2006.0    2013.0         Steve Shill   \n8509      92.0    NaN      2005.0    2008.0  Joaquim Dos Santos   \n8541      36.0    NaN      2020.0    2020.0                 NaN   \n...        ...    ...         ...       ...                 ...   \n9904       NaN    NaN         NaN       NaN       Pamela Fryman   \n9907       NaN    NaN         NaN       NaN                 NaN   \n9908       NaN    NaN         NaN       NaN                 NaN   \n9909       NaN    NaN         NaN       NaN                 NaN   \n9910       NaN    NaN         NaN       NaN  Jody Margolin Hahn   \n\n                                                  stars  \n7640  Will Arnett, Amy Sedaris, Alison Brie, Paul F....  \n8510  Zach Tyler, Mae Whitman, Jack De Sena, Michael...  \n9892  Michael C. Hall, Julie Benz, Jennifer Carpente...  \n8509  Zach Tyler, Mae Whitman, Jack De Sena, Michael...  \n8541  Joey Diaz, Deneen Fendig, Phil Hendrie, Steve ...  \n...                                                 ...  \n9904  Cinthya Carmona, Olivia Macklin, Emily Osment,...  \n9907  Cinthya Carmona, Olivia Macklin, Emily Osment,...  \n9908  Robert Belushi, Cinthya Carmona, Olivia Mackli...  \n9909  Cinthya Carmona, Santana Dempsey, David Gridle...  \n9910  Cinthya Carmona, Olivia Macklin, Emily Osment,...  \n\n[9548 rows x 11 columns]",
      "text/html": "<div>\n<style scoped>\n    .dataframe tbody tr th:only-of-type {\n        vertical-align: middle;\n    }\n\n    .dataframe tbody tr th {\n        vertical-align: top;\n    }\n\n    .dataframe thead th {\n        text-align: right;\n    }\n</style>\n<table border=\"1\" class=\"dataframe\">\n  <thead>\n    <tr style=\"text-align: right;\">\n      <th></th>\n      <th>title</th>\n      <th>genre</th>\n      <th>avg_rating</th>\n      <th>description</th>\n      <th>nb_votes</th>\n      <th>run_time</th>\n      <th>gross</th>\n      <th>year_start</th>\n      <th>year_end</th>\n      <th>director</th>\n      <th>stars</th>\n    </tr>\n  </thead>\n  <tbody>\n    <tr>\n      <th>7640</th>\n      <td>BoJack Horseman</td>\n      <td>\\nAnimation, Comedy, Drama</td>\n      <td>9.9</td>\n      <td>\\nBoJack reconnects with faces from his past.</td>\n      <td>12369.0</td>\n      <td>26.0</td>\n      <td>NaN</td>\n      <td>2014.0</td>\n      <td>2020.0</td>\n      <td>Amy Winfrey</td>\n      <td>Will Arnett, Amy Sedaris, Alison Brie, Paul F....</td>\n    </tr>\n    <tr>\n      <th>8510</th>\n      <td>Avatar: The Last Airbender</td>\n      <td>\\nAnimation, Action, Adventure</td>\n      <td>9.9</td>\n      <td>\\nAang's moment of truth arrives. Can he defea...</td>\n      <td>8813.0</td>\n      <td>92.0</td>\n      <td>NaN</td>\n      <td>2005.0</td>\n      <td>2008.0</td>\n      <td>Joaquim Dos Santos</td>\n      <td>Zach Tyler, Mae Whitman, Jack De Sena, Michael...</td>\n    </tr>\n    <tr>\n      <th>9892</th>\n      <td>Dexter</td>\n      <td>\\nCrime, Drama, Mystery</td>\n      <td>9.8</td>\n      <td>\\nDexter and Arthur find themselves on a colli...</td>\n      <td>11638.0</td>\n      <td>51.0</td>\n      <td>NaN</td>\n      <td>2006.0</td>\n      <td>2013.0</td>\n      <td>Steve Shill</td>\n      <td>Michael C. Hall, Julie Benz, Jennifer Carpente...</td>\n    </tr>\n    <tr>\n      <th>8509</th>\n      <td>Avatar: The Last Airbender</td>\n      <td>\\nAnimation, Action, Adventure</td>\n      <td>9.8</td>\n      <td>\\nZuko battles his sister with Katara's help f...</td>\n      <td>5283.0</td>\n      <td>92.0</td>\n      <td>NaN</td>\n      <td>2005.0</td>\n      <td>2008.0</td>\n      <td>Joaquim Dos Santos</td>\n      <td>Zach Tyler, Mae Whitman, Jack De Sena, Michael...</td>\n    </tr>\n    <tr>\n      <th>8541</th>\n      <td>The Midnight Gospel</td>\n      <td>\\nAnimation, Adventure, Comedy</td>\n      <td>9.7</td>\n      <td>\\nClancy joins his mother on an emotional jour...</td>\n      <td>1731.0</td>\n      <td>36.0</td>\n      <td>NaN</td>\n      <td>2020.0</td>\n      <td>2020.0</td>\n      <td>NaN</td>\n      <td>Joey Diaz, Deneen Fendig, Phil Hendrie, Steve ...</td>\n    </tr>\n    <tr>\n      <th>...</th>\n      <td>...</td>\n      <td>...</td>\n      <td>...</td>\n      <td>...</td>\n      <td>...</td>\n      <td>...</td>\n      <td>...</td>\n      <td>...</td>\n      <td>...</td>\n      <td>...</td>\n      <td>...</td>\n    </tr>\n    <tr>\n      <th>9904</th>\n      <td>Pretty Smart</td>\n      <td>\\nComedy</td>\n      <td>NaN</td>\n      <td>\\nAdd a Plot\\n</td>\n      <td>NaN</td>\n      <td>NaN</td>\n      <td>NaN</td>\n      <td>NaN</td>\n      <td>NaN</td>\n      <td>Pamela Fryman</td>\n      <td>Cinthya Carmona, Olivia Macklin, Emily Osment,...</td>\n    </tr>\n    <tr>\n      <th>9907</th>\n      <td>Pretty Smart</td>\n      <td>\\nComedy</td>\n      <td>NaN</td>\n      <td>\\nAdd a Plot\\n</td>\n      <td>NaN</td>\n      <td>NaN</td>\n      <td>NaN</td>\n      <td>NaN</td>\n      <td>NaN</td>\n      <td>NaN</td>\n      <td>Cinthya Carmona, Olivia Macklin, Emily Osment,...</td>\n    </tr>\n    <tr>\n      <th>9908</th>\n      <td>Pretty Smart</td>\n      <td>\\nComedy</td>\n      <td>NaN</td>\n      <td>\\nAdd a Plot\\n</td>\n      <td>NaN</td>\n      <td>NaN</td>\n      <td>NaN</td>\n      <td>NaN</td>\n      <td>NaN</td>\n      <td>NaN</td>\n      <td>Robert Belushi, Cinthya Carmona, Olivia Mackli...</td>\n    </tr>\n    <tr>\n      <th>9909</th>\n      <td>Pretty Smart</td>\n      <td>\\nComedy</td>\n      <td>NaN</td>\n      <td>\\nAdd a Plot\\n</td>\n      <td>NaN</td>\n      <td>NaN</td>\n      <td>NaN</td>\n      <td>NaN</td>\n      <td>NaN</td>\n      <td>NaN</td>\n      <td>Cinthya Carmona, Santana Dempsey, David Gridle...</td>\n    </tr>\n    <tr>\n      <th>9910</th>\n      <td>Pretty Smart</td>\n      <td>\\nComedy</td>\n      <td>NaN</td>\n      <td>\\nAdd a Plot\\n</td>\n      <td>NaN</td>\n      <td>NaN</td>\n      <td>NaN</td>\n      <td>NaN</td>\n      <td>NaN</td>\n      <td>Jody Margolin Hahn</td>\n      <td>Cinthya Carmona, Olivia Macklin, Emily Osment,...</td>\n    </tr>\n  </tbody>\n</table>\n<p>9548 rows × 11 columns</p>\n</div>"
     },
     "execution_count": 98,
     "metadata": {},
     "output_type": "execute_result"
    }
   ],
   "source": [
    "'''\n",
    "7. Sort your data based on multiple variables. \n",
    "'''\n",
    "\n",
    "movies.sort_values(by = ['avg_rating', 'gross', 'year_end'], ascending = [False, False, False], na_position = 'last')"
   ],
   "metadata": {
    "collapsed": false,
    "ExecuteTime": {
     "end_time": "2023-10-19T03:23:01.125828700Z",
     "start_time": "2023-10-19T03:23:01.114044800Z"
    }
   }
  },
  {
   "cell_type": "code",
   "execution_count": 101,
   "outputs": [
    {
     "data": {
      "text/plain": "                           title                                     genre  \\\n3                 Rick and Morty  Animation, Adventure, Comedy               \n16                  Breaking Bad        Crime, Drama, Thriller               \n104                     Sherlock         Crime, Drama, Mystery               \n129   Avatar: The Last Airbender  Animation, Action, Adventure               \n247     Hagane no renkinjutsushi  Animation, Action, Adventure               \n...                          ...                                       ...   \n9890                      Dexter         Crime, Drama, Mystery               \n9891                      Dexter         Crime, Drama, Mystery               \n9892                      Dexter         Crime, Drama, Mystery               \n9895                      Dexter         Crime, Drama, Mystery               \n9900                      Dexter         Crime, Drama, Mystery               \n\n      avg_rating                                        description  \\\n3            9.2  \\nAn animated series that follows the exploits...   \n16           9.4  \\nA high school chemistry teacher diagnosed wi...   \n104          9.1  \\nA modern update finds the famous sleuth and ...   \n129          9.3  \\nIn a war-torn world of elemental magic, a yo...   \n247          9.1  \\nTwo brothers search for a Philosopher's Ston...   \n...          ...                                                ...   \n9890         9.2  \\nThe disappearance of a ten-year-old boy forc...   \n9891         9.5  \\nDexter must buy time to protect himself when...   \n9892         9.8  \\nDexter and Arthur find themselves on a colli...   \n9895         9.2  \\nDexter gets some much-needed R&R time with R...   \n9900         9.4  \\nDexter learns more about Arthur's bizarre an...   \n\n       nb_votes  run_time  gross  year_start  year_end       director  \\\n3      414849.0      23.0    NaN      2013.0    2013.0            NaN   \n16    1552311.0      49.0    NaN      2008.0    2013.0            NaN   \n104    839029.0      88.0    NaN      2010.0    2017.0            NaN   \n129    265845.0      23.0    NaN      2005.0    2008.0            NaN   \n247    134855.0      24.0    NaN      2009.0    2012.0            NaN   \n...         ...       ...    ...         ...       ...            ...   \n9890     4205.0      57.0    NaN      2006.0    2013.0   Keith Gordon   \n9891     5437.0      51.0    NaN      2006.0    2013.0  S.J. Clarkson   \n9892    11638.0      51.0    NaN      2006.0    2013.0    Steve Shill   \n9895     4256.0      55.0    NaN      2006.0    2013.0      John Dahl   \n9900     5072.0      51.0    NaN      2006.0    2013.0      John Dahl   \n\n                                                  stars  \n3     Justin Roiland, Chris Parnell, Spencer Grammer...  \n16    Bryan Cranston, Aaron Paul, Anna Gunn, Betsy B...  \n104   Benedict Cumberbatch, Martin Freeman, Una Stub...  \n129   Dee Bradley Baker, Zach Tyler, Mae Whitman, Ja...  \n247   Kent Williams, Iemasa Kayumi, Vic Mignogna, Ro...  \n...                                                 ...  \n9890  Michael C. Hall, Julie Benz, Jennifer Carpente...  \n9891  Michael C. Hall, Julie Benz, Jennifer Carpente...  \n9892  Michael C. Hall, Julie Benz, Jennifer Carpente...  \n9895  Michael C. Hall, Julie Benz, Jennifer Carpente...  \n9900  Michael C. Hall, Julie Benz, Jennifer Carpente...  \n\n[149 rows x 11 columns]",
      "text/html": "<div>\n<style scoped>\n    .dataframe tbody tr th:only-of-type {\n        vertical-align: middle;\n    }\n\n    .dataframe tbody tr th {\n        vertical-align: top;\n    }\n\n    .dataframe thead th {\n        text-align: right;\n    }\n</style>\n<table border=\"1\" class=\"dataframe\">\n  <thead>\n    <tr style=\"text-align: right;\">\n      <th></th>\n      <th>title</th>\n      <th>genre</th>\n      <th>avg_rating</th>\n      <th>description</th>\n      <th>nb_votes</th>\n      <th>run_time</th>\n      <th>gross</th>\n      <th>year_start</th>\n      <th>year_end</th>\n      <th>director</th>\n      <th>stars</th>\n    </tr>\n  </thead>\n  <tbody>\n    <tr>\n      <th>3</th>\n      <td>Rick and Morty</td>\n      <td>Animation, Adventure, Comedy</td>\n      <td>9.2</td>\n      <td>\\nAn animated series that follows the exploits...</td>\n      <td>414849.0</td>\n      <td>23.0</td>\n      <td>NaN</td>\n      <td>2013.0</td>\n      <td>2013.0</td>\n      <td>NaN</td>\n      <td>Justin Roiland, Chris Parnell, Spencer Grammer...</td>\n    </tr>\n    <tr>\n      <th>16</th>\n      <td>Breaking Bad</td>\n      <td>Crime, Drama, Thriller</td>\n      <td>9.4</td>\n      <td>\\nA high school chemistry teacher diagnosed wi...</td>\n      <td>1552311.0</td>\n      <td>49.0</td>\n      <td>NaN</td>\n      <td>2008.0</td>\n      <td>2013.0</td>\n      <td>NaN</td>\n      <td>Bryan Cranston, Aaron Paul, Anna Gunn, Betsy B...</td>\n    </tr>\n    <tr>\n      <th>104</th>\n      <td>Sherlock</td>\n      <td>Crime, Drama, Mystery</td>\n      <td>9.1</td>\n      <td>\\nA modern update finds the famous sleuth and ...</td>\n      <td>839029.0</td>\n      <td>88.0</td>\n      <td>NaN</td>\n      <td>2010.0</td>\n      <td>2017.0</td>\n      <td>NaN</td>\n      <td>Benedict Cumberbatch, Martin Freeman, Una Stub...</td>\n    </tr>\n    <tr>\n      <th>129</th>\n      <td>Avatar: The Last Airbender</td>\n      <td>Animation, Action, Adventure</td>\n      <td>9.3</td>\n      <td>\\nIn a war-torn world of elemental magic, a yo...</td>\n      <td>265845.0</td>\n      <td>23.0</td>\n      <td>NaN</td>\n      <td>2005.0</td>\n      <td>2008.0</td>\n      <td>NaN</td>\n      <td>Dee Bradley Baker, Zach Tyler, Mae Whitman, Ja...</td>\n    </tr>\n    <tr>\n      <th>247</th>\n      <td>Hagane no renkinjutsushi</td>\n      <td>Animation, Action, Adventure</td>\n      <td>9.1</td>\n      <td>\\nTwo brothers search for a Philosopher's Ston...</td>\n      <td>134855.0</td>\n      <td>24.0</td>\n      <td>NaN</td>\n      <td>2009.0</td>\n      <td>2012.0</td>\n      <td>NaN</td>\n      <td>Kent Williams, Iemasa Kayumi, Vic Mignogna, Ro...</td>\n    </tr>\n    <tr>\n      <th>...</th>\n      <td>...</td>\n      <td>...</td>\n      <td>...</td>\n      <td>...</td>\n      <td>...</td>\n      <td>...</td>\n      <td>...</td>\n      <td>...</td>\n      <td>...</td>\n      <td>...</td>\n      <td>...</td>\n    </tr>\n    <tr>\n      <th>9890</th>\n      <td>Dexter</td>\n      <td>Crime, Drama, Mystery</td>\n      <td>9.2</td>\n      <td>\\nThe disappearance of a ten-year-old boy forc...</td>\n      <td>4205.0</td>\n      <td>57.0</td>\n      <td>NaN</td>\n      <td>2006.0</td>\n      <td>2013.0</td>\n      <td>Keith Gordon</td>\n      <td>Michael C. Hall, Julie Benz, Jennifer Carpente...</td>\n    </tr>\n    <tr>\n      <th>9891</th>\n      <td>Dexter</td>\n      <td>Crime, Drama, Mystery</td>\n      <td>9.5</td>\n      <td>\\nDexter must buy time to protect himself when...</td>\n      <td>5437.0</td>\n      <td>51.0</td>\n      <td>NaN</td>\n      <td>2006.0</td>\n      <td>2013.0</td>\n      <td>S.J. Clarkson</td>\n      <td>Michael C. Hall, Julie Benz, Jennifer Carpente...</td>\n    </tr>\n    <tr>\n      <th>9892</th>\n      <td>Dexter</td>\n      <td>Crime, Drama, Mystery</td>\n      <td>9.8</td>\n      <td>\\nDexter and Arthur find themselves on a colli...</td>\n      <td>11638.0</td>\n      <td>51.0</td>\n      <td>NaN</td>\n      <td>2006.0</td>\n      <td>2013.0</td>\n      <td>Steve Shill</td>\n      <td>Michael C. Hall, Julie Benz, Jennifer Carpente...</td>\n    </tr>\n    <tr>\n      <th>9895</th>\n      <td>Dexter</td>\n      <td>Crime, Drama, Mystery</td>\n      <td>9.2</td>\n      <td>\\nDexter gets some much-needed R&amp;R time with R...</td>\n      <td>4256.0</td>\n      <td>55.0</td>\n      <td>NaN</td>\n      <td>2006.0</td>\n      <td>2013.0</td>\n      <td>John Dahl</td>\n      <td>Michael C. Hall, Julie Benz, Jennifer Carpente...</td>\n    </tr>\n    <tr>\n      <th>9900</th>\n      <td>Dexter</td>\n      <td>Crime, Drama, Mystery</td>\n      <td>9.4</td>\n      <td>\\nDexter learns more about Arthur's bizarre an...</td>\n      <td>5072.0</td>\n      <td>51.0</td>\n      <td>NaN</td>\n      <td>2006.0</td>\n      <td>2013.0</td>\n      <td>John Dahl</td>\n      <td>Michael C. Hall, Julie Benz, Jennifer Carpente...</td>\n    </tr>\n  </tbody>\n</table>\n<p>149 rows × 11 columns</p>\n</div>"
     },
     "execution_count": 101,
     "metadata": {},
     "output_type": "execute_result"
    }
   ],
   "source": [
    "''' \n",
    "8. Filter your data based on some condition. \n",
    "'''\n",
    "\n",
    "movies.query('avg_rating > 9.0')"
   ],
   "metadata": {
    "collapsed": false,
    "ExecuteTime": {
     "end_time": "2023-10-19T03:25:57.837796500Z",
     "start_time": "2023-10-19T03:25:57.826272200Z"
    }
   }
  },
  {
   "cell_type": "code",
   "execution_count": 103,
   "outputs": [
    {
     "data": {
      "text/plain": "0        action, horror, thriller            \n1    animation, action, adventure            \n2         drama, horror, thriller            \n3    animation, adventure, comedy            \n4           action, crime, horror            \nName: genre, dtype: object"
     },
     "execution_count": 103,
     "metadata": {},
     "output_type": "execute_result"
    }
   ],
   "source": [
    "'''\n",
    "9. Convert all the string values to upper or lower cases in one column.\n",
    "'''\n",
    "\n",
    "movies.genre = movies.genre.str.lower()\n",
    "\n",
    "movies.genre.head()"
   ],
   "metadata": {
    "collapsed": false,
    "ExecuteTime": {
     "end_time": "2023-10-19T03:26:54.346489800Z",
     "start_time": "2023-10-19T03:26:54.336212500Z"
    }
   }
  },
  {
   "cell_type": "code",
   "execution_count": 118,
   "outputs": [
    {
     "data": {
      "text/plain": "         avg_rating                 nb_votes                      \\\n               mean  min  max           mean       min       max   \nyear_end                                                           \n2023.0          NaN  NaN  NaN            NaN       NaN       NaN   \n2022.0     8.425000  8.1  9.0  422388.500000  242582.0  885805.0   \n2021.0     7.092463  1.1  9.5    4172.653543       6.0  341858.0   \n2020.0     7.111338  2.5  9.9    5867.181296       5.0  459913.0   \n2019.0     6.999591  2.5  9.6    9285.094926       5.0  374263.0   \n...             ...  ...  ...            ...       ...       ...   \n1944.0     5.900000  5.9  5.9     690.000000     690.0     690.0   \n1941.0     7.200000  7.2  7.2  124409.000000  124409.0  124409.0   \n1938.0     5.200000  5.2  5.2      52.000000      52.0      52.0   \n1933.0     5.400000  5.4  5.4      36.000000      36.0      36.0   \n1932.0     6.550000  5.3  7.8   13212.000000      59.0   26365.0   \n\n                 gross                          \n                  mean        min          max  \nyear_end                                        \n2023.0             NaN        NaN          NaN  \n2022.0             NaN        NaN          NaN  \n2021.0             NaN        NaN          NaN  \n2020.0    4.700000e+06  4700000.0    4700000.0  \n2019.0    5.597118e+07    80000.0  390530000.0  \n...                ...        ...          ...  \n1944.0             NaN        NaN          NaN  \n1941.0    1.600000e+06  1600000.0    1600000.0  \n1938.0             NaN        NaN          NaN  \n1933.0             NaN        NaN          NaN  \n1932.0             NaN        NaN          NaN  \n\n[77 rows x 9 columns]",
      "text/html": "<div>\n<style scoped>\n    .dataframe tbody tr th:only-of-type {\n        vertical-align: middle;\n    }\n\n    .dataframe tbody tr th {\n        vertical-align: top;\n    }\n\n    .dataframe thead tr th {\n        text-align: left;\n    }\n\n    .dataframe thead tr:last-of-type th {\n        text-align: right;\n    }\n</style>\n<table border=\"1\" class=\"dataframe\">\n  <thead>\n    <tr>\n      <th></th>\n      <th colspan=\"3\" halign=\"left\">avg_rating</th>\n      <th colspan=\"3\" halign=\"left\">nb_votes</th>\n      <th colspan=\"3\" halign=\"left\">gross</th>\n    </tr>\n    <tr>\n      <th></th>\n      <th>mean</th>\n      <th>min</th>\n      <th>max</th>\n      <th>mean</th>\n      <th>min</th>\n      <th>max</th>\n      <th>mean</th>\n      <th>min</th>\n      <th>max</th>\n    </tr>\n    <tr>\n      <th>year_end</th>\n      <th></th>\n      <th></th>\n      <th></th>\n      <th></th>\n      <th></th>\n      <th></th>\n      <th></th>\n      <th></th>\n      <th></th>\n    </tr>\n  </thead>\n  <tbody>\n    <tr>\n      <th>2023.0</th>\n      <td>NaN</td>\n      <td>NaN</td>\n      <td>NaN</td>\n      <td>NaN</td>\n      <td>NaN</td>\n      <td>NaN</td>\n      <td>NaN</td>\n      <td>NaN</td>\n      <td>NaN</td>\n    </tr>\n    <tr>\n      <th>2022.0</th>\n      <td>8.425000</td>\n      <td>8.1</td>\n      <td>9.0</td>\n      <td>422388.500000</td>\n      <td>242582.0</td>\n      <td>885805.0</td>\n      <td>NaN</td>\n      <td>NaN</td>\n      <td>NaN</td>\n    </tr>\n    <tr>\n      <th>2021.0</th>\n      <td>7.092463</td>\n      <td>1.1</td>\n      <td>9.5</td>\n      <td>4172.653543</td>\n      <td>6.0</td>\n      <td>341858.0</td>\n      <td>NaN</td>\n      <td>NaN</td>\n      <td>NaN</td>\n    </tr>\n    <tr>\n      <th>2020.0</th>\n      <td>7.111338</td>\n      <td>2.5</td>\n      <td>9.9</td>\n      <td>5867.181296</td>\n      <td>5.0</td>\n      <td>459913.0</td>\n      <td>4.700000e+06</td>\n      <td>4700000.0</td>\n      <td>4700000.0</td>\n    </tr>\n    <tr>\n      <th>2019.0</th>\n      <td>6.999591</td>\n      <td>2.5</td>\n      <td>9.6</td>\n      <td>9285.094926</td>\n      <td>5.0</td>\n      <td>374263.0</td>\n      <td>5.597118e+07</td>\n      <td>80000.0</td>\n      <td>390530000.0</td>\n    </tr>\n    <tr>\n      <th>...</th>\n      <td>...</td>\n      <td>...</td>\n      <td>...</td>\n      <td>...</td>\n      <td>...</td>\n      <td>...</td>\n      <td>...</td>\n      <td>...</td>\n      <td>...</td>\n    </tr>\n    <tr>\n      <th>1944.0</th>\n      <td>5.900000</td>\n      <td>5.9</td>\n      <td>5.9</td>\n      <td>690.000000</td>\n      <td>690.0</td>\n      <td>690.0</td>\n      <td>NaN</td>\n      <td>NaN</td>\n      <td>NaN</td>\n    </tr>\n    <tr>\n      <th>1941.0</th>\n      <td>7.200000</td>\n      <td>7.2</td>\n      <td>7.2</td>\n      <td>124409.000000</td>\n      <td>124409.0</td>\n      <td>124409.0</td>\n      <td>1.600000e+06</td>\n      <td>1600000.0</td>\n      <td>1600000.0</td>\n    </tr>\n    <tr>\n      <th>1938.0</th>\n      <td>5.200000</td>\n      <td>5.2</td>\n      <td>5.2</td>\n      <td>52.000000</td>\n      <td>52.0</td>\n      <td>52.0</td>\n      <td>NaN</td>\n      <td>NaN</td>\n      <td>NaN</td>\n    </tr>\n    <tr>\n      <th>1933.0</th>\n      <td>5.400000</td>\n      <td>5.4</td>\n      <td>5.4</td>\n      <td>36.000000</td>\n      <td>36.0</td>\n      <td>36.0</td>\n      <td>NaN</td>\n      <td>NaN</td>\n      <td>NaN</td>\n    </tr>\n    <tr>\n      <th>1932.0</th>\n      <td>6.550000</td>\n      <td>5.3</td>\n      <td>7.8</td>\n      <td>13212.000000</td>\n      <td>59.0</td>\n      <td>26365.0</td>\n      <td>NaN</td>\n      <td>NaN</td>\n      <td>NaN</td>\n    </tr>\n  </tbody>\n</table>\n<p>77 rows × 9 columns</p>\n</div>"
     },
     "execution_count": 118,
     "metadata": {},
     "output_type": "execute_result"
    }
   ],
   "source": [
    "'''\n",
    "11. Group your dataset by one column, and get the mean, min, and max values by group. Groupby(), agg() or .apply()\n",
    "'''\n",
    "\n",
    "movies.groupby('year_end')[['avg_rating', 'nb_votes', 'gross']].agg(['mean', 'min', 'max']).sort_index(ascending = False)"
   ],
   "metadata": {
    "collapsed": false,
    "ExecuteTime": {
     "end_time": "2023-10-19T03:34:15.584979300Z",
     "start_time": "2023-10-19T03:34:15.561161500Z"
    }
   }
  },
  {
   "cell_type": "code",
   "execution_count": 121,
   "outputs": [
    {
     "data": {
      "text/plain": "                     avg_rating   nb_votes      gross\nyear_start year_end                                  \n2023.0     2023.0           0.0        0.0        0.0\n2022.0     2022.0           0.0        0.0        0.0\n2021.0     2021.0        4751.8  2180210.0        0.0\n2020.0     2021.0         387.1    31421.0        0.0\n           2020.0       10151.6  6335168.0  4700000.0\n...                         ...        ...        ...\n1944.0     1944.0           5.9      690.0        0.0\n1941.0     1941.0           7.2   124409.0  1600000.0\n1938.0     1938.0           5.2       52.0        0.0\n1933.0     1933.0           5.4       36.0        0.0\n1932.0     1932.0          13.1    26424.0        0.0\n\n[232 rows x 3 columns]",
      "text/html": "<div>\n<style scoped>\n    .dataframe tbody tr th:only-of-type {\n        vertical-align: middle;\n    }\n\n    .dataframe tbody tr th {\n        vertical-align: top;\n    }\n\n    .dataframe thead th {\n        text-align: right;\n    }\n</style>\n<table border=\"1\" class=\"dataframe\">\n  <thead>\n    <tr style=\"text-align: right;\">\n      <th></th>\n      <th></th>\n      <th>avg_rating</th>\n      <th>nb_votes</th>\n      <th>gross</th>\n    </tr>\n    <tr>\n      <th>year_start</th>\n      <th>year_end</th>\n      <th></th>\n      <th></th>\n      <th></th>\n    </tr>\n  </thead>\n  <tbody>\n    <tr>\n      <th>2023.0</th>\n      <th>2023.0</th>\n      <td>0.0</td>\n      <td>0.0</td>\n      <td>0.0</td>\n    </tr>\n    <tr>\n      <th>2022.0</th>\n      <th>2022.0</th>\n      <td>0.0</td>\n      <td>0.0</td>\n      <td>0.0</td>\n    </tr>\n    <tr>\n      <th>2021.0</th>\n      <th>2021.0</th>\n      <td>4751.8</td>\n      <td>2180210.0</td>\n      <td>0.0</td>\n    </tr>\n    <tr>\n      <th rowspan=\"2\" valign=\"top\">2020.0</th>\n      <th>2021.0</th>\n      <td>387.1</td>\n      <td>31421.0</td>\n      <td>0.0</td>\n    </tr>\n    <tr>\n      <th>2020.0</th>\n      <td>10151.6</td>\n      <td>6335168.0</td>\n      <td>4700000.0</td>\n    </tr>\n    <tr>\n      <th>...</th>\n      <th>...</th>\n      <td>...</td>\n      <td>...</td>\n      <td>...</td>\n    </tr>\n    <tr>\n      <th>1944.0</th>\n      <th>1944.0</th>\n      <td>5.9</td>\n      <td>690.0</td>\n      <td>0.0</td>\n    </tr>\n    <tr>\n      <th>1941.0</th>\n      <th>1941.0</th>\n      <td>7.2</td>\n      <td>124409.0</td>\n      <td>1600000.0</td>\n    </tr>\n    <tr>\n      <th>1938.0</th>\n      <th>1938.0</th>\n      <td>5.2</td>\n      <td>52.0</td>\n      <td>0.0</td>\n    </tr>\n    <tr>\n      <th>1933.0</th>\n      <th>1933.0</th>\n      <td>5.4</td>\n      <td>36.0</td>\n      <td>0.0</td>\n    </tr>\n    <tr>\n      <th>1932.0</th>\n      <th>1932.0</th>\n      <td>13.1</td>\n      <td>26424.0</td>\n      <td>0.0</td>\n    </tr>\n  </tbody>\n</table>\n<p>232 rows × 3 columns</p>\n</div>"
     },
     "execution_count": 121,
     "metadata": {},
     "output_type": "execute_result"
    }
   ],
   "source": [
    "'''\n",
    "12. Group your dataset by two columns and then sort the aggregated results within the groups. \n",
    "'''\n",
    "\n",
    "movies.groupby(['year_start','year_end'])[['avg_rating', 'nb_votes', 'gross']].sum().sort_values(by = ['year_start','year_end'], ascending = False)"
   ],
   "metadata": {
    "collapsed": false,
    "ExecuteTime": {
     "end_time": "2023-10-19T03:37:36.614944800Z",
     "start_time": "2023-10-19T03:37:36.601547800Z"
    }
   }
  },
  {
   "cell_type": "markdown",
   "source": [
    "# Conclusions  \n",
    "\n",
    "After exploring your dataset, provide a short summary of what you noticed from this dataset. What would you explore further with more time?"
   ],
   "metadata": {
    "id": "tujjevRpXEen"
   }
  },
  {
   "cell_type": "markdown",
   "source": [
    "The data indicates a significant increase in the ratings and number of votes in movies / series that completed in recent years. It also seems that gross earnings has increased, though we have to assume that the MOST recent years (i.e. 2021+) suffer from missing data.\n",
    "\n",
    "In terms of next steps, I'd be curious to see which genres, stars and directors are associated with higher grossing and higher rated films."
   ],
   "metadata": {
    "collapsed": false
   }
  }
 ]
}

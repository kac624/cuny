{
 "cells": [
  {
   "cell_type": "code",
   "execution_count": 1,
   "metadata": {},
   "outputs": [],
   "source": [
    "# core\n",
    "import pandas as pd\n",
    "import numpy as np\n",
    "import matplotlib.pyplot as plt\n",
    "import seaborn as sns\n",
    "\n",
    "# modeling\n",
    "from sklearn.metrics import accuracy_score, precision_score, recall_score, f1_score, confusion_matrix\n",
    "from sklearn.feature_extraction.text import TfidfVectorizer\n",
    "\n",
    "import torch\n",
    "import torch.nn as nn\n",
    "from torch.utils.data import DataLoader\n",
    "\n",
    "# functional\n",
    "import pickle\n",
    "from itertools import product\n",
    "from functools import partial\n",
    "from torch.multiprocessing import Pool, set_start_method\n",
    "import time\n",
    "\n",
    "# custom\n",
    "from scripts.classes import RnnTextClassifier, RnnDataset\n",
    "from scripts.functions import tune_rnn\n",
    "\n",
    "# warnings\n",
    "import warnings\n",
    "warnings.simplefilter(action='ignore', category=FutureWarning)"
   ]
  },
  {
   "cell_type": "code",
   "execution_count": 2,
   "metadata": {},
   "outputs": [],
   "source": [
    "try:\n",
    "    set_start_method('spawn')\n",
    "except RuntimeError as e:\n",
    "    print(\"The start method has already been set.\")"
   ]
  },
  {
   "cell_type": "markdown",
   "metadata": {},
   "source": [
    "## Load Data"
   ]
  },
  {
   "cell_type": "code",
   "execution_count": 3,
   "metadata": {},
   "outputs": [],
   "source": [
    "data_names = ['tfidf_train', 'tfidf_test', 'y_train_binary', 'y_test_binary']\n",
    "\n",
    "for var_name in data_names:\n",
    "    with open(f'data/{var_name}.pkl', 'rb') as f:\n",
    "        globals()[var_name] = pickle.load(f)"
   ]
  },
  {
   "cell_type": "markdown",
   "metadata": {},
   "source": [
    "## Final Tuning"
   ]
  },
  {
   "cell_type": "code",
   "execution_count": 4,
   "metadata": {},
   "outputs": [
    {
     "data": {
      "text/plain": [
       "36"
      ]
     },
     "execution_count": 4,
     "metadata": {},
     "output_type": "execute_result"
    }
   ],
   "source": [
    "hp_space = {\n",
    "    '0_hidden_size': [150, 200],\n",
    "    '1_num_layers': [2, 3, 4],\n",
    "    '2_dropout': [0.2, 0.3],\n",
    "    '3_batch_size': [128, 256, 512],\n",
    "    '4_optimizer': [torch.optim.RMSprop],\n",
    "    '5_learning_rate': [0.1]\n",
    "}\n",
    "\n",
    "hp_combos = list(product(*hp_space.values())) # [0:2]\n",
    "\n",
    "len(hp_combos)"
   ]
  },
  {
   "cell_type": "code",
   "execution_count": 5,
   "metadata": {},
   "outputs": [],
   "source": [
    "tune_rnn_f1 = partial(\n",
    "    tune_rnn, \n",
    "    X_train = tfidf_train, X_test = tfidf_test, \n",
    "    y_train = y_train_binary.unsqueeze(1), \n",
    "    y_test = y_test_binary.unsqueeze(1), \n",
    "    metric = f1_score\n",
    ")"
   ]
  },
  {
   "cell_type": "code",
   "execution_count": 6,
   "metadata": {},
   "outputs": [
    {
     "data": {
      "text/plain": [
       "{'0_hidden_size': 200,\n",
       " '1_num_layers': 2,\n",
       " '2_dropout': 0.3,\n",
       " '3_batch_size': 256,\n",
       " '4_optimizer': torch.optim.rmsprop.RMSprop,\n",
       " '5_learning_rate': 0.1}"
      ]
     },
     "execution_count": 6,
     "metadata": {},
     "output_type": "execute_result"
    }
   ],
   "source": [
    "with Pool(processes = 12) as pool:\n",
    "    results_f1 = pool.map(tune_rnn_f1, hp_combos)\n",
    "\n",
    "with open(f'data/hp_result_final.pkl', 'wb') as f:\n",
    "    pickle.dump(results_f1, f)\n",
    "\n",
    "best_result_idx = results_f1.index(max(results_f1))\n",
    "best_hps_f1 = hp_combos[best_result_idx]\n",
    "best_hps_f1 = dict(zip(hp_space.keys(), best_hps_f1))\n",
    "\n",
    "best_hps_f1"
   ]
  },
  {
   "cell_type": "code",
   "execution_count": 8,
   "metadata": {},
   "outputs": [
    {
     "data": {
      "image/png": "[encoded data removed]",
      "text/plain": [
       "<Figure size 640x480 with 1 Axes>"
      ]
     },
     "metadata": {},
     "output_type": "display_data"
    }
   ],
   "source": [
    "fig, ax = plt.subplots()\n",
    "sns.histplot(results_f1, ax = ax, kde = True)\n",
    "ax.set_title('Final Tuning - F1')\n",
    "plt.show()"
   ]
  },
  {
   "cell_type": "code",
   "execution_count": 10,
   "metadata": {},
   "outputs": [
    {
     "data": {
      "text/html": [
       "<div>\n",
       "<style scoped>\n",
       "    .dataframe tbody tr th:only-of-type {\n",
       "        vertical-align: middle;\n",
       "    }\n",
       "\n",
       "    .dataframe tbody tr th {\n",
       "        vertical-align: top;\n",
       "    }\n",
       "\n",
       "    .dataframe thead th {\n",
       "        text-align: right;\n",
       "    }\n",
       "</style>\n",
       "<table border=\"1\" class=\"dataframe\">\n",
       "  <thead>\n",
       "    <tr style=\"text-align: right;\">\n",
       "      <th></th>\n",
       "      <th>0_hidden_size</th>\n",
       "      <th>1_num_layers</th>\n",
       "      <th>2_dropout</th>\n",
       "      <th>3_batch_size</th>\n",
       "      <th>4_optimizer</th>\n",
       "      <th>5_learning_rate</th>\n",
       "      <th>f1</th>\n",
       "    </tr>\n",
       "  </thead>\n",
       "  <tbody>\n",
       "    <tr>\n",
       "      <th>0</th>\n",
       "      <td>200</td>\n",
       "      <td>2</td>\n",
       "      <td>0.3</td>\n",
       "      <td>256</td>\n",
       "      <td>RMSprop</td>\n",
       "      <td>0.1</td>\n",
       "      <td>0.607728</td>\n",
       "    </tr>\n",
       "    <tr>\n",
       "      <th>1</th>\n",
       "      <td>200</td>\n",
       "      <td>4</td>\n",
       "      <td>0.3</td>\n",
       "      <td>512</td>\n",
       "      <td>RMSprop</td>\n",
       "      <td>0.1</td>\n",
       "      <td>0.607692</td>\n",
       "    </tr>\n",
       "    <tr>\n",
       "      <th>2</th>\n",
       "      <td>150</td>\n",
       "      <td>4</td>\n",
       "      <td>0.3</td>\n",
       "      <td>128</td>\n",
       "      <td>RMSprop</td>\n",
       "      <td>0.1</td>\n",
       "      <td>0.607692</td>\n",
       "    </tr>\n",
       "    <tr>\n",
       "      <th>3</th>\n",
       "      <td>200</td>\n",
       "      <td>4</td>\n",
       "      <td>0.3</td>\n",
       "      <td>256</td>\n",
       "      <td>RMSprop</td>\n",
       "      <td>0.1</td>\n",
       "      <td>0.607692</td>\n",
       "    </tr>\n",
       "    <tr>\n",
       "      <th>4</th>\n",
       "      <td>200</td>\n",
       "      <td>4</td>\n",
       "      <td>0.3</td>\n",
       "      <td>128</td>\n",
       "      <td>RMSprop</td>\n",
       "      <td>0.1</td>\n",
       "      <td>0.607692</td>\n",
       "    </tr>\n",
       "    <tr>\n",
       "      <th>5</th>\n",
       "      <td>200</td>\n",
       "      <td>4</td>\n",
       "      <td>0.2</td>\n",
       "      <td>512</td>\n",
       "      <td>RMSprop</td>\n",
       "      <td>0.1</td>\n",
       "      <td>0.607692</td>\n",
       "    </tr>\n",
       "    <tr>\n",
       "      <th>6</th>\n",
       "      <td>200</td>\n",
       "      <td>4</td>\n",
       "      <td>0.2</td>\n",
       "      <td>128</td>\n",
       "      <td>RMSprop</td>\n",
       "      <td>0.1</td>\n",
       "      <td>0.607692</td>\n",
       "    </tr>\n",
       "    <tr>\n",
       "      <th>7</th>\n",
       "      <td>150</td>\n",
       "      <td>3</td>\n",
       "      <td>0.2</td>\n",
       "      <td>256</td>\n",
       "      <td>RMSprop</td>\n",
       "      <td>0.1</td>\n",
       "      <td>0.607692</td>\n",
       "    </tr>\n",
       "    <tr>\n",
       "      <th>8</th>\n",
       "      <td>150</td>\n",
       "      <td>3</td>\n",
       "      <td>0.2</td>\n",
       "      <td>512</td>\n",
       "      <td>RMSprop</td>\n",
       "      <td>0.1</td>\n",
       "      <td>0.607692</td>\n",
       "    </tr>\n",
       "    <tr>\n",
       "      <th>9</th>\n",
       "      <td>150</td>\n",
       "      <td>4</td>\n",
       "      <td>0.3</td>\n",
       "      <td>512</td>\n",
       "      <td>RMSprop</td>\n",
       "      <td>0.1</td>\n",
       "      <td>0.607692</td>\n",
       "    </tr>\n",
       "    <tr>\n",
       "      <th>10</th>\n",
       "      <td>200</td>\n",
       "      <td>2</td>\n",
       "      <td>0.2</td>\n",
       "      <td>128</td>\n",
       "      <td>RMSprop</td>\n",
       "      <td>0.1</td>\n",
       "      <td>0.600359</td>\n",
       "    </tr>\n",
       "    <tr>\n",
       "      <th>11</th>\n",
       "      <td>200</td>\n",
       "      <td>2</td>\n",
       "      <td>0.3</td>\n",
       "      <td>128</td>\n",
       "      <td>RMSprop</td>\n",
       "      <td>0.1</td>\n",
       "      <td>0.594137</td>\n",
       "    </tr>\n",
       "    <tr>\n",
       "      <th>12</th>\n",
       "      <td>200</td>\n",
       "      <td>3</td>\n",
       "      <td>0.3</td>\n",
       "      <td>512</td>\n",
       "      <td>RMSprop</td>\n",
       "      <td>0.1</td>\n",
       "      <td>0.590015</td>\n",
       "    </tr>\n",
       "    <tr>\n",
       "      <th>13</th>\n",
       "      <td>150</td>\n",
       "      <td>2</td>\n",
       "      <td>0.2</td>\n",
       "      <td>256</td>\n",
       "      <td>RMSprop</td>\n",
       "      <td>0.1</td>\n",
       "      <td>0.588941</td>\n",
       "    </tr>\n",
       "    <tr>\n",
       "      <th>14</th>\n",
       "      <td>150</td>\n",
       "      <td>2</td>\n",
       "      <td>0.2</td>\n",
       "      <td>128</td>\n",
       "      <td>RMSprop</td>\n",
       "      <td>0.1</td>\n",
       "      <td>0.584879</td>\n",
       "    </tr>\n",
       "  </tbody>\n",
       "</table>\n",
       "</div>"
      ],
      "text/plain": [
       "    0_hidden_size  1_num_layers  2_dropout  3_batch_size 4_optimizer  \\\n",
       "0             200             2        0.3           256     RMSprop   \n",
       "1             200             4        0.3           512     RMSprop   \n",
       "2             150             4        0.3           128     RMSprop   \n",
       "3             200             4        0.3           256     RMSprop   \n",
       "4             200             4        0.3           128     RMSprop   \n",
       "5             200             4        0.2           512     RMSprop   \n",
       "6             200             4        0.2           128     RMSprop   \n",
       "7             150             3        0.2           256     RMSprop   \n",
       "8             150             3        0.2           512     RMSprop   \n",
       "9             150             4        0.3           512     RMSprop   \n",
       "10            200             2        0.2           128     RMSprop   \n",
       "11            200             2        0.3           128     RMSprop   \n",
       "12            200             3        0.3           512     RMSprop   \n",
       "13            150             2        0.2           256     RMSprop   \n",
       "14            150             2        0.2           128     RMSprop   \n",
       "\n",
       "    5_learning_rate        f1  \n",
       "0               0.1  0.607728  \n",
       "1               0.1  0.607692  \n",
       "2               0.1  0.607692  \n",
       "3               0.1  0.607692  \n",
       "4               0.1  0.607692  \n",
       "5               0.1  0.607692  \n",
       "6               0.1  0.607692  \n",
       "7               0.1  0.607692  \n",
       "8               0.1  0.607692  \n",
       "9               0.1  0.607692  \n",
       "10              0.1  0.600359  \n",
       "11              0.1  0.594137  \n",
       "12              0.1  0.590015  \n",
       "13              0.1  0.588941  \n",
       "14              0.1  0.584879  "
      ]
     },
     "execution_count": 10,
     "metadata": {},
     "output_type": "execute_result"
    }
   ],
   "source": [
    "results_df = pd.DataFrame(hp_combos, columns = hp_space.keys())\n",
    "results_df['f1'] = results_f1\n",
    "results_df['4_optimizer'] = results_df['4_optimizer'].apply(lambda x: x.__name__)\n",
    "results_df = results_df.sort_values(by = 'f1', ascending = False).reset_index(drop = True)\n",
    "results_df.head(15)"
   ]
  },
  {
   "cell_type": "code",
   "execution_count": 11,
   "metadata": {},
   "outputs": [
    {
     "data": {
      "image/png": "[encoded data removed]",
      "text/plain": [
       "<Figure size 1000x700 with 6 Axes>"
      ]
     },
     "metadata": {},
     "output_type": "display_data"
    }
   ],
   "source": [
    "fig, axes = plt.subplots(2, 3, figsize = (10, 7), sharey = True)\n",
    "top10 = results_df.head(10)\n",
    "for hp, ax in zip(hp_space.keys(), axes.ravel()):\n",
    "    ax.bar(\n",
    "        [str(x) for x in top10[hp].value_counts().index.values],\n",
    "        top10[hp].value_counts().values\n",
    "    )\n",
    "    ax.set_title(hp)\n",
    "    ax.set_xlabel('')\n",
    "plt.show()"
   ]
  },
  {
   "cell_type": "markdown",
   "metadata": {},
   "source": [
    "## Final Hyperparameters\n",
    "\n",
    "1. Hidden size: 200  \n",
    "2. Number of layers: 4  \n",
    "3. Dropout: 0.3  \n",
    "4. Batch size: 512  \n",
    "5. Optimizer: RMSprop  \n",
    "6. Learning Rate: 0.1"
   ]
  },
  {
   "cell_type": "markdown",
   "metadata": {},
   "source": [
    "# Final Model\n",
    "\n",
    "### Rework Data"
   ]
  },
  {
   "cell_type": "code",
   "execution_count": 12,
   "metadata": {},
   "outputs": [],
   "source": [
    "train = pd.read_csv('data/liars_train.csv')\n",
    "test = pd.read_csv('data/liars_test.csv')\n",
    "valid = pd.read_csv('data/liars_valid.csv')\n",
    "\n",
    "train = pd.concat([train, test], axis = 0, ignore_index = True)"
   ]
  },
  {
   "cell_type": "code",
   "execution_count": 13,
   "metadata": {},
   "outputs": [
    {
     "name": "stdout",
     "output_type": "stream",
     "text": [
      "torch.Size([11507, 1000]) torch.Size([1284, 1000])\n"
     ]
    }
   ],
   "source": [
    "tfidf = TfidfVectorizer(stop_words = 'english', ngram_range = (1,2), max_features = 1000)\n",
    "X_train = tfidf.fit_transform(train.statement)\n",
    "X_valid = tfidf.transform(valid.statement)\n",
    "\n",
    "X_train = torch.tensor(X_train.toarray(), dtype = torch.float)\n",
    "X_valid = torch.tensor(X_valid.toarray(), dtype = torch.float)\n",
    "\n",
    "print(X_train.shape, X_valid.shape)"
   ]
  },
  {
   "cell_type": "code",
   "execution_count": 14,
   "metadata": {},
   "outputs": [
    {
     "name": "stdout",
     "output_type": "stream",
     "text": [
      "torch.Size([11507, 1]) torch.Size([1284, 1])\n"
     ]
    }
   ],
   "source": [
    "y_train = train.label\n",
    "y_valid = valid.label\n",
    "\n",
    "# Convert labels to integers\n",
    "false = ['false', 'pants-fire', 'barely-true']\n",
    "true = ['half-true', 'mostly-true', 'true']\n",
    "\n",
    "y_train = torch.tensor(np.where(y_train.isin(false), 1, 0), dtype = torch.float).unsqueeze(1)\n",
    "y_valid = torch.tensor(np.where(y_valid.isin(false), 1, 0), dtype = torch.float).unsqueeze(1)\n",
    "\n",
    "print(y_train.shape, y_valid.shape)"
   ]
  },
  {
   "cell_type": "code",
   "execution_count": 15,
   "metadata": {},
   "outputs": [],
   "source": [
    "rnn = RnnTextClassifier(\n",
    "    input_size = tfidf_train.shape[1], output_size = 1, \n",
    "    hidden_size = 200, num_layers = 4, dropout = 0.3\n",
    ")\n",
    "criterion = nn.BCEWithLogitsLoss()\n",
    "optimizer = torch.optim.RMSprop(rnn.parameters(), lr = 0.1)\n",
    "n_epochs = 2000\n",
    "dataset = RnnDataset(X_train, y_train)\n",
    "data_loader = DataLoader(dataset, batch_size = 512, shuffle = True)"
   ]
  },
  {
   "cell_type": "code",
   "execution_count": 16,
   "metadata": {},
   "outputs": [
    {
     "name": "stdout",
     "output_type": "stream",
     "text": [
      "Completed Epoch: 0 | Loss: 6.5336\n",
      "Elapsed Time: 0.00 min\n",
      "Completed Epoch: 200 | Loss: 2.9863\n",
      "Elapsed Time: 0.62 min\n",
      "Completed Epoch: 400 | Loss: 2.4996\n",
      "Elapsed Time: 1.26 min\n",
      "Completed Epoch: 600 | Loss: 3.1658\n",
      "Elapsed Time: 1.93 min\n",
      "Completed Epoch: 800 | Loss: 0.7392\n",
      "Elapsed Time: 2.60 min\n",
      "Completed Epoch: 1000 | Loss: 3.2890\n",
      "Elapsed Time: 3.27 min\n",
      "Completed Epoch: 1200 | Loss: 5.4804\n",
      "Elapsed Time: 3.94 min\n",
      "Completed Epoch: 1400 | Loss: 5.2073\n",
      "Elapsed Time: 4.62 min\n",
      "Completed Epoch: 1600 | Loss: 8.5731\n",
      "Elapsed Time: 5.29 min\n",
      "Completed Epoch: 1800 | Loss: 1.0727\n",
      "Elapsed Time: 5.96 min\n",
      "Completed Epoch: 2000 | Loss: 6.5438\n",
      "Elapsed Time: 6.63 min\n"
     ]
    }
   ],
   "source": [
    "start = time.perf_counter()\n",
    "\n",
    "for epoch in range(n_epochs+1):\n",
    "\n",
    "    for X_batch, y_batch in data_loader:\n",
    "\n",
    "        y_pred = rnn(X_batch)\n",
    "        loss = criterion(y_pred, y_batch)\n",
    "        \n",
    "        optimizer.zero_grad()\n",
    "        loss.backward()\n",
    "        optimizer.step()\n",
    "\n",
    "    if epoch % (n_epochs / 10) == 0:\n",
    "        print(\n",
    "            f'Completed Epoch: {epoch} | Loss: {loss:.4f}\\n'\n",
    "            f'Elapsed Time: {(time.perf_counter() - start) / 60:.2f} min'\n",
    "        )\n",
    "\n",
    "torch.save(rnn, f'models/rnn_FINAL.pth')"
   ]
  },
  {
   "cell_type": "markdown",
   "metadata": {},
   "source": [
    "## Final Evaluation - Validation Set"
   ]
  },
  {
   "cell_type": "code",
   "execution_count": 17,
   "metadata": {},
   "outputs": [
    {
     "name": "stdout",
     "output_type": "stream",
     "text": [
      "----FINAL RESULTS----\n",
      "Accuracy: 0.4797507788161994\n",
      "Recall: 1.0\n",
      "Precision: 0.4797507788161994\n",
      "\n",
      "[[  0 668]\n",
      " [  0 616]]\n"
     ]
    }
   ],
   "source": [
    "rnn.eval()\n",
    "y_pred = rnn(X_valid)\n",
    "y_pred = torch.sigmoid(y_pred)\n",
    "y_pred = y_pred > 0.5\n",
    "\n",
    "print(\n",
    "    f'----FINAL RESULTS----\\n'\n",
    "    f'Accuracy: {accuracy_score(y_valid, y_pred)}\\n'\n",
    "    f'Recall: {recall_score(y_valid, y_pred)}\\n'\n",
    "    f'Precision: {precision_score(y_valid, y_pred)}\\n'\n",
    "    f'\\n{confusion_matrix(y_valid, y_pred)}'\n",
    ")"
   ]
  },
  {
   "cell_type": "code",
   "execution_count": null,
   "metadata": {},
   "outputs": [],
   "source": []
  },
  {
   "cell_type": "code",
   "execution_count": null,
   "metadata": {},
   "outputs": [],
   "source": []
  },
  {
   "cell_type": "code",
   "execution_count": null,
   "metadata": {},
   "outputs": [],
   "source": []
  }
 ],
 "metadata": {
  "kernelspec": {
   "display_name": "cuny",
   "language": "python",
   "name": "python3"
  },
  "language_info": {
   "codemirror_mode": {
    "name": "ipython",
    "version": 3
   },
   "file_extension": ".py",
   "mimetype": "text/x-python",
   "name": "python",
   "nbconvert_exporter": "python",
   "pygments_lexer": "ipython3",
   "version": "3.11.5"
  }
 },
 "nbformat": 4,
 "nbformat_minor": 2
}

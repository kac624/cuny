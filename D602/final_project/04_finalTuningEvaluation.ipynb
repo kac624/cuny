{
 "cells": [
  {
   "cell_type": "code",
   "execution_count": 1,
   "metadata": {},
   "outputs": [],
   "source": [
    "# core\n",
    "import pandas as pd\n",
    "import numpy as np\n",
    "import matplotlib.pyplot as plt\n",
    "import seaborn as sns\n",
    "\n",
    "# modeling\n",
    "from sklearn.metrics import accuracy_score, precision_score, recall_score, f1_score, confusion_matrix\n",
    "from sklearn.feature_extraction.text import TfidfVectorizer\n",
    "\n",
    "import torch\n",
    "import torch.nn as nn\n",
    "from torch.utils.data import DataLoader\n",
    "\n",
    "# functional\n",
    "import pickle\n",
    "from itertools import product\n",
    "from functools import partial\n",
    "from torch.multiprocessing import Pool, set_start_method\n",
    "import time\n",
    "\n",
    "# custom\n",
    "from scripts.classes import RnnTextClassifier, RnnDataset\n",
    "from scripts.functions import tune_rnn\n",
    "\n",
    "# warnings\n",
    "import warnings\n",
    "warnings.simplefilter(action='ignore', category=FutureWarning)"
   ]
  },
  {
   "cell_type": "code",
   "execution_count": 2,
   "metadata": {},
   "outputs": [],
   "source": [
    "try:\n",
    "    set_start_method('spawn')\n",
    "except RuntimeError as e:\n",
    "    print(\"The start method has already been set.\")"
   ]
  },
  {
   "cell_type": "markdown",
   "metadata": {},
   "source": [
    "## Load Data"
   ]
  },
  {
   "cell_type": "code",
   "execution_count": 3,
   "metadata": {},
   "outputs": [],
   "source": [
    "data_names = ['bert_train', 'bert_test', 'y_train_binary', 'y_test_binary'] # 'tfidf_train', 'tfidf_test', \n",
    "\n",
    "for var_name in data_names:\n",
    "    with open(f'data/{var_name}.pkl', 'rb') as f:\n",
    "        globals()[var_name] = pickle.load(f)"
   ]
  },
  {
   "cell_type": "markdown",
   "metadata": {},
   "source": [
    "## Final Tuning"
   ]
  },
  {
   "cell_type": "code",
   "execution_count": 4,
   "metadata": {},
   "outputs": [
    {
     "data": {
      "text/plain": [
       "243"
      ]
     },
     "execution_count": 4,
     "metadata": {},
     "output_type": "execute_result"
    }
   ],
   "source": [
    "hp_space = {\n",
    "    '0_hidden_size': [120, 150, 180],\n",
    "    '1_num_layers': [1, 2, 3],\n",
    "    '2_dropout': [0.1, 0.2, 0.3],\n",
    "    '3_batch_size': [64, 96, 128],\n",
    "    '4_optimizer': [torch.optim.RMSprop],\n",
    "    '5_learning_rate': [0.01, 0.05, 0.1]\n",
    "}\n",
    "\n",
    "hp_combos = list(product(*hp_space.values())) \n",
    "\n",
    "len(hp_combos)"
   ]
  },
  {
   "cell_type": "code",
   "execution_count": 5,
   "metadata": {},
   "outputs": [],
   "source": [
    "tune_rnn_f1 = partial(\n",
    "    tune_rnn, \n",
    "    X_train = bert_train, X_test = bert_test, \n",
    "    y_train = y_train_binary.unsqueeze(1), \n",
    "    y_test = y_test_binary.unsqueeze(1), \n",
    "    metric = f1_score\n",
    ")"
   ]
  },
  {
   "cell_type": "code",
   "execution_count": 6,
   "metadata": {},
   "outputs": [
    {
     "data": {
      "text/plain": [
       "{'0_hidden_size': 120,\n",
       " '1_num_layers': 1,\n",
       " '2_dropout': 0.1,\n",
       " '3_batch_size': 96,\n",
       " '4_optimizer': torch.optim.rmsprop.RMSprop,\n",
       " '5_learning_rate': 0.01}"
      ]
     },
     "execution_count": 6,
     "metadata": {},
     "output_type": "execute_result"
    }
   ],
   "source": [
    "with Pool(processes = 12) as pool:\n",
    "    results_f1 = pool.map(tune_rnn_f1, hp_combos)\n",
    "\n",
    "with open(f'data/hp_result_final.pkl', 'wb') as f:\n",
    "    pickle.dump(results_f1, f)\n",
    "\n",
    "best_result_idx = results_f1.index(max(results_f1))\n",
    "best_hps_f1 = hp_combos[best_result_idx]\n",
    "best_hps_f1 = dict(zip(hp_space.keys(), best_hps_f1))\n",
    "\n",
    "best_hps_f1"
   ]
  },
  {
   "cell_type": "code",
   "execution_count": 7,
   "metadata": {},
   "outputs": [
    {
     "data": {
      "image/png": "[encoded data removed]",
      "text/plain": [
       "<Figure size 640x480 with 1 Axes>"
      ]
     },
     "metadata": {},
     "output_type": "display_data"
    }
   ],
   "source": [
    "fig, ax = plt.subplots()\n",
    "sns.histplot(results_f1, ax = ax, kde = True)\n",
    "ax.set_title('Final Tuning - F1')\n",
    "plt.show()"
   ]
  },
  {
   "cell_type": "code",
   "execution_count": 8,
   "metadata": {},
   "outputs": [
    {
     "data": {
      "text/html": [
       "<div>\n",
       "<style scoped>\n",
       "    .dataframe tbody tr th:only-of-type {\n",
       "        vertical-align: middle;\n",
       "    }\n",
       "\n",
       "    .dataframe tbody tr th {\n",
       "        vertical-align: top;\n",
       "    }\n",
       "\n",
       "    .dataframe thead th {\n",
       "        text-align: right;\n",
       "    }\n",
       "</style>\n",
       "<table border=\"1\" class=\"dataframe\">\n",
       "  <thead>\n",
       "    <tr style=\"text-align: right;\">\n",
       "      <th></th>\n",
       "      <th>0_hidden_size</th>\n",
       "      <th>1_num_layers</th>\n",
       "      <th>2_dropout</th>\n",
       "      <th>3_batch_size</th>\n",
       "      <th>4_optimizer</th>\n",
       "      <th>5_learning_rate</th>\n",
       "      <th>f1</th>\n",
       "    </tr>\n",
       "  </thead>\n",
       "  <tbody>\n",
       "    <tr>\n",
       "      <th>0</th>\n",
       "      <td>120</td>\n",
       "      <td>1</td>\n",
       "      <td>0.1</td>\n",
       "      <td>96</td>\n",
       "      <td>RMSprop</td>\n",
       "      <td>0.01</td>\n",
       "      <td>0.628169</td>\n",
       "    </tr>\n",
       "    <tr>\n",
       "      <th>1</th>\n",
       "      <td>180</td>\n",
       "      <td>1</td>\n",
       "      <td>0.1</td>\n",
       "      <td>96</td>\n",
       "      <td>RMSprop</td>\n",
       "      <td>0.01</td>\n",
       "      <td>0.624613</td>\n",
       "    </tr>\n",
       "    <tr>\n",
       "      <th>2</th>\n",
       "      <td>120</td>\n",
       "      <td>1</td>\n",
       "      <td>0.3</td>\n",
       "      <td>96</td>\n",
       "      <td>RMSprop</td>\n",
       "      <td>0.01</td>\n",
       "      <td>0.623153</td>\n",
       "    </tr>\n",
       "    <tr>\n",
       "      <th>3</th>\n",
       "      <td>150</td>\n",
       "      <td>1</td>\n",
       "      <td>0.2</td>\n",
       "      <td>64</td>\n",
       "      <td>RMSprop</td>\n",
       "      <td>0.10</td>\n",
       "      <td>0.620359</td>\n",
       "    </tr>\n",
       "    <tr>\n",
       "      <th>4</th>\n",
       "      <td>150</td>\n",
       "      <td>1</td>\n",
       "      <td>0.3</td>\n",
       "      <td>64</td>\n",
       "      <td>RMSprop</td>\n",
       "      <td>0.01</td>\n",
       "      <td>0.619430</td>\n",
       "    </tr>\n",
       "    <tr>\n",
       "      <th>5</th>\n",
       "      <td>150</td>\n",
       "      <td>1</td>\n",
       "      <td>0.3</td>\n",
       "      <td>96</td>\n",
       "      <td>RMSprop</td>\n",
       "      <td>0.01</td>\n",
       "      <td>0.618587</td>\n",
       "    </tr>\n",
       "    <tr>\n",
       "      <th>6</th>\n",
       "      <td>150</td>\n",
       "      <td>1</td>\n",
       "      <td>0.1</td>\n",
       "      <td>96</td>\n",
       "      <td>RMSprop</td>\n",
       "      <td>0.01</td>\n",
       "      <td>0.615764</td>\n",
       "    </tr>\n",
       "    <tr>\n",
       "      <th>7</th>\n",
       "      <td>120</td>\n",
       "      <td>1</td>\n",
       "      <td>0.2</td>\n",
       "      <td>96</td>\n",
       "      <td>RMSprop</td>\n",
       "      <td>0.01</td>\n",
       "      <td>0.613368</td>\n",
       "    </tr>\n",
       "    <tr>\n",
       "      <th>8</th>\n",
       "      <td>150</td>\n",
       "      <td>2</td>\n",
       "      <td>0.1</td>\n",
       "      <td>64</td>\n",
       "      <td>RMSprop</td>\n",
       "      <td>0.05</td>\n",
       "      <td>0.607692</td>\n",
       "    </tr>\n",
       "    <tr>\n",
       "      <th>9</th>\n",
       "      <td>150</td>\n",
       "      <td>1</td>\n",
       "      <td>0.3</td>\n",
       "      <td>128</td>\n",
       "      <td>RMSprop</td>\n",
       "      <td>0.10</td>\n",
       "      <td>0.607692</td>\n",
       "    </tr>\n",
       "    <tr>\n",
       "      <th>10</th>\n",
       "      <td>150</td>\n",
       "      <td>1</td>\n",
       "      <td>0.3</td>\n",
       "      <td>128</td>\n",
       "      <td>RMSprop</td>\n",
       "      <td>0.05</td>\n",
       "      <td>0.607692</td>\n",
       "    </tr>\n",
       "    <tr>\n",
       "      <th>11</th>\n",
       "      <td>150</td>\n",
       "      <td>1</td>\n",
       "      <td>0.3</td>\n",
       "      <td>96</td>\n",
       "      <td>RMSprop</td>\n",
       "      <td>0.10</td>\n",
       "      <td>0.607692</td>\n",
       "    </tr>\n",
       "    <tr>\n",
       "      <th>12</th>\n",
       "      <td>150</td>\n",
       "      <td>1</td>\n",
       "      <td>0.2</td>\n",
       "      <td>96</td>\n",
       "      <td>RMSprop</td>\n",
       "      <td>0.05</td>\n",
       "      <td>0.607692</td>\n",
       "    </tr>\n",
       "    <tr>\n",
       "      <th>13</th>\n",
       "      <td>150</td>\n",
       "      <td>1</td>\n",
       "      <td>0.3</td>\n",
       "      <td>64</td>\n",
       "      <td>RMSprop</td>\n",
       "      <td>0.10</td>\n",
       "      <td>0.607692</td>\n",
       "    </tr>\n",
       "    <tr>\n",
       "      <th>14</th>\n",
       "      <td>180</td>\n",
       "      <td>2</td>\n",
       "      <td>0.1</td>\n",
       "      <td>64</td>\n",
       "      <td>RMSprop</td>\n",
       "      <td>0.01</td>\n",
       "      <td>0.607692</td>\n",
       "    </tr>\n",
       "  </tbody>\n",
       "</table>\n",
       "</div>"
      ],
      "text/plain": [
       "    0_hidden_size  1_num_layers  2_dropout  3_batch_size 4_optimizer  \\\n",
       "0             120             1        0.1            96     RMSprop   \n",
       "1             180             1        0.1            96     RMSprop   \n",
       "2             120             1        0.3            96     RMSprop   \n",
       "3             150             1        0.2            64     RMSprop   \n",
       "4             150             1        0.3            64     RMSprop   \n",
       "5             150             1        0.3            96     RMSprop   \n",
       "6             150             1        0.1            96     RMSprop   \n",
       "7             120             1        0.2            96     RMSprop   \n",
       "8             150             2        0.1            64     RMSprop   \n",
       "9             150             1        0.3           128     RMSprop   \n",
       "10            150             1        0.3           128     RMSprop   \n",
       "11            150             1        0.3            96     RMSprop   \n",
       "12            150             1        0.2            96     RMSprop   \n",
       "13            150             1        0.3            64     RMSprop   \n",
       "14            180             2        0.1            64     RMSprop   \n",
       "\n",
       "    5_learning_rate        f1  \n",
       "0              0.01  0.628169  \n",
       "1              0.01  0.624613  \n",
       "2              0.01  0.623153  \n",
       "3              0.10  0.620359  \n",
       "4              0.01  0.619430  \n",
       "5              0.01  0.618587  \n",
       "6              0.01  0.615764  \n",
       "7              0.01  0.613368  \n",
       "8              0.05  0.607692  \n",
       "9              0.10  0.607692  \n",
       "10             0.05  0.607692  \n",
       "11             0.10  0.607692  \n",
       "12             0.05  0.607692  \n",
       "13             0.10  0.607692  \n",
       "14             0.01  0.607692  "
      ]
     },
     "execution_count": 8,
     "metadata": {},
     "output_type": "execute_result"
    }
   ],
   "source": [
    "results_df = pd.DataFrame(hp_combos, columns = hp_space.keys())\n",
    "results_df['f1'] = results_f1\n",
    "results_df['4_optimizer'] = results_df['4_optimizer'].apply(lambda x: x.__name__)\n",
    "results_df = results_df.sort_values(by = 'f1', ascending = False).reset_index(drop = True)\n",
    "results_df.head(15)"
   ]
  },
  {
   "cell_type": "code",
   "execution_count": 9,
   "metadata": {},
   "outputs": [
    {
     "data": {
      "image/png": "[encoded data removed]",
      "text/plain": [
       "<Figure size 1000x700 with 6 Axes>"
      ]
     },
     "metadata": {},
     "output_type": "display_data"
    }
   ],
   "source": [
    "fig, axes = plt.subplots(2, 3, figsize = (10, 7), sharey = True)\n",
    "top10 = results_df.head(10)\n",
    "for hp, ax in zip(hp_space.keys(), axes.ravel()):\n",
    "    ax.bar(\n",
    "        [str(x) for x in top10[hp].value_counts().index.values],\n",
    "        top10[hp].value_counts().values\n",
    "    )\n",
    "    ax.set_title(hp)\n",
    "    ax.set_xlabel('')\n",
    "plt.show()"
   ]
  },
  {
   "cell_type": "markdown",
   "metadata": {},
   "source": [
    "## Final Hyperparameters\n",
    "\n",
    "1. Hidden size: 150  \n",
    "2. Number of layers: 1  \n",
    "3. Dropout: 0.3  \n",
    "4. Batch size: 96  \n",
    "5. Optimizer: RMSprop  \n",
    "6. Learning Rate: 0.01"
   ]
  },
  {
   "cell_type": "markdown",
   "metadata": {},
   "source": [
    "# Final Model\n",
    "\n",
    "### Rework Data"
   ]
  },
  {
   "cell_type": "code",
   "execution_count": 10,
   "metadata": {},
   "outputs": [],
   "source": [
    "train = pd.read_csv('data/liars_train.csv')\n",
    "test = pd.read_csv('data/liars_test.csv')\n",
    "valid = pd.read_csv('data/liars_valid.csv')\n",
    "\n",
    "train = pd.concat([train, test], axis = 0, ignore_index = True)"
   ]
  },
  {
   "cell_type": "code",
   "execution_count": 11,
   "metadata": {},
   "outputs": [
    {
     "name": "stdout",
     "output_type": "stream",
     "text": [
      "torch.Size([11507, 1000]) torch.Size([1284, 1000])\n"
     ]
    }
   ],
   "source": [
    "tfidf = TfidfVectorizer(stop_words = 'english', ngram_range = (1,2), max_features = 1000)\n",
    "X_train = tfidf.fit_transform(train.statement)\n",
    "X_valid = tfidf.transform(valid.statement)\n",
    "\n",
    "X_train = torch.tensor(X_train.toarray(), dtype = torch.float)\n",
    "X_valid = torch.tensor(X_valid.toarray(), dtype = torch.float)\n",
    "\n",
    "print(X_train.shape, X_valid.shape)"
   ]
  },
  {
   "cell_type": "code",
   "execution_count": 12,
   "metadata": {},
   "outputs": [
    {
     "name": "stdout",
     "output_type": "stream",
     "text": [
      "torch.Size([11507, 1]) torch.Size([1284, 1])\n"
     ]
    }
   ],
   "source": [
    "y_train = train.label\n",
    "y_valid = valid.label\n",
    "\n",
    "# Convert labels to integers\n",
    "false = ['false', 'pants-fire', 'barely-true']\n",
    "true = ['half-true', 'mostly-true', 'true']\n",
    "\n",
    "y_train = torch.tensor(np.where(y_train.isin(false), 1, 0), dtype = torch.float).unsqueeze(1)\n",
    "y_valid = torch.tensor(np.where(y_valid.isin(false), 1, 0), dtype = torch.float).unsqueeze(1)\n",
    "\n",
    "print(y_train.shape, y_valid.shape)"
   ]
  },
  {
   "cell_type": "code",
   "execution_count": 20,
   "metadata": {},
   "outputs": [
    {
     "name": "stderr",
     "output_type": "stream",
     "text": [
      "c:\\Users\\Keith\\miniconda3\\envs\\cuny\\Lib\\site-packages\\torch\\nn\\modules\\rnn.py:82: UserWarning: dropout option adds dropout after all but last recurrent layer, so non-zero dropout expects num_layers greater than 1, but got dropout=0.3 and num_layers=1\n",
      "  warnings.warn(\"dropout option adds dropout after all but last \"\n"
     ]
    }
   ],
   "source": [
    "rnn = RnnTextClassifier(\n",
    "    input_size = X_train.shape[1], output_size = 1, \n",
    "    hidden_size = 150, num_layers = 1, dropout = 0.3\n",
    ")\n",
    "criterion = nn.BCEWithLogitsLoss()\n",
    "optimizer = torch.optim.RMSprop(rnn.parameters(), lr = 0.01)\n",
    "n_epochs = 1000\n",
    "dataset = RnnDataset(X_train, y_train)\n",
    "data_loader = DataLoader(dataset, batch_size = 96, shuffle = True)"
   ]
  },
  {
   "cell_type": "code",
   "execution_count": 21,
   "metadata": {},
   "outputs": [
    {
     "name": "stdout",
     "output_type": "stream",
     "text": [
      "Completed Epoch: 0 | Loss: 0.7005\n",
      "Elapsed Time: 0.00 min\n",
      "Completed Epoch: 100 | Loss: 0.1010\n",
      "Elapsed Time: 0.32 min\n",
      "Completed Epoch: 200 | Loss: 0.0505\n",
      "Elapsed Time: 0.63 min\n",
      "Completed Epoch: 300 | Loss: 0.0109\n",
      "Elapsed Time: 0.94 min\n",
      "Completed Epoch: 400 | Loss: 0.0016\n",
      "Elapsed Time: 1.26 min\n",
      "Completed Epoch: 500 | Loss: 0.0044\n",
      "Elapsed Time: 1.57 min\n",
      "Completed Epoch: 600 | Loss: 0.0033\n",
      "Elapsed Time: 1.88 min\n",
      "Completed Epoch: 700 | Loss: 0.0018\n",
      "Elapsed Time: 2.20 min\n",
      "Completed Epoch: 800 | Loss: 0.1147\n",
      "Elapsed Time: 2.51 min\n",
      "Completed Epoch: 900 | Loss: 0.0205\n",
      "Elapsed Time: 2.83 min\n",
      "Completed Epoch: 1000 | Loss: 0.0203\n",
      "Elapsed Time: 3.16 min\n"
     ]
    }
   ],
   "source": [
    "start = time.perf_counter()\n",
    "\n",
    "for epoch in range(n_epochs+1):\n",
    "\n",
    "    for X_batch, y_batch in data_loader:\n",
    "\n",
    "        y_pred = rnn(X_batch)\n",
    "        loss = criterion(y_pred, y_batch)\n",
    "        \n",
    "        optimizer.zero_grad()\n",
    "        loss.backward()\n",
    "        optimizer.step()\n",
    "\n",
    "    if epoch % (n_epochs / 10) == 0:\n",
    "        print(\n",
    "            f'Completed Epoch: {epoch} | Loss: {loss:.4f}\\n'\n",
    "            f'Elapsed Time: {(time.perf_counter() - start) / 60:.2f} min'\n",
    "        )\n",
    "\n",
    "torch.save(rnn, f'models/rnn_FINAL.pth')"
   ]
  },
  {
   "cell_type": "markdown",
   "metadata": {},
   "source": [
    "## Final Evaluation - Validation Set"
   ]
  },
  {
   "cell_type": "code",
   "execution_count": 22,
   "metadata": {},
   "outputs": [
    {
     "name": "stdout",
     "output_type": "stream",
     "text": [
      "----FINAL RESULTS----\n",
      "Accuracy: 0.5856697819314641\n",
      "Recall: 0.4902597402597403\n",
      "Precision: 0.5807692307692308\n",
      "\n",
      "[[450 218]\n",
      " [314 302]]\n"
     ]
    }
   ],
   "source": [
    "rnn.eval()\n",
    "y_pred = rnn(X_valid)\n",
    "y_pred = torch.sigmoid(y_pred)\n",
    "y_pred = y_pred > 0.5\n",
    "\n",
    "print(\n",
    "    f'----FINAL RESULTS----\\n'\n",
    "    f'Accuracy: {accuracy_score(y_valid, y_pred)}\\n'\n",
    "    f'Recall: {recall_score(y_valid, y_pred)}\\n'\n",
    "    f'Precision: {precision_score(y_valid, y_pred)}\\n'\n",
    "    f'\\n{confusion_matrix(y_valid, y_pred)}'\n",
    ")"
   ]
  }
 ],
 "metadata": {
  "kernelspec": {
   "display_name": "cuny",
   "language": "python",
   "name": "python3"
  },
  "language_info": {
   "codemirror_mode": {
    "name": "ipython",
    "version": 3
   },
   "file_extension": ".py",
   "mimetype": "text/x-python",
   "name": "python",
   "nbconvert_exporter": "python",
   "pygments_lexer": "ipython3",
   "version": "3.11.5"
  }
 },
 "nbformat": 4,
 "nbformat_minor": 2
}
